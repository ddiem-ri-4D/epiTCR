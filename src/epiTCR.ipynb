{
 "cells": [
  {
   "cell_type": "code",
   "execution_count": 100,
   "id": "896c0a76",
   "metadata": {},
   "outputs": [],
   "source": [
    "import numpy as np\n",
    "import time\n",
    "import pickle\n",
    "import pandas as pd\n",
    "from sklearn import svm\n",
    "import seaborn as sns\n",
    "import matplotlib.pyplot as plt\n",
    "import sklearn.metrics as metrics\n",
    "\n",
    "from sklearn.model_selection import KFold\n",
    "from sklearn.model_selection import cross_val_score\n",
    "from sklearn.model_selection import train_test_split\n",
    "from sklearn.svm import SVC\n",
    "from sklearn.pipeline import make_pipeline\n",
    "from sklearn.metrics import accuracy_score, roc_auc_score, confusion_matrix\n",
    "from sklearn.model_selection import train_test_split, cross_validate, GridSearchCV\n",
    "from sklearn.metrics import classification_report,roc_curve,auc, f1_score, plot_roc_curve\n",
    "from sklearn.metrics import confusion_matrix,accuracy_score,precision_score,recall_score,roc_auc_score\n",
    "from sklearn.linear_model import LogisticRegression\n",
    "from sklearn.model_selection import StratifiedKFold\n",
    "from sklearn.neighbors import KNeighborsClassifier\n",
    "from sklearn.naive_bayes import BernoulliNB\n",
    "from sklearn.ensemble import RandomForestClassifier\n",
    "from sklearn.naive_bayes import GaussianNB\n",
    "import plotly.graph_objects as go\n",
    "from imblearn.under_sampling import RandomUnderSampler\n",
    "from sklearn.preprocessing import StandardScaler\n",
    "import warnings\n",
    "warnings.simplefilter(action=\"ignore\", category=FutureWarning)\n",
    "\n",
    "from tqdm import tqdm\n",
    "from zipfile import ZipFile\n",
    "from IPython.display import display\n",
    "import modules.processor as Processor\n",
    "import modules.utils as Utils\n",
    "import modules.model as Model\n",
    "import modules.plot as Plot"
   ]
  },
  {
   "cell_type": "code",
   "execution_count": 17,
   "id": "e93217aa",
   "metadata": {},
   "outputs": [],
   "source": [
    "train = pd.read_csv(\"../data/split-data/without-mhc/train/train.csv\")\n",
    "test01 = pd.read_csv(\"../data/split-data/without-mhc/test/test01.csv\")\n",
    "\n",
    "train_mhc = pd.read_csv(\"../data/split-data/with-mhc/train/train.csv\")\n",
    "test01_mhc = pd.read_csv(\"../data/split-data/with-mhc/test/test01.csv\")"
   ]
  },
  {
   "cell_type": "code",
   "execution_count": null,
   "id": "82fc5eb7",
   "metadata": {},
   "outputs": [],
   "source": []
  },
  {
   "cell_type": "code",
   "execution_count": 31,
   "id": "0bea4097",
   "metadata": {},
   "outputs": [],
   "source": [
    "sp_data = Processor.split_dataframe_by_position(train, 2)\n",
    "# sp_data[1]\n",
    "\n",
    "X_train = train.iloc[:, :2]\n",
    "y_train = train.iloc[:, 2:]\n",
    "\n",
    "X_test01 = test01.iloc[:, :2]\n",
    "y_test01 = test01.iloc[:, 2:]\n",
    "\n",
    "X_train_mhc = train_mhc.iloc[:, :2]\n",
    "y_train_mhc = train_mhc.iloc[:, 2:]\n",
    "\n",
    "X_test01_mhc = test01_mhc.iloc[:, :2]\n",
    "y_test01_mhc = test01_mhc.iloc[:, 2:]"
   ]
  },
  {
   "cell_type": "code",
   "execution_count": 21,
   "id": "4b4af9d8",
   "metadata": {},
   "outputs": [],
   "source": [
    "clf_sm = RandomUnderSampler(random_state=42)\n",
    "X_res, y_res = clf_sm.fit_resample(X_train, y_train)"
   ]
  },
  {
   "cell_type": "code",
   "execution_count": 12,
   "id": "76a1f2d0",
   "metadata": {},
   "outputs": [],
   "source": [
    "# Without MHC\n",
    "pX_res = Processor.data_representation(X_res)\n",
    "py_res = y_res.copy()\n",
    "\n",
    "pX_res.to_csv(\"../data/convert-data/without-mhc/res/X.csv\", index=False)\n",
    "py_res.to_csv(\"../data/convert-data/without-mhc/res/y.csv\", index=False)\n",
    "\n",
    "# With MHC\n",
    "pX_test01 = Processor.data_representation(X_test01)\n",
    "py_test01 = y_test01.copy()\n",
    "\n",
    "pX_test01.to_csv(\"../data/converted-data/with_mhc/test/pX_test01.csv\", index=False)\n",
    "py_test01.to_csv(\"../data/converted-data/with_mhc/test/py_test01.csv\", index=False)"
   ]
  },
  {
   "cell_type": "code",
   "execution_count": 33,
   "id": "275ec0cc",
   "metadata": {},
   "outputs": [],
   "source": [
    "pX_res = pd.read_csv(\"../data/convert-data/without-mhc/res/X.csv\")\n",
    "py_res = pd.read_csv(\"../data/convert-data/without-mhc/res/y.csv\")\n",
    "\n",
    "pX_test01 = pd.read_csv(\"../data/convert-data/without-mhc/test/test01/X.csv\")\n",
    "py_test01 = pd.read_csv(\"../data/convert-data/without-mhc/test/test01/y.csv\")\n",
    "\n",
    "pX_res_mhc = pd.read_csv(\"../data/convert-data/with-mhc/res/X.csv\")\n",
    "py_res_mhc = pd.read_csv(\"../data/convert-data/with-mhc/res/y.csv\")\n",
    "\n",
    "pX_test01_mhc = pd.read_csv(\"../data/convert-data/with-mhc/test/test01/X.csv\")\n",
    "py_test01_mhc = pd.read_csv(\"../data/convert-data/with-mhc/test/test01/y.csv\")"
   ]
  },
  {
   "cell_type": "code",
   "execution_count": 34,
   "id": "6f0e344a",
   "metadata": {},
   "outputs": [
    {
     "name": "stdout",
     "output_type": "stream",
     "text": [
      "\tModel Random Forest has been trained in 7.54 seconds\n",
      "\tModel Random Forest has been trained in 37.83 seconds\n"
     ]
    }
   ],
   "source": [
    "lst_models = [\n",
    "    ('Random Forest', RandomForestClassifier(random_state=42, n_jobs=-1)),\n",
    "]\n",
    "\n",
    "cv = StratifiedKFold(n_splits=5, shuffle=True, random_state=42)\n",
    "\n",
    "original_models = Model.train(lst_models, pX_res, np.ravel(py_res), cv)\n",
    "original_models_mhc = Model.train(lst_models, pX_res_mhc, np.ravel(py_res_mhc), cv)"
   ]
  },
  {
   "cell_type": "code",
   "execution_count": 35,
   "id": "217e64d4",
   "metadata": {},
   "outputs": [],
   "source": [
    "lst_tunning_models = [\n",
    "    ('Random Forest', RandomForestClassifier(random_state=42, n_jobs=-1), {\n",
    "        'bootstrap': [True, False],\n",
    "        'max_depth': [10, 20, 30, 40, 50, 60, 70, 80, 90, 100, None],\n",
    "        'max_features': [\"auto\", \"sqrt\", \"log2\", 5, 10, 15, 20],\n",
    "        'min_samples_leaf': [1, 2, 4],\n",
    "        'min_samples_split': [2, 5, 10],\n",
    "        'n_estimators': [200, 400, 600, 800, 1000, 1200, 1400, 1600, 1800, 2000]}),\n",
    "]"
   ]
  },
  {
   "cell_type": "code",
   "execution_count": null,
   "id": "aed7da67",
   "metadata": {},
   "outputs": [],
   "source": [
    "lst_tunning_models = Model.trainTunningModel(lst_models, pX_res, np.ravel(py_res), cv)"
   ]
  },
  {
   "cell_type": "code",
   "execution_count": 36,
   "id": "1653efe9",
   "metadata": {},
   "outputs": [],
   "source": [
    "lst_tunning_models = [\n",
    "    ('Random Forest', RandomForestClassifier(bootstrap=False, max_depth=90, max_features=5,\n",
    "                         n_estimators=400, n_jobs=-1, random_state=42))]\n",
    "\n",
    "lst_tunning_models_mhc = [\n",
    "    ('Random Forest',RandomForestClassifier(bootstrap=False, max_depth=90, max_features='auto',\n",
    "                         min_samples_split=10, n_estimators=600, n_jobs=-1, random_state=42))]"
   ]
  },
  {
   "cell_type": "code",
   "execution_count": 37,
   "id": "862e2a52",
   "metadata": {},
   "outputs": [
    {
     "name": "stderr",
     "output_type": "stream",
     "text": [
      "100%|██████████| 1/1 [00:04<00:00,  4.37s/it]\n",
      "100%|██████████| 1/1 [00:35<00:00, 35.72s/it]\n"
     ]
    }
   ],
   "source": [
    "best_models = Model.evaluation(lst_tunning_models, pX_res, np.ravel(py_res), pX_test01, py_test01)\n",
    "best_models_mhc = Model.evaluation(lst_tunning_models_mhc, pX_res_mhc, np.ravel(py_res_mhc), pX_test01_mhc, py_test01_mhc)"
   ]
  },
  {
   "cell_type": "code",
   "execution_count": 49,
   "id": "9558813a",
   "metadata": {},
   "outputs": [],
   "source": [
    "Plot.evaluationGroupedBarChart(original_models, 3)"
   ]
  },
  {
   "cell_type": "code",
   "execution_count": 93,
   "id": "92c33dbf",
   "metadata": {},
   "outputs": [],
   "source": [
    "class epitcrModel:\n",
    "    def __init__(self, pmodel, pX, py):\n",
    "        self.model = pmodel\n",
    "        self.model.fit(pX, py)\n",
    "    \n",
    "    def predict(self, pnew_data):\n",
    "        yhat_class = self.model.predict(pnew_data)\n",
    "        return yhat_class \n",
    "\n",
    "    \n",
    "    def info(self):\n",
    "        print(self.model)\n",
    "    \n",
    "    def rocAuc(self, X, y_true):\n",
    "        ax = plt.subplot()\n",
    "        n = X.shape[0]\n",
    "        mean_fpr = np.linspace(0, 1, n)\n",
    "        tprs = []\n",
    "        aucs = []\n",
    "        viz = plot_roc_curve(self.model, X, y_true,\n",
    "                                name='Random Forest',\n",
    "                                alpha=.3, lw=2, ax=ax)\n",
    "        interp_tpr = np.interp(mean_fpr, viz.fpr, viz.tpr)\n",
    "        interp_tpr[0] = 0.0\n",
    "        tprs.append(interp_tpr)\n",
    "        aucs.append(viz.roc_auc)\n",
    "\n",
    "        ax.plot([0, 1], [0, 1], linestyle='--', lw=2, color='r',\n",
    "        label='Chance', alpha=.8)\n",
    "        ax.set(xlim=[-0.05, 1.05], ylim=[-0.05, 1.05],\n",
    "        title=\"ROC curve comparison\")\n",
    "        ax.legend(loc=\"lower right\")\n",
    "        plt.show()\n",
    "    \n",
    "    def predict_proba(self, pnew_data):\n",
    "        yhat_class = self.model.predict_proba(pnew_data)\n",
    "        return yhat_class "
   ]
  },
  {
   "cell_type": "code",
   "execution_count": 94,
   "id": "681936b3",
   "metadata": {},
   "outputs": [
    {
     "name": "stdout",
     "output_type": "stream",
     "text": [
      "RandomForestClassifier(bootstrap=False, max_depth=90, max_features=5,\n",
      "                       n_estimators=400, n_jobs=-1, random_state=42)\n",
      "RandomForestClassifier(bootstrap=False, max_depth=90, max_features='auto',\n",
      "                       min_samples_split=10, n_estimators=600, n_jobs=-1,\n",
      "                       random_state=42)\n"
     ]
    }
   ],
   "source": [
    "rf_tcr = lst_tunning_models[0][1]\n",
    "model_rf = epitcrModel(rf_tcr, pX_res, np.ravel(py_res))\n",
    "model_rf.info()\n",
    "\n",
    "rf_tcr_mhc = lst_tunning_models_mhc[0][1]\n",
    "model_rf_mhc = epitcrModel(rf_tcr_mhc, pX_res_mhc, np.ravel(py_res_mhc))\n",
    "model_rf_mhc.info()"
   ]
  },
  {
   "cell_type": "code",
   "execution_count": 57,
   "id": "b707d751",
   "metadata": {},
   "outputs": [],
   "source": [
    "y_rf_test01_proba = model_rf.predict_proba(pX_test01)\n",
    "df_test01 = pd.DataFrame(data = y_rf_test01_proba, columns = [\"tmp\", \"predict_proba\"])\n",
    "\n",
    "y_rf_test01_proba_mhc = model_rf_mhc.predict_proba(pX_test01_mhc)\n",
    "df_test01_mhc = pd.DataFrame(data = y_rf_test01_proba_mhc, columns = [\"tmp\", \"predict_proba\"])"
   ]
  },
  {
   "cell_type": "code",
   "execution_count": 58,
   "id": "b9e7ada5",
   "metadata": {},
   "outputs": [],
   "source": [
    "df_test = df_test01.iloc[:, 1:]\n",
    "df_test_mhc = df_test01_mhc.iloc[:, 1:]"
   ]
  },
  {
   "cell_type": "code",
   "execution_count": 60,
   "id": "629e9a75",
   "metadata": {},
   "outputs": [],
   "source": [
    "df_prob_test01 = pd.concat([test01, df_test01], axis=1)\n",
    "df_prob_test01['binder_pred'] = np.where(df_prob_test01['predict_proba'] >= 0.5, 1, 0)\n",
    "df_prob_test01.to_csv(\"../data/predict-data/without-mhc/test01_predict_proba.csv\", index=False)\n",
    "\n",
    "df_prob_test01_mhc = pd.concat([test01_mhc, df_test01_mhc], axis=1)\n",
    "df_prob_test01_mhc['binder_pred'] = np.where(df_prob_test01_mhc['predict_proba'] >= 0.5, 1, 0)\n",
    "df_prob_test01_mhc.to_csv(\"../data/predict-data/with-mhc/test01_predict_proba.csv\", index=False)"
   ]
  },
  {
   "cell_type": "code",
   "execution_count": 64,
   "id": "262e91ec",
   "metadata": {},
   "outputs": [],
   "source": [
    "y_test01 = df_prob_test01[\"binder\"].to_numpy()\n",
    "y_test01_pred = df_prob_test01[\"binder_pred\"].to_numpy()\n",
    "\n",
    "y_test01_mhc = df_prob_test01_mhc[\"binder\"].to_numpy()\n",
    "y_test01_pred_mhc = df_prob_test01_mhc[\"binder_pred\"].to_numpy()"
   ]
  },
  {
   "cell_type": "code",
   "execution_count": 95,
   "id": "c31b3c94",
   "metadata": {},
   "outputs": [],
   "source": [
    "# Model.confusionMatrix(y_test01, y_test01_pred)\n",
    "# tn, fp, fn, tp = confusion_matrix(y_test01, y_test01_pred).ravel()\n",
    "# print('Sensitivity (TPR): ', tp/(tp+fn))\n",
    "# print('Specificity (TNR): ', tn/(tn+fp))\n",
    "\n",
    "\n",
    "# Model.confusionMatrix(y_test01_mhc, y_test01_pred_mhc)\n",
    "# tn, fp, fn, tp = confusion_matrix(y_test01_mhc, y_test01_pred_mhc).ravel()\n",
    "# print('Sensitivity (TPR): ', tp/(tp+fn))\n",
    "# print('Specificity (TNR): ', tn/(tn+fp))"
   ]
  },
  {
   "cell_type": "markdown",
   "id": "d8ffa891",
   "metadata": {},
   "source": []
  },
  {
   "cell_type": "code",
   "execution_count": 81,
   "id": "e3c3c281",
   "metadata": {},
   "outputs": [
    {
     "name": "stdout",
     "output_type": "stream",
     "text": [
      "              precision    recall  f1-score   support\n",
      "\n",
      "  Non-binder       0.99      0.90      0.95     66280\n",
      "      Binder       0.49      0.94      0.64      6628\n",
      "\n",
      "    accuracy                           0.91     72908\n",
      "   macro avg       0.74      0.92      0.80     72908\n",
      "weighted avg       0.95      0.91      0.92     72908\n",
      "\n"
     ]
    },
    {
     "data": {
      "image/png": "[encoded data removed]",
      "text/plain": [
       "<Figure size 432x288 with 2 Axes>"
      ]
     },
     "metadata": {
      "needs_background": "light"
     },
     "output_type": "display_data"
    },
    {
     "name": "stdout",
     "output_type": "stream",
     "text": [
      "RandomForestClassifier(bootstrap=False, max_depth=90, max_features=5,\n",
      "                       n_estimators=400, n_jobs=-1, random_state=42)\n",
      "Accuracy score        :  [0.90542876]\n",
      "F1 score              :  [0.6448988]\n",
      "AUC                   :  0.9773357455741793\n",
      "Sensitivity (TPR)     :  0.9446288473144236\n",
      "Specificity (TNR)     :  0.9015087507543754\n",
      "classification report :\n",
      "               precision    recall  f1-score   support\n",
      "\n",
      "           0       0.99      0.90      0.95     66280\n",
      "           1       0.49      0.94      0.64      6628\n",
      "\n",
      "    accuracy                           0.91     72908\n",
      "   macro avg       0.74      0.92      0.80     72908\n",
      "weighted avg       0.95      0.91      0.92     72908\n",
      "\n"
     ]
    }
   ],
   "source": [
    "accuracy_rf_test01, classify_metrics_rf_test01, fpr_rf_test01, tpr_rf_test01, auc_score_rf_test01, f1_rf_test01 = Model.model_run(rf_tcr, pX_res, py_res, pX_test01, py_test01)"
   ]
  },
  {
   "cell_type": "code",
   "execution_count": 83,
   "id": "b0449ea8",
   "metadata": {},
   "outputs": [
    {
     "name": "stdout",
     "output_type": "stream",
     "text": [
      "              precision    recall  f1-score   support\n",
      "\n",
      "  Non-binder       0.99      0.88      0.93     66820\n",
      "      Binder       0.44      0.94      0.60      6682\n",
      "\n",
      "    accuracy                           0.88     73502\n",
      "   macro avg       0.71      0.91      0.76     73502\n",
      "weighted avg       0.94      0.88      0.90     73502\n",
      "\n"
     ]
    },
    {
     "data": {
      "image/png": "[encoded data removed]",
      "text/plain": [
       "<Figure size 432x288 with 2 Axes>"
      ]
     },
     "metadata": {
      "needs_background": "light"
     },
     "output_type": "display_data"
    },
    {
     "name": "stdout",
     "output_type": "stream",
     "text": [
      "RandomForestClassifier(bootstrap=False, max_depth=90, max_features='auto',\n",
      "                       min_samples_split=10, n_estimators=600, n_jobs=-1,\n",
      "                       random_state=42)\n",
      "Accuracy score        :  [0.88426165]\n",
      "F1 score              :  [0.59600133]\n",
      "AUC                   :  0.9658551867669342\n",
      "Sensitivity (TPR)     :  0.9390900927865908\n",
      "Specificity (TNR)     :  0.8787788087398982\n",
      "classification report :\n",
      "               precision    recall  f1-score   support\n",
      "\n",
      "           0       0.99      0.88      0.93     66820\n",
      "           1       0.44      0.94      0.60      6682\n",
      "\n",
      "    accuracy                           0.88     73502\n",
      "   macro avg       0.71      0.91      0.76     73502\n",
      "weighted avg       0.94      0.88      0.90     73502\n",
      "\n"
     ]
    }
   ],
   "source": [
    "accuracy_rf_test01_mhc, classify_metrics_rf_test01_mhc, fpr_rf_test01_mhc, tpr_rf_test01_mhc, auc_score_rf_test01_mhc, f1_rf_test01_mhc = Model.model_run(rf_tcr_mhc, pX_res_mhc, py_res_mhc, pX_test01_mhc, py_test01_mhc)"
   ]
  },
  {
   "cell_type": "code",
   "execution_count": 96,
   "id": "7d385ab7",
   "metadata": {},
   "outputs": [
    {
     "data": {
      "image/png": "[encoded data removed]",
      "text/plain": [
       "<Figure size 432x288 with 1 Axes>"
      ]
     },
     "metadata": {
      "needs_background": "light"
     },
     "output_type": "display_data"
    },
    {
     "data": {
      "image/png": "[encoded data removed]",
      "text/plain": [
       "<Figure size 432x288 with 1 Axes>"
      ]
     },
     "metadata": {
      "needs_background": "light"
     },
     "output_type": "display_data"
    }
   ],
   "source": [
    "model_rf.rocAuc(pX_test01, py_test01)\n",
    "\n",
    "model_rf_mhc.rocAuc(pX_test01_mhc, py_test01_mhc) "
   ]
  },
  {
   "cell_type": "code",
   "execution_count": 99,
   "id": "90313d61",
   "metadata": {},
   "outputs": [
    {
     "name": "stdout",
     "output_type": "stream",
     "text": [
      "<__main__.epitcrModel object at 0x156bc1c70> has been saved at ./models/rdforest-model.pickle.\n",
      "<__main__.epitcrModel object at 0x156b43b50> has been saved at ./models/rdforest-model-mhc.pickle.\n"
     ]
    }
   ],
   "source": [
    "Model.saveByPickle(model_rf, \"./models/rdforest-model.pickle\")\n",
    "pickled_model_rf = pickle.load(open('./models/rdforest-model.pickle', 'rb'))\n",
    "\n",
    "Model.saveByPickle(model_rf_mhc, \"./models/rdforest-model-mhc.pickle\")\n",
    "pickled_model_rf_mhc = pickle.load(open('./models/rdforest-model-mhc.pickle', 'rb'))"
   ]
  },
  {
   "cell_type": "code",
   "execution_count": null,
   "id": "6f2ec7a4",
   "metadata": {},
   "outputs": [],
   "source": []
  }
 ],
 "metadata": {
  "kernelspec": {
   "display_name": "Python 3.8.9 64-bit",
   "language": "python",
   "name": "python3"
  },
  "language_info": {
   "codemirror_mode": {
    "name": "ipython",
    "version": 3
   },
   "file_extension": ".py",
   "mimetype": "text/x-python",
   "name": "python",
   "nbconvert_exporter": "python",
   "pygments_lexer": "ipython3",
   "version": "3.8.9"
  },
  "vscode": {
   "interpreter": {
    "hash": "31f2aee4e71d21fbe5cf8b01ff0e069b9275f58929596ceb00d14d90e3e16cd6"
   }
  }
 },
 "nbformat": 4,
 "nbformat_minor": 5
}
