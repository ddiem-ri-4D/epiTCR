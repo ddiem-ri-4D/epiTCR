{
 "cells": [
  {
   "cell_type": "code",
   "execution_count": 2,
   "metadata": {},
   "outputs": [],
   "source": [
    "import seaborn as sns\n",
    "import matplotlib.pyplot as plt\n",
    "\n",
    "import pandas as pd\n",
    "import numpy as np\n",
    "\n",
    "from sklearn.model_selection import train_test_split"
   ]
  },
  {
   "cell_type": "code",
   "execution_count": 6,
   "metadata": {},
   "outputs": [],
   "source": [
    "df = pd.read_csv(\"../../data/final_data/final-with-HLA.csv\")\n",
    "df = df.drop_duplicates()"
   ]
  },
  {
   "cell_type": "code",
   "execution_count": 7,
   "metadata": {},
   "outputs": [],
   "source": [
    "df = df.iloc[:, lambda df: [0, 1, 2, 5]]\n",
    "X = df.iloc[:, lambda df: [0, 1, 3]]\n",
    "y = df.iloc[:, lambda df: [2]]"
   ]
  },
  {
   "cell_type": "code",
   "execution_count": 8,
   "metadata": {},
   "outputs": [],
   "source": [
    "X_train, X_test, y_train, y_test = train_test_split(X, y, test_size=0.9, random_state=42)\n",
    "X_test1, X_test2, y_test1, y_test2 = train_test_split(X_test, y_test, test_size=0.111, random_state=42)\n",
    "X_test3, X_test4, y_test3, y_test4 = train_test_split(X_test1, y_test1, test_size=0.125, random_state=42)\n",
    "X_test5, X_test6, y_test5, y_test6 = train_test_split(X_test3, y_test3, test_size=0.145, random_state=42)\n",
    "X_test7, X_test8, y_test7, y_test8 = train_test_split(X_test5, y_test5, test_size=0.17, random_state=42)\n",
    "X_test9, X_test10, y_test9, y_test10 = train_test_split(X_test7, y_test7, test_size=0.205, random_state=42)\n",
    "X_test11, X_test12, y_test11, y_test12 = train_test_split(X_test9, y_test9, test_size=0.25, random_state=42)\n",
    "X_test13, X_test14, y_test13, y_test14 = train_test_split(X_test11, y_test11, test_size=0.33, random_state=42)\n",
    "X_test15, X_test16, y_test15, y_test16 = train_test_split(X_test13, y_test13, test_size=0.5, random_state=42)"
   ]
  },
  {
   "cell_type": "code",
   "execution_count": 9,
   "metadata": {},
   "outputs": [],
   "source": [
    "train = pd.concat([X_train, y_train], axis=1)\n",
    "train = train.reset_index(drop=True)\n",
    "train.to_csv(\"../../data/split_data/with_mhc/train/train.csv\", index=False)"
   ]
  },
  {
   "cell_type": "code",
   "execution_count": 10,
   "metadata": {},
   "outputs": [],
   "source": [
    "test01 = pd.concat([X_test2, y_test2], axis=1)\n",
    "test01 = test01.reset_index(drop=True)\n",
    "\n",
    "test01_1 = test01[test01[\"binder\"] == 1]\n",
    "test01_0 = test01[test01[\"binder\"] == 0]\n",
    "test01_0 = test01_0.sample(n = 6682 * 10, random_state = 1)\n",
    "test01 = pd.concat([test01_0, test01_1], axis = 0)\n",
    "test01 = test01.reset_index(drop=True)\n",
    "test01.to_csv(\"../../data/split_data/with_mhc/test/test01.csv\", index=False)"
   ]
  },
  {
   "cell_type": "code",
   "execution_count": 11,
   "metadata": {},
   "outputs": [],
   "source": [
    "test02 = pd.concat([X_test4, y_test4], axis=1)\n",
    "test02 = test02.reset_index(drop=True)\n",
    "\n",
    "test02_1 = test02[test02[\"binder\"] == 1]\n",
    "test02_0 = test02[test02[\"binder\"] == 0]\n",
    "test02_0 = test02_0.sample(n = 6587 * 10, random_state = 1)\n",
    "test02 = pd.concat([test02_0, test02_1], axis = 0)\n",
    "test02 = test02.reset_index(drop=True)\n",
    "test02.to_csv(\"../../data/split_data/with_mhc/test/test02.csv\", index=False)"
   ]
  },
  {
   "cell_type": "code",
   "execution_count": 12,
   "metadata": {},
   "outputs": [],
   "source": [
    "test03 = pd.concat([X_test6, y_test6], axis=1)\n",
    "test03 = test03.reset_index(drop=True)\n",
    "\n",
    "test03_1 = test03[test03[\"binder\"] == 1]\n",
    "test03_0 = test03[test03[\"binder\"] == 0]\n",
    "test03_0 = test03_0.sample(n = 6721 * 10, random_state = 1)\n",
    "test03 = pd.concat([test03_0, test03_1], axis = 0)\n",
    "test03 = test03.reset_index(drop=True)\n",
    "\n",
    "test03.to_csv(\"../../data/split_data/with_mhc/test/test03.csv\", index=False)"
   ]
  },
  {
   "cell_type": "code",
   "execution_count": 13,
   "metadata": {},
   "outputs": [],
   "source": [
    "test04 = pd.concat([X_test8, y_test8], axis=1)\n",
    "test04 = test04.reset_index(drop=True)\n",
    "\n",
    "test04_1 = test04[test04[\"binder\"] == 1]\n",
    "test04_0 = test04[test04[\"binder\"] == 0]\n",
    "test04_0 = test04_0.sample(n = 6728 * 10, random_state = 1)\n",
    "test04 = pd.concat([test04_0, test04_1], axis = 0)\n",
    "test04 = test04.reset_index(drop=True)\n",
    "\n",
    "test04.to_csv(\"../../data/split_data/with_mhc/test/test04.csv\", index=False)"
   ]
  },
  {
   "cell_type": "code",
   "execution_count": 14,
   "metadata": {},
   "outputs": [],
   "source": [
    "test05 = pd.concat([X_test10, y_test10], axis=1)\n",
    "test05 = test05.reset_index(drop=True)\n",
    "\n",
    "test05_1 = test05[test05[\"binder\"] == 1]\n",
    "test05_0 = test05[test05[\"binder\"] == 0]\n",
    "test05_0 = test05_0.sample(n = 6843 * 10, random_state = 1)\n",
    "test05 = pd.concat([test05_0, test05_1], axis = 0)\n",
    "test05 = test05.reset_index(drop=True)\n",
    "\n",
    "test05.to_csv(\"../../data/split_data/with_mhc/test/test05.csv\", index=False)"
   ]
  },
  {
   "cell_type": "code",
   "execution_count": 15,
   "metadata": {},
   "outputs": [],
   "source": [
    "test06 = pd.concat([X_test12, y_test12], axis=1)\n",
    "test06 = test06.reset_index(drop=True)\n",
    "\n",
    "test06_1 = test06[test06[\"binder\"] == 1]\n",
    "test06_0 = test06[test06[\"binder\"] == 0]\n",
    "test06_0 = test06_0.sample(n = 6685 * 10, random_state = 1)\n",
    "test06 = pd.concat([test06_0, test06_1], axis = 0)\n",
    "test06 = test06.reset_index(drop=True)\n",
    "\n",
    "test06.to_csv(\"../../data/split_data/with_mhc/test/test06.csv\", index=False)"
   ]
  },
  {
   "cell_type": "code",
   "execution_count": 16,
   "metadata": {},
   "outputs": [],
   "source": [
    "test07 = pd.concat([X_test14, y_test14], axis=1)\n",
    "test07 = test07.reset_index(drop=True)\n",
    "\n",
    "test07_1 = test07[test07[\"binder\"] == 1]\n",
    "test07_0 = test07[test07[\"binder\"] == 0]\n",
    "test07_0 = test07_0.sample(n = 6387 * 10, random_state = 1)\n",
    "test07 = pd.concat([test07_0, test07_1], axis = 0)\n",
    "test07 = test07.reset_index(drop=True)\n",
    "\n",
    "test07.to_csv(\"../../data/split_data/with_mhc/test/test07.csv\", index=False)"
   ]
  },
  {
   "cell_type": "code",
   "execution_count": 17,
   "metadata": {},
   "outputs": [],
   "source": [
    "test08 = pd.concat([X_test16, y_test16], axis=1)\n",
    "test08 = test08.reset_index(drop=True)\n",
    "\n",
    "test08_1 = test08[test08[\"binder\"] == 1]\n",
    "test08_0 = test08[test08[\"binder\"] == 0]\n",
    "test08_0 = test08_0.sample(n = 6584 * 10, random_state = 1)\n",
    "test08 = pd.concat([test08_0, test08_1], axis = 0)\n",
    "test08 = test08.reset_index(drop=True)\n",
    "\n",
    "test08.to_csv(\"../../data/split_data/with_mhc/test/test08.csv\", index=False)"
   ]
  },
  {
   "cell_type": "code",
   "execution_count": 18,
   "metadata": {},
   "outputs": [],
   "source": [
    "test09 = pd.concat([X_test15, y_test15], axis=1)\n",
    "test09 = test09.reset_index(drop=True)\n",
    "\n",
    "test09_1 = test09[test09[\"binder\"] == 1]\n",
    "test09_0 = test09[test09[\"binder\"] == 0]\n",
    "test09_0 = test09_0.sample(n = 6580 * 10, random_state = 1)\n",
    "test09 = pd.concat([test09_0, test09_1], axis = 0)\n",
    "test09 = test09.reset_index(drop=True)\n",
    "\n",
    "test09.to_csv(\"../../data/split_data/with_mhc/test/test09.csv\", index=False)"
   ]
  },
  {
   "cell_type": "code",
   "execution_count": null,
   "metadata": {},
   "outputs": [],
   "source": []
  }
 ],
 "metadata": {
  "kernelspec": {
   "display_name": "Python 3.6.8 64-bit",
   "language": "python",
   "name": "python3"
  },
  "language_info": {
   "codemirror_mode": {
    "name": "ipython",
    "version": 3
   },
   "file_extension": ".py",
   "mimetype": "text/x-python",
   "name": "python",
   "nbconvert_exporter": "python",
   "pygments_lexer": "ipython3",
   "version": "3.6.8"
  },
  "orig_nbformat": 4,
  "vscode": {
   "interpreter": {
    "hash": "aee8b7b246df8f9039afb4144a1f6fd8d2ca17a180786b69acc140d282b71a49"
   }
  }
 },
 "nbformat": 4,
 "nbformat_minor": 2
}
