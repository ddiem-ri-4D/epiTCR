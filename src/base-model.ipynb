{
 "cells": [
  {
   "cell_type": "markdown",
   "id": "367f421a",
   "metadata": {},
   "source": [
    "## 1. Import Packages"
   ]
  },
  {
   "cell_type": "code",
   "execution_count": 89,
   "id": "896c0a76",
   "metadata": {},
   "outputs": [],
   "source": [
    "import numpy as np\n",
    "import time\n",
    "import pickle\n",
    "import pandas as pd\n",
    "from sklearn import svm\n",
    "import seaborn as sns\n",
    "import matplotlib.pyplot as plt\n",
    "from matplotlib.backends.backend_pdf import PdfPages\n",
    "import sklearn.metrics as metrics\n",
    "\n",
    "from sklearn.model_selection import KFold\n",
    "from sklearn.model_selection import cross_val_score\n",
    "from sklearn.model_selection import train_test_split\n",
    "from sklearn.svm import SVC\n",
    "from sklearn.pipeline import make_pipeline\n",
    "from sklearn.metrics import accuracy_score, roc_auc_score, confusion_matrix\n",
    "from sklearn.model_selection import train_test_split, cross_validate, GridSearchCV\n",
    "from sklearn.metrics import classification_report,roc_curve,auc, f1_score, plot_roc_curve\n",
    "from sklearn.metrics import confusion_matrix,accuracy_score,precision_score,recall_score,roc_auc_score\n",
    "from sklearn.linear_model import LogisticRegression\n",
    "from sklearn.model_selection import StratifiedKFold\n",
    "from sklearn.neighbors import KNeighborsClassifier\n",
    "from sklearn.naive_bayes import BernoulliNB\n",
    "from sklearn.ensemble import RandomForestClassifier\n",
    "from sklearn.naive_bayes import GaussianNB\n",
    "import plotly.graph_objects as go\n",
    "import modules.processor as Processor\n",
    "import modules.utils as Utils\n",
    "import modules.model as Model\n",
    "import modules.model1 as Model1\n",
    "from imblearn.under_sampling import RandomUnderSampler\n",
    "from sklearn.ensemble import BaggingClassifier\n",
    "from sklearn.multiclass import OneVsRestClassifier\n",
    "from sklearn.preprocessing import StandardScaler\n",
    "import warnings\n",
    "warnings.simplefilter(action=\"ignore\", category=FutureWarning)\n",
    "\n",
    "from tqdm import tqdm\n",
    "from IPython.display import display"
   ]
  },
  {
   "cell_type": "markdown",
   "id": "0057bb12",
   "metadata": {},
   "source": [
    "## 2. Load sub dataset"
   ]
  },
  {
   "cell_type": "code",
   "execution_count": null,
   "id": "e93217aa",
   "metadata": {},
   "outputs": [],
   "source": [
    "train = pd.read_csv(\"../data/split_data/without_mhc/train/train.csv\")\n",
    "# train"
   ]
  },
  {
   "cell_type": "code",
   "execution_count": null,
   "id": "03b24194",
   "metadata": {},
   "outputs": [],
   "source": [
    "test01 = pd.read_csv(\"../data/split_data/without_mhc/test/test01.csv\")\n",
    "# test01"
   ]
  },
  {
   "cell_type": "code",
   "execution_count": null,
   "id": "0bea4097",
   "metadata": {},
   "outputs": [],
   "source": [
    "def split_dataframe_by_position(df, splits):\n",
    "    \"\"\"\n",
    "    Takes a dataframe and an integer of the number of splits to create.\n",
    "    Returns a list of dataframes.\n",
    "    \"\"\"\n",
    "    dataframes = []\n",
    "    index_to_split = len(df) // splits\n",
    "    start = 0\n",
    "    end = index_to_split\n",
    "    for split in range(splits):\n",
    "        temporary_df = df.iloc[start:end, :]\n",
    "        dataframes.append(temporary_df)\n",
    "        start += index_to_split\n",
    "        end += index_to_split\n",
    "    return dataframes\n",
    "\n",
    "sp_data = split_dataframe_by_position(train, 2)\n",
    "# sp_data[1]"
   ]
  },
  {
   "cell_type": "code",
   "execution_count": null,
   "id": "406aefb2",
   "metadata": {},
   "outputs": [],
   "source": []
  },
  {
   "cell_type": "markdown",
   "id": "26573da3",
   "metadata": {},
   "source": [
    "## 3. Split train data"
   ]
  },
  {
   "cell_type": "code",
   "execution_count": null,
   "id": "37230501",
   "metadata": {},
   "outputs": [],
   "source": [
    "X_train = train.iloc[:, :2]\n",
    "y_train = train.iloc[:, 2:]\n",
    "# X_train.shape, y_train.shape"
   ]
  },
  {
   "cell_type": "code",
   "execution_count": null,
   "id": "fb369aa9",
   "metadata": {},
   "outputs": [],
   "source": [
    "X_test01 = test01.iloc[:, :2]\n",
    "y_test01 = test01.iloc[:, 2:]\n",
    "# X_test01.shape, y_test01.shape"
   ]
  },
  {
   "cell_type": "markdown",
   "id": "531e3281",
   "metadata": {},
   "source": [
    "## 4. NearMiss for Imbalanced Classification"
   ]
  },
  {
   "cell_type": "code",
   "execution_count": null,
   "id": "4b4af9d8",
   "metadata": {},
   "outputs": [],
   "source": [
    "clf_sm = RandomUnderSampler(random_state=42)\n",
    "X_res, y_res = clf_sm.fit_resample(X_train, y_train)"
   ]
  },
  {
   "cell_type": "markdown",
   "id": "673fcfe4",
   "metadata": {},
   "source": [
    "## 5. Data Representation: Onehot encoding"
   ]
  },
  {
   "cell_type": "markdown",
   "id": "102eb84e",
   "metadata": {},
   "source": [
    "### 5.1 Without MHC"
   ]
  },
  {
   "cell_type": "code",
   "execution_count": null,
   "id": "ec9bb733",
   "metadata": {},
   "outputs": [],
   "source": [
    "codes = ['A', 'C', 'D', 'E', 'F', 'G', 'H', 'I', 'K', 'L',\n",
    "         'M', 'N', 'P', 'Q', 'R', 'S', 'T', 'V', 'W', 'Y']\n",
    "\n",
    "def one_hot_encode(seq):\n",
    "    o = list(set(codes) - set(seq))\n",
    "    s = pd.DataFrame(list(seq))    \n",
    "    x = pd.DataFrame(np.zeros((len(seq),len(o)),dtype=int),columns=o)    \n",
    "    a = s[0].str.get_dummies(sep=',')\n",
    "    a = a.join(x)\n",
    "    a = a.sort_index(axis=1)\n",
    "    # show_matrix(a)\n",
    "    e = a.values.flatten()\n",
    "    return e"
   ]
  },
  {
   "cell_type": "code",
   "execution_count": null,
   "id": "35116997",
   "metadata": {},
   "outputs": [],
   "source": [
    "def data_representation(X_data):\n",
    "    seq_cdr3_lst = X_data['CDR3b'].to_list()\n",
    "    seq_epitope_lst = X_data['epitope'].to_list()\n",
    "    \n",
    "    lst1 = []\n",
    "    for seq in seq_cdr3_lst:\n",
    "        e=one_hot_encode(seq)\n",
    "        m_cdr3 = np.reshape(e, (-1, 20))\n",
    "        padding = 19 - len(m_cdr3)\n",
    "        c = np.concatenate((m_cdr3, np.zeros(padding * 20).reshape(padding, 20)), axis=0)\n",
    "        lst1.append(c)\n",
    "\n",
    "    lst2 = []\n",
    "    for seq in seq_epitope_lst:\n",
    "        e=one_hot_encode(seq)\n",
    "        m_epitope = np.reshape(e, (-1, 20))\n",
    "        padding = 11 - len(m_epitope)\n",
    "        c = np.concatenate((m_epitope, np.zeros(padding * 20).reshape(padding, 20)), axis=0)\n",
    "        lst2.append(c)\n",
    "        \n",
    "    res1 = list(map(lambda x: lst1[x].flatten(), range(len(lst1)))) \n",
    "    res2 = list(map(lambda x: lst2[x].flatten(), range(len(lst2))))\n",
    "    \n",
    "    df_res1 = pd.DataFrame(res1)\n",
    "    df_res2 = pd.DataFrame(res2)\n",
    "    result = pd.concat([df_res1, df_res2], axis=1)\n",
    "    \n",
    "    return result"
   ]
  },
  {
   "cell_type": "markdown",
   "id": "57a47ba0",
   "metadata": {},
   "source": [
    "### 5.2 With MHC"
   ]
  },
  {
   "cell_type": "code",
   "execution_count": 94,
   "id": "1049a985",
   "metadata": {},
   "outputs": [],
   "source": [
    "def data_representation_mhc(X_data):\n",
    "    seq_cdr3_lst = X_data['CDR3b'].to_list()\n",
    "    seq_epitope_lst = X_data['epitope'].to_list()\n",
    "    seq_mhc_lst = X_data['MHC'].to_list()\n",
    "    \n",
    "    lst1 = []\n",
    "    for seq in seq_cdr3_lst:\n",
    "        e=Processor.one_hot_encode(seq)\n",
    "        m_cdr3 = np.reshape(e, (-1, 20))\n",
    "        padding = 19 - len(m_cdr3)\n",
    "        c = np.concatenate((m_cdr3, np.zeros(padding * 20).reshape(padding, 20)), axis=0)\n",
    "        lst1.append(c)\n",
    "\n",
    "    lst2 = []\n",
    "    for seq in seq_epitope_lst:\n",
    "        e=Processor.one_hot_encode(seq)\n",
    "        m_epitope = np.reshape(e, (-1, 20))\n",
    "        padding = 11 - len(m_epitope)\n",
    "        c = np.concatenate((m_epitope, np.zeros(padding * 20).reshape(padding, 20)), axis=0)\n",
    "        lst2.append(c)\n",
    "    \n",
    "    lst3 = []\n",
    "    for seq in seq_mhc_lst:\n",
    "        e=Processor.one_hot_encode(seq)\n",
    "        m_mhc = np.reshape(e, (-1, 20))\n",
    "        padding = 366 - len(m_mhc)\n",
    "        c = np.concatenate((m_mhc, np.zeros(padding * 20).reshape(padding, 20)), axis=0)\n",
    "        lst3.append(c)\n",
    "\n",
    "    res1 = list(map(lambda x: lst1[x].flatten(), range(len(lst1)))) \n",
    "    res2 = list(map(lambda x: lst2[x].flatten(), range(len(lst2))))\n",
    "    res3 = list(map(lambda x: lst3[x].flatten(), range(len(lst3))))\n",
    "    \n",
    "    df_res1 = pd.DataFrame(res1)\n",
    "    df_res2 = pd.DataFrame(res2)\n",
    "    df_res3 = pd.DataFrame(res3)\n",
    "    result = pd.concat([df_res1, df_res2, df_res3], axis=1)\n",
    "    \n",
    "    return result"
   ]
  },
  {
   "cell_type": "code",
   "execution_count": null,
   "id": "76a1f2d0",
   "metadata": {},
   "outputs": [],
   "source": [
    "pX_res = data_representation(X_res)\n",
    "py_res = y_res.copy()\n",
    "\n",
    "pX_res.to_csv(\"../data/convert_data/without_mhc/res/X.csv\", index=False)\n",
    "py_res.to_csv(\"../data/convert_data/without_mhc/res/y.csv\", index=False)"
   ]
  },
  {
   "cell_type": "code",
   "execution_count": 41,
   "id": "5bc8c16d",
   "metadata": {},
   "outputs": [],
   "source": [
    "pX_res = pd.read_csv(\"../data/convert_data/without_mhc/res/X.csv\")\n",
    "py_res = pd.read_csv(\"../data/convert_data/without_mhc/res/y.csv\")"
   ]
  },
  {
   "cell_type": "code",
   "execution_count": null,
   "id": "a5d5969b",
   "metadata": {},
   "outputs": [],
   "source": [
    "pX_test01 = data_representation(X_test01)\n",
    "py_test01 = y_test01.copy()\n",
    "\n",
    "pX_test01.to_csv(\"../data/converted_data/without_mhc/test/pX_test01.csv\", index=False)\n",
    "py_test01.to_csv(\"../data/converted_data/without_mhc/test/py_test01.csv\", index=False)"
   ]
  },
  {
   "cell_type": "code",
   "execution_count": 125,
   "id": "313e79ea",
   "metadata": {},
   "outputs": [],
   "source": [
    "pX_test01 = pd.read_csv(\"../data/convert_data/without_mhc/test/test01/X.csv\")\n",
    "py_test01 = pd.read_csv(\"../data/convert_data/without_mhc/test/test01/y.csv\")"
   ]
  },
  {
   "cell_type": "code",
   "execution_count": 126,
   "id": "d2878a43",
   "metadata": {},
   "outputs": [
    {
     "data": {
      "text/html": [
       "<div>\n",
       "<style scoped>\n",
       "    .dataframe tbody tr th:only-of-type {\n",
       "        vertical-align: middle;\n",
       "    }\n",
       "\n",
       "    .dataframe tbody tr th {\n",
       "        vertical-align: top;\n",
       "    }\n",
       "\n",
       "    .dataframe thead th {\n",
       "        text-align: right;\n",
       "    }\n",
       "</style>\n",
       "<table border=\"1\" class=\"dataframe\">\n",
       "  <thead>\n",
       "    <tr style=\"text-align: right;\">\n",
       "      <th></th>\n",
       "      <th>0</th>\n",
       "      <th>1</th>\n",
       "      <th>2</th>\n",
       "      <th>3</th>\n",
       "      <th>4</th>\n",
       "      <th>5</th>\n",
       "      <th>6</th>\n",
       "      <th>7</th>\n",
       "      <th>8</th>\n",
       "      <th>9</th>\n",
       "      <th>...</th>\n",
       "      <th>210.1</th>\n",
       "      <th>211.1</th>\n",
       "      <th>212.1</th>\n",
       "      <th>213.1</th>\n",
       "      <th>214.1</th>\n",
       "      <th>215.1</th>\n",
       "      <th>216.1</th>\n",
       "      <th>217.1</th>\n",
       "      <th>218.1</th>\n",
       "      <th>219.1</th>\n",
       "    </tr>\n",
       "  </thead>\n",
       "  <tbody>\n",
       "    <tr>\n",
       "      <th>0</th>\n",
       "      <td>1.0</td>\n",
       "      <td>0.0</td>\n",
       "      <td>0.0</td>\n",
       "      <td>0.0</td>\n",
       "      <td>0.0</td>\n",
       "      <td>0.0</td>\n",
       "      <td>0.0</td>\n",
       "      <td>0.0</td>\n",
       "      <td>0.0</td>\n",
       "      <td>0.0</td>\n",
       "      <td>...</td>\n",
       "      <td>0.0</td>\n",
       "      <td>0.0</td>\n",
       "      <td>0.0</td>\n",
       "      <td>0.0</td>\n",
       "      <td>0.0</td>\n",
       "      <td>0.0</td>\n",
       "      <td>0.0</td>\n",
       "      <td>0.0</td>\n",
       "      <td>0.0</td>\n",
       "      <td>0.0</td>\n",
       "    </tr>\n",
       "    <tr>\n",
       "      <th>1</th>\n",
       "      <td>1.0</td>\n",
       "      <td>0.0</td>\n",
       "      <td>0.0</td>\n",
       "      <td>0.0</td>\n",
       "      <td>0.0</td>\n",
       "      <td>0.0</td>\n",
       "      <td>0.0</td>\n",
       "      <td>0.0</td>\n",
       "      <td>0.0</td>\n",
       "      <td>0.0</td>\n",
       "      <td>...</td>\n",
       "      <td>0.0</td>\n",
       "      <td>0.0</td>\n",
       "      <td>0.0</td>\n",
       "      <td>0.0</td>\n",
       "      <td>0.0</td>\n",
       "      <td>0.0</td>\n",
       "      <td>0.0</td>\n",
       "      <td>0.0</td>\n",
       "      <td>0.0</td>\n",
       "      <td>0.0</td>\n",
       "    </tr>\n",
       "    <tr>\n",
       "      <th>2</th>\n",
       "      <td>0.0</td>\n",
       "      <td>0.0</td>\n",
       "      <td>0.0</td>\n",
       "      <td>0.0</td>\n",
       "      <td>0.0</td>\n",
       "      <td>0.0</td>\n",
       "      <td>0.0</td>\n",
       "      <td>0.0</td>\n",
       "      <td>0.0</td>\n",
       "      <td>0.0</td>\n",
       "      <td>...</td>\n",
       "      <td>0.0</td>\n",
       "      <td>0.0</td>\n",
       "      <td>0.0</td>\n",
       "      <td>0.0</td>\n",
       "      <td>0.0</td>\n",
       "      <td>0.0</td>\n",
       "      <td>0.0</td>\n",
       "      <td>0.0</td>\n",
       "      <td>0.0</td>\n",
       "      <td>0.0</td>\n",
       "    </tr>\n",
       "    <tr>\n",
       "      <th>3</th>\n",
       "      <td>1.0</td>\n",
       "      <td>0.0</td>\n",
       "      <td>0.0</td>\n",
       "      <td>0.0</td>\n",
       "      <td>0.0</td>\n",
       "      <td>0.0</td>\n",
       "      <td>0.0</td>\n",
       "      <td>0.0</td>\n",
       "      <td>0.0</td>\n",
       "      <td>0.0</td>\n",
       "      <td>...</td>\n",
       "      <td>0.0</td>\n",
       "      <td>0.0</td>\n",
       "      <td>0.0</td>\n",
       "      <td>0.0</td>\n",
       "      <td>0.0</td>\n",
       "      <td>0.0</td>\n",
       "      <td>0.0</td>\n",
       "      <td>0.0</td>\n",
       "      <td>0.0</td>\n",
       "      <td>0.0</td>\n",
       "    </tr>\n",
       "    <tr>\n",
       "      <th>4</th>\n",
       "      <td>1.0</td>\n",
       "      <td>0.0</td>\n",
       "      <td>0.0</td>\n",
       "      <td>0.0</td>\n",
       "      <td>0.0</td>\n",
       "      <td>0.0</td>\n",
       "      <td>0.0</td>\n",
       "      <td>0.0</td>\n",
       "      <td>0.0</td>\n",
       "      <td>0.0</td>\n",
       "      <td>...</td>\n",
       "      <td>0.0</td>\n",
       "      <td>0.0</td>\n",
       "      <td>0.0</td>\n",
       "      <td>0.0</td>\n",
       "      <td>0.0</td>\n",
       "      <td>0.0</td>\n",
       "      <td>0.0</td>\n",
       "      <td>0.0</td>\n",
       "      <td>0.0</td>\n",
       "      <td>0.0</td>\n",
       "    </tr>\n",
       "    <tr>\n",
       "      <th>...</th>\n",
       "      <td>...</td>\n",
       "      <td>...</td>\n",
       "      <td>...</td>\n",
       "      <td>...</td>\n",
       "      <td>...</td>\n",
       "      <td>...</td>\n",
       "      <td>...</td>\n",
       "      <td>...</td>\n",
       "      <td>...</td>\n",
       "      <td>...</td>\n",
       "      <td>...</td>\n",
       "      <td>...</td>\n",
       "      <td>...</td>\n",
       "      <td>...</td>\n",
       "      <td>...</td>\n",
       "      <td>...</td>\n",
       "      <td>...</td>\n",
       "      <td>...</td>\n",
       "      <td>...</td>\n",
       "      <td>...</td>\n",
       "      <td>...</td>\n",
       "    </tr>\n",
       "    <tr>\n",
       "      <th>72903</th>\n",
       "      <td>1.0</td>\n",
       "      <td>0.0</td>\n",
       "      <td>0.0</td>\n",
       "      <td>0.0</td>\n",
       "      <td>0.0</td>\n",
       "      <td>0.0</td>\n",
       "      <td>0.0</td>\n",
       "      <td>0.0</td>\n",
       "      <td>0.0</td>\n",
       "      <td>0.0</td>\n",
       "      <td>...</td>\n",
       "      <td>0.0</td>\n",
       "      <td>0.0</td>\n",
       "      <td>0.0</td>\n",
       "      <td>0.0</td>\n",
       "      <td>0.0</td>\n",
       "      <td>0.0</td>\n",
       "      <td>0.0</td>\n",
       "      <td>0.0</td>\n",
       "      <td>0.0</td>\n",
       "      <td>0.0</td>\n",
       "    </tr>\n",
       "    <tr>\n",
       "      <th>72904</th>\n",
       "      <td>1.0</td>\n",
       "      <td>0.0</td>\n",
       "      <td>0.0</td>\n",
       "      <td>0.0</td>\n",
       "      <td>0.0</td>\n",
       "      <td>0.0</td>\n",
       "      <td>0.0</td>\n",
       "      <td>0.0</td>\n",
       "      <td>0.0</td>\n",
       "      <td>0.0</td>\n",
       "      <td>...</td>\n",
       "      <td>0.0</td>\n",
       "      <td>0.0</td>\n",
       "      <td>0.0</td>\n",
       "      <td>0.0</td>\n",
       "      <td>0.0</td>\n",
       "      <td>0.0</td>\n",
       "      <td>0.0</td>\n",
       "      <td>0.0</td>\n",
       "      <td>0.0</td>\n",
       "      <td>0.0</td>\n",
       "    </tr>\n",
       "    <tr>\n",
       "      <th>72905</th>\n",
       "      <td>1.0</td>\n",
       "      <td>0.0</td>\n",
       "      <td>0.0</td>\n",
       "      <td>0.0</td>\n",
       "      <td>0.0</td>\n",
       "      <td>0.0</td>\n",
       "      <td>0.0</td>\n",
       "      <td>0.0</td>\n",
       "      <td>0.0</td>\n",
       "      <td>0.0</td>\n",
       "      <td>...</td>\n",
       "      <td>0.0</td>\n",
       "      <td>0.0</td>\n",
       "      <td>0.0</td>\n",
       "      <td>0.0</td>\n",
       "      <td>0.0</td>\n",
       "      <td>0.0</td>\n",
       "      <td>0.0</td>\n",
       "      <td>0.0</td>\n",
       "      <td>0.0</td>\n",
       "      <td>0.0</td>\n",
       "    </tr>\n",
       "    <tr>\n",
       "      <th>72906</th>\n",
       "      <td>1.0</td>\n",
       "      <td>0.0</td>\n",
       "      <td>0.0</td>\n",
       "      <td>0.0</td>\n",
       "      <td>0.0</td>\n",
       "      <td>0.0</td>\n",
       "      <td>0.0</td>\n",
       "      <td>0.0</td>\n",
       "      <td>0.0</td>\n",
       "      <td>0.0</td>\n",
       "      <td>...</td>\n",
       "      <td>0.0</td>\n",
       "      <td>0.0</td>\n",
       "      <td>0.0</td>\n",
       "      <td>0.0</td>\n",
       "      <td>0.0</td>\n",
       "      <td>0.0</td>\n",
       "      <td>0.0</td>\n",
       "      <td>0.0</td>\n",
       "      <td>0.0</td>\n",
       "      <td>0.0</td>\n",
       "    </tr>\n",
       "    <tr>\n",
       "      <th>72907</th>\n",
       "      <td>1.0</td>\n",
       "      <td>0.0</td>\n",
       "      <td>0.0</td>\n",
       "      <td>0.0</td>\n",
       "      <td>0.0</td>\n",
       "      <td>0.0</td>\n",
       "      <td>0.0</td>\n",
       "      <td>0.0</td>\n",
       "      <td>0.0</td>\n",
       "      <td>0.0</td>\n",
       "      <td>...</td>\n",
       "      <td>0.0</td>\n",
       "      <td>0.0</td>\n",
       "      <td>0.0</td>\n",
       "      <td>0.0</td>\n",
       "      <td>0.0</td>\n",
       "      <td>0.0</td>\n",
       "      <td>0.0</td>\n",
       "      <td>0.0</td>\n",
       "      <td>0.0</td>\n",
       "      <td>0.0</td>\n",
       "    </tr>\n",
       "  </tbody>\n",
       "</table>\n",
       "<p>72908 rows × 600 columns</p>\n",
       "</div>"
      ],
      "text/plain": [
       "         0    1    2    3    4    5    6    7    8    9  ...  210.1  211.1  \\\n",
       "0      1.0  0.0  0.0  0.0  0.0  0.0  0.0  0.0  0.0  0.0  ...    0.0    0.0   \n",
       "1      1.0  0.0  0.0  0.0  0.0  0.0  0.0  0.0  0.0  0.0  ...    0.0    0.0   \n",
       "2      0.0  0.0  0.0  0.0  0.0  0.0  0.0  0.0  0.0  0.0  ...    0.0    0.0   \n",
       "3      1.0  0.0  0.0  0.0  0.0  0.0  0.0  0.0  0.0  0.0  ...    0.0    0.0   \n",
       "4      1.0  0.0  0.0  0.0  0.0  0.0  0.0  0.0  0.0  0.0  ...    0.0    0.0   \n",
       "...    ...  ...  ...  ...  ...  ...  ...  ...  ...  ...  ...    ...    ...   \n",
       "72903  1.0  0.0  0.0  0.0  0.0  0.0  0.0  0.0  0.0  0.0  ...    0.0    0.0   \n",
       "72904  1.0  0.0  0.0  0.0  0.0  0.0  0.0  0.0  0.0  0.0  ...    0.0    0.0   \n",
       "72905  1.0  0.0  0.0  0.0  0.0  0.0  0.0  0.0  0.0  0.0  ...    0.0    0.0   \n",
       "72906  1.0  0.0  0.0  0.0  0.0  0.0  0.0  0.0  0.0  0.0  ...    0.0    0.0   \n",
       "72907  1.0  0.0  0.0  0.0  0.0  0.0  0.0  0.0  0.0  0.0  ...    0.0    0.0   \n",
       "\n",
       "       212.1  213.1  214.1  215.1  216.1  217.1  218.1  219.1  \n",
       "0        0.0    0.0    0.0    0.0    0.0    0.0    0.0    0.0  \n",
       "1        0.0    0.0    0.0    0.0    0.0    0.0    0.0    0.0  \n",
       "2        0.0    0.0    0.0    0.0    0.0    0.0    0.0    0.0  \n",
       "3        0.0    0.0    0.0    0.0    0.0    0.0    0.0    0.0  \n",
       "4        0.0    0.0    0.0    0.0    0.0    0.0    0.0    0.0  \n",
       "...      ...    ...    ...    ...    ...    ...    ...    ...  \n",
       "72903    0.0    0.0    0.0    0.0    0.0    0.0    0.0    0.0  \n",
       "72904    0.0    0.0    0.0    0.0    0.0    0.0    0.0    0.0  \n",
       "72905    0.0    0.0    0.0    0.0    0.0    0.0    0.0    0.0  \n",
       "72906    0.0    0.0    0.0    0.0    0.0    0.0    0.0    0.0  \n",
       "72907    0.0    0.0    0.0    0.0    0.0    0.0    0.0    0.0  \n",
       "\n",
       "[72908 rows x 600 columns]"
      ]
     },
     "execution_count": 126,
     "metadata": {},
     "output_type": "execute_result"
    }
   ],
   "source": [
    "pX_test01"
   ]
  },
  {
   "cell_type": "markdown",
   "id": "de93dc6c",
   "metadata": {},
   "source": [
    "## 6. ML model: Random Forest algorithm "
   ]
  },
  {
   "cell_type": "code",
   "execution_count": 48,
   "id": "6f0e344a",
   "metadata": {},
   "outputs": [],
   "source": [
    "lst_models = [\n",
    "    ('Random Forest', RandomForestClassifier(random_state=42, n_jobs=-1)),\n",
    "]\n",
    "\n",
    "cv = StratifiedKFold(n_splits=5, shuffle=True, random_state=42)"
   ]
  },
  {
   "cell_type": "code",
   "execution_count": 78,
   "id": "46354954",
   "metadata": {},
   "outputs": [
    {
     "name": "stdout",
     "output_type": "stream",
     "text": [
      "\tModel Random Forest has been trained in 9.95 seconds\n"
     ]
    }
   ],
   "source": [
    "original_models = Model.train(lst_models, pX_res, np.ravel(py_res), cv)"
   ]
  },
  {
   "cell_type": "code",
   "execution_count": 76,
   "id": "217e64d4",
   "metadata": {},
   "outputs": [],
   "source": [
    "lst_tunning_models = [\n",
    "    ('Random Forest', RandomForestClassifier(random_state=42, n_jobs=-1), {\n",
    "        'bootstrap': [True, False],\n",
    "        'max_depth': [10, 20, 30, 40, 50, 60, 70, 80, 90, 100, None],\n",
    "        'max_features': [\"auto\", \"sqrt\", \"log2\", 5, 10, 15, 20],\n",
    "        'min_samples_leaf': [1, 2, 4],\n",
    "        'min_samples_split': [2, 5, 10],\n",
    "        'n_estimators': [200, 400, 600, 800, 1000, 1200, 1400, 1600, 1800, 2000]}),\n",
    "]"
   ]
  },
  {
   "cell_type": "code",
   "execution_count": null,
   "id": "aed7da67",
   "metadata": {},
   "outputs": [],
   "source": [
    "lst_tunning_models = Model.trainTunningModel(lst_models, pX_res, np.ravel(py_res), cv)"
   ]
  },
  {
   "cell_type": "code",
   "execution_count": 127,
   "id": "1653efe9",
   "metadata": {},
   "outputs": [],
   "source": [
    "lst_tunning_models = [\n",
    "    ('Random Forest', RandomForestClassifier(bootstrap=False, max_depth=90, max_features=5,\n",
    "                         n_estimators=400, n_jobs=-1, random_state=42))]\n",
    "\n",
    "lst_tunning_models_mhc = [\n",
    "    ('Random Forest',RandomForestClassifier(bootstrap=False, max_depth=90, max_features='auto',\n",
    "                         min_samples_split=10, n_estimators=600, n_jobs=-1, random_state=42))]"
   ]
  },
  {
   "cell_type": "code",
   "execution_count": null,
   "id": "862e2a52",
   "metadata": {},
   "outputs": [],
   "source": [
    "best_models = Model.evaluation(lst_tunning_models, pX_res, np.ravel(py_res), pX_test01, py_test01)\n",
    "best_models_mhc = Model.evaluation(lst_tunning_models_mhc, pX_res, np.ravel(py_res), pX_test01, py_test01)"
   ]
  },
  {
   "cell_type": "code",
   "execution_count": 55,
   "id": "052b3ad9",
   "metadata": {},
   "outputs": [],
   "source": [
    "def evaluationGroupedBarChart(pdata, phead=5):\n",
    "    fig = go.Figure()\n",
    "    pdata = pdata.head(phead)\n",
    "    x_labels = [f'{x}' for x in (pdata['model'])]\n",
    "\n",
    "    fig.add_trace(go.Bar(x=x_labels, y=pdata['train_acc']*100, name='Train Acc'))\n",
    "    fig.add_trace(go.Bar(x=x_labels, y=pdata['test_acc']*100, name='Test Acc'))\n",
    "    fig.add_trace(go.Bar(x=x_labels, y=pdata['train_roc_auc']*100, name='Train ROC-AUC'))\n",
    "    fig.add_trace(go.Bar(x=x_labels, y=pdata['test_roc_auc']*100, name='Test ROC-AUC'))\n",
    "\n",
    "    fig.show()"
   ]
  },
  {
   "cell_type": "code",
   "execution_count": 57,
   "id": "436faf55",
   "metadata": {},
   "outputs": [],
   "source": [
    "# evaluationGroupedBarChart(original_models, 7)"
   ]
  },
  {
   "cell_type": "markdown",
   "id": "96f6610f",
   "metadata": {},
   "source": [
    "## 7. Predict model"
   ]
  },
  {
   "cell_type": "code",
   "execution_count": 69,
   "id": "aa8848d3",
   "metadata": {},
   "outputs": [],
   "source": [
    "class TCRmlModel():\n",
    "    def __init__(self, pmodel, pX, py):\n",
    "        self.model = pmodel\n",
    "        self.model.fit(pX, py)\n",
    "    \n",
    "    def predict(self, pnew_data):\n",
    "        yhat_class = self.model.predict(pnew_data)\n",
    "        return yhat_class \n",
    "\n",
    "    \n",
    "    def info(self):\n",
    "        print(self.model)\n",
    "    \n",
    "    def rocAuc(self, X, y_true):\n",
    "        plot_roc_curve(self.model, X, y_true)\n",
    "        plt.show()\n",
    "    \n",
    "    def predict_proba(self, pnew_data):\n",
    "        yhat_class = self.model.predict_proba(pnew_data)\n",
    "        return yhat_class "
   ]
  },
  {
   "cell_type": "code",
   "execution_count": 128,
   "id": "681936b3",
   "metadata": {},
   "outputs": [
    {
     "name": "stdout",
     "output_type": "stream",
     "text": [
      "RandomForestClassifier(bootstrap=False, max_depth=90, max_features=5,\n",
      "                       n_estimators=400, n_jobs=-1, random_state=42)\n"
     ]
    }
   ],
   "source": [
    "rf_tcr = lst_tunning_models[0][1]\n",
    "model_rf = TCRmlModel(rf_tcr, pX_res, np.ravel(py_res))\n",
    "model_rf.info()"
   ]
  },
  {
   "cell_type": "code",
   "execution_count": 129,
   "id": "b707d751",
   "metadata": {},
   "outputs": [],
   "source": [
    "y_rf_test01_proba = model_rf.predict_proba(pX_test01)\n",
    "df_test01 = pd.DataFrame(data = y_rf_test01_proba, columns = [\"tmp\", \"predict_proba\"])"
   ]
  },
  {
   "cell_type": "code",
   "execution_count": 130,
   "id": "629e9a75",
   "metadata": {},
   "outputs": [],
   "source": [
    "df_test = df_test01.iloc[:, 1:]\n",
    "df_prob_test01 = pd.concat([test01, df_test01], axis=1)\n",
    "df_prob_test01['binder_pred'] = np.where(df_prob_test01['predict_proba'] >= 0.5, 1, 0)\n",
    "\n",
    "df_prob_test01.to_csv(\"../data/predict_data/test01_predict_proba.csv\", index=False)"
   ]
  },
  {
   "cell_type": "code",
   "execution_count": 136,
   "id": "262e91ec",
   "metadata": {},
   "outputs": [],
   "source": [
    "y_test01 = df_prob_test01[\"binder\"].to_numpy()\n",
    "y_test01_pred = df_prob_test01[\"binder_pred\"].to_numpy()"
   ]
  },
  {
   "cell_type": "code",
   "execution_count": 137,
   "id": "e161d0fc",
   "metadata": {},
   "outputs": [],
   "source": [
    "def confusionMatrix(y_true, y_pred):\n",
    "    target_names = ['Non-binder', 'Binder']\n",
    "    print(classification_report(y_true, y_pred, target_names=target_names))\n",
    "    cm = pd.DataFrame(confusion_matrix(y_true, y_pred), index=target_names, columns=target_names)\n",
    "    plt.figure(figsize=(6,4))\n",
    "    sns.heatmap(cm, annot=True, fmt='g')\n",
    "    plt.title('Confusion matrix')\n",
    "    plt.xlabel('Predicted values')\n",
    "    plt.ylabel('Actual values')\n",
    "    plt.show()"
   ]
  },
  {
   "cell_type": "code",
   "execution_count": 144,
   "id": "c31b3c94",
   "metadata": {},
   "outputs": [
    {
     "name": "stdout",
     "output_type": "stream",
     "text": [
      "              precision    recall  f1-score   support\n",
      "\n",
      "  Non-binder       0.99      0.90      0.95     66280\n",
      "      Binder       0.49      0.94      0.64      6628\n",
      "\n",
      "    accuracy                           0.91     72908\n",
      "   macro avg       0.74      0.92      0.80     72908\n",
      "weighted avg       0.95      0.91      0.92     72908\n",
      "\n"
     ]
    },
    {
     "data": {
      "image/png": "[encoded data removed]",
      "text/plain": [
       "<Figure size 432x288 with 2 Axes>"
      ]
     },
     "metadata": {
      "needs_background": "light"
     },
     "output_type": "display_data"
    }
   ],
   "source": [
    "confusionMatrix(y_test01, y_test01_pred)\n",
    "tn, fp, fn, tp = confusion_matrix(y_test01, y_test01_pred).ravel()\n",
    "# print('Sensitivity (TPR): ', tp/(tp+fn))\n",
    "# print('Specificity (TNR): ', tn/(tn+fp))"
   ]
  },
  {
   "cell_type": "code",
   "execution_count": 139,
   "id": "7f1093b0",
   "metadata": {},
   "outputs": [],
   "source": [
    "def model_run(algo, pX_res, py_res, pX_test, py_test):\n",
    "\n",
    "    algo.fit(pX_res, np.ravel(py_res))\n",
    "    y_pred = algo.predict(pX_test)\n",
    "    y_pred_proba = algo.predict_proba(pX_test)[:,1]\n",
    "    \n",
    "    accuracy = accuracy_score(py_test, y_pred).ravel()\n",
    "    classify_metrics = classification_report(py_test, y_pred)\n",
    "    f1 = f1_score(py_test, y_pred).ravel()\n",
    "    \n",
    "    fpr, tpr, thresholds = roc_curve(py_test, y_pred_proba)\n",
    "    auc_score = auc(fpr, tpr)\n",
    "    tn, fp, fn, tp = confusion_matrix(py_test, y_pred).ravel()\n",
    "    confusionMatrix(py_test, y_pred)\n",
    "    \n",
    "    print (algo)\n",
    "    print (\"Accuracy score        : \", accuracy)\n",
    "    print (\"F1 score              : \", f1)\n",
    "    print (\"AUC                   : \", auc_score)\n",
    "    print ('Sensitivity (TPR)     : ', tp/(tp+fn))\n",
    "    print ('Specificity (TNR)     : ', tn/(tn+fp))\n",
    "    print (\"classification report :\\n\", classify_metrics)\n",
    "    \n",
    "    return accuracy, classify_metrics, fpr , tpr, auc_score, f1\n"
   ]
  },
  {
   "cell_type": "code",
   "execution_count": 140,
   "id": "e3c3c281",
   "metadata": {},
   "outputs": [
    {
     "name": "stdout",
     "output_type": "stream",
     "text": [
      "              precision    recall  f1-score   support\n",
      "\n",
      "  Non-binder       0.99      0.90      0.95     66280\n",
      "      Binder       0.49      0.94      0.64      6628\n",
      "\n",
      "    accuracy                           0.91     72908\n",
      "   macro avg       0.74      0.92      0.80     72908\n",
      "weighted avg       0.95      0.91      0.92     72908\n",
      "\n"
     ]
    },
    {
     "data": {
      "image/png": "[encoded data removed]",
      "text/plain": [
       "<Figure size 432x288 with 2 Axes>"
      ]
     },
     "metadata": {
      "needs_background": "light"
     },
     "output_type": "display_data"
    },
    {
     "name": "stdout",
     "output_type": "stream",
     "text": [
      "RandomForestClassifier(bootstrap=False, max_depth=90, max_features=5,\n",
      "                       n_estimators=400, n_jobs=-1, random_state=42)\n",
      "Accuracy score        :  [0.90542876]\n",
      "F1 score              :  [0.6448988]\n",
      "AUC                   :  0.977335742159686\n",
      "Sensitivity (TPR)     :  0.9446288473144236\n",
      "Specificity (TNR)     :  0.9015087507543754\n",
      "classification report :\n",
      "               precision    recall  f1-score   support\n",
      "\n",
      "           0       0.99      0.90      0.95     66280\n",
      "           1       0.49      0.94      0.64      6628\n",
      "\n",
      "    accuracy                           0.91     72908\n",
      "   macro avg       0.74      0.92      0.80     72908\n",
      "weighted avg       0.95      0.91      0.92     72908\n",
      "\n"
     ]
    }
   ],
   "source": [
    "accuracy_rf_test01, classify_metrics_rf_test01, fpr_rf_test01, tpr_rf_test01_loc, auc_score_rf_test01, f1_rf_test01 = model_run(rf_tcr, pX_res, py_res, pX_test01, py_test01)"
   ]
  },
  {
   "cell_type": "code",
   "execution_count": 141,
   "id": "ab47af0f",
   "metadata": {},
   "outputs": [
    {
     "data": {
      "image/png": "[encoded data removed]",
      "text/plain": [
       "<Figure size 432x288 with 1 Axes>"
      ]
     },
     "metadata": {
      "needs_background": "light"
     },
     "output_type": "display_data"
    }
   ],
   "source": [
    "from sklearn.metrics import plot_roc_curve\n",
    "\n",
    "ax = plt.subplot()\n",
    "n = pX_test01.shape[0]\n",
    "mean_fpr = np.linspace(0, 1, n)\n",
    "tprs = []\n",
    "aucs = []\n",
    "viz = plot_roc_curve(rf_tcr, pX_test01, py_test01,\n",
    "                         name='Random Forest',\n",
    "                         alpha=.3, lw=2, ax=ax)\n",
    "interp_tpr = np.interp(mean_fpr, viz.fpr, viz.tpr)\n",
    "interp_tpr[0] = 0.0\n",
    "tprs.append(interp_tpr)\n",
    "aucs.append(viz.roc_auc)\n",
    "\n",
    "ax.plot([0, 1], [0, 1], linestyle='--', lw=2, color='r',\n",
    "label='Chance', alpha=.8)\n",
    "ax.set(xlim=[-0.05, 1.05], ylim=[-0.05, 1.05],\n",
    "title=\"ROC curve comparison\")\n",
    "ax.legend(loc=\"lower right\")\n",
    "plt.show()"
   ]
  },
  {
   "cell_type": "code",
   "execution_count": 142,
   "id": "faa54f9f",
   "metadata": {},
   "outputs": [],
   "source": [
    "def saveByPickle(object, path):\n",
    "    pickle.dump(object, open(path, \"wb\"))\n",
    "    print(f\"{object} has been saved at {path}.\")"
   ]
  },
  {
   "cell_type": "code",
   "execution_count": 143,
   "id": "90313d61",
   "metadata": {},
   "outputs": [
    {
     "name": "stdout",
     "output_type": "stream",
     "text": [
      "<__main__.TCRmlModel object at 0x7f88c1ee0828> has been saved at ./models/rdforest_model.pickle.\n"
     ]
    }
   ],
   "source": [
    "saveByPickle(model_rf, \"./models/rdforest_model.pickle\")\n",
    "pickled_model_rf = pickle.load(open('./models/rdforest_model.pickle', 'rb'))"
   ]
  },
  {
   "cell_type": "code",
   "execution_count": null,
   "id": "6f2ec7a4",
   "metadata": {},
   "outputs": [],
   "source": []
  }
 ],
 "metadata": {
  "kernelspec": {
   "display_name": "Python 3.6.8 64-bit",
   "language": "python",
   "name": "python3"
  },
  "language_info": {
   "codemirror_mode": {
    "name": "ipython",
    "version": 3
   },
   "file_extension": ".py",
   "mimetype": "text/x-python",
   "name": "python",
   "nbconvert_exporter": "python",
   "pygments_lexer": "ipython3",
   "version": "3.6.8"
  },
  "vscode": {
   "interpreter": {
    "hash": "aee8b7b246df8f9039afb4144a1f6fd8d2ca17a180786b69acc140d282b71a49"
   }
  }
 },
 "nbformat": 4,
 "nbformat_minor": 5
}
