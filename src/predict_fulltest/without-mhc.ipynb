{
 "cells": [
  {
   "cell_type": "code",
   "execution_count": 7,
   "metadata": {},
   "outputs": [],
   "source": [
    "import pandas as pd\n",
    "import numpy as np\n",
    "import sklearn.metrics as metrics\n",
    "import seaborn as sns\n",
    "import matplotlib.pyplot as plt\n",
    "from sklearn.ensemble import RandomForestClassifier\n",
    "from sklearn.metrics import accuracy_score, roc_auc_score, confusion_matrix\n",
    "from sklearn.model_selection import train_test_split, cross_validate, GridSearchCV\n",
    "from sklearn.metrics import classification_report, confusion_matrix, plot_roc_curve\n",
    "from sklearn.metrics import confusion_matrix,accuracy_score,precision_score,recall_score,roc_auc_score,classification_report,roc_curve,auc, f1_score\n",
    "\n",
    "import pickle\n",
    "import sklearn.metrics as metrics\n",
    "import seaborn as sns\n",
    "import matplotlib.pyplot as plt\n",
    "from sklearn.metrics import roc_curve, auc\n",
    "import plotly.graph_objects as go\n",
    "\n",
    "from sklearn.metrics import classification_report, confusion_matrix, plot_roc_curve\n",
    "from sklearn.metrics import classification_report"
   ]
  },
  {
   "cell_type": "code",
   "execution_count": 3,
   "metadata": {},
   "outputs": [],
   "source": [
    "full_test = pd.read_csv(\"../../data/split-data/without-mhc/test/full_test.csv\")\n",
    "# full_test "
   ]
  },
  {
   "cell_type": "code",
   "execution_count": 4,
   "metadata": {},
   "outputs": [],
   "source": [
    "def split_dataframe_by_position(df, splits):\n",
    "    dataframes = []\n",
    "    index_to_split = len(df) // splits\n",
    "    start = 0\n",
    "    end = index_to_split\n",
    "    for split in range(splits):\n",
    "        temporary_df = df.iloc[start:end, :]\n",
    "        dataframes.append(temporary_df)\n",
    "        start += index_to_split\n",
    "        end += index_to_split\n",
    "    return dataframes\n",
    "\n",
    "sp_data = split_dataframe_by_position(full_test, 11)"
   ]
  },
  {
   "cell_type": "code",
   "execution_count": null,
   "metadata": {},
   "outputs": [],
   "source": [
    "def data_representation(X_data):\n",
    "    seq_cdr3_lst = X_data['CDR3b'].to_list()\n",
    "    seq_epitope_lst = X_data['epitope'].to_list()\n",
    "    \n",
    "    lst1 = []\n",
    "    for seq in seq_cdr3_lst:\n",
    "        e=one_hot_encode(seq)\n",
    "        m_cdr3 = np.reshape(e, (-1, 20))\n",
    "        padding = 19 - len(m_cdr3)\n",
    "        c = np.concatenate((m_cdr3, np.zeros(padding * 20).reshape(padding, 20)), axis=0)\n",
    "        lst1.append(c)\n",
    "\n",
    "    lst2 = []\n",
    "    for seq in seq_epitope_lst:\n",
    "        e=one_hot_encode(seq)\n",
    "        m_epitope = np.reshape(e, (-1, 20))\n",
    "        padding = 11 - len(m_epitope)\n",
    "        c = np.concatenate((m_epitope, np.zeros(padding * 20).reshape(padding, 20)), axis=0)\n",
    "        lst2.append(c)\n",
    "        \n",
    "    res1 = list(map(lambda x: lst1[x].flatten(), range(len(lst1)))) \n",
    "    res2 = list(map(lambda x: lst2[x].flatten(), range(len(lst2))))\n",
    "    \n",
    "    df_res1 = pd.DataFrame(res1)\n",
    "    df_res2 = pd.DataFrame(res2)\n",
    "    result = pd.concat([df_res1, df_res2], axis=1)\n",
    "    \n",
    "    return result"
   ]
  },
  {
   "cell_type": "code",
   "execution_count": null,
   "metadata": {},
   "outputs": [],
   "source": [
    "test01 = sp_data[0]\n",
    "test02 = sp_data[1]\n",
    "test03 = sp_data[2]\n",
    "test04 = sp_data[3]\n",
    "test05 = sp_data[4]\n",
    "test06 = sp_data[5]\n",
    "test07 = sp_data[6]\n",
    "test08 = sp_data[7]\n",
    "test09 = sp_data[8]\n",
    "test10 = sp_data[9]\n",
    "test11 = sp_data[10]\n",
    "test12 = full_test.loc[2933711:2933721, :]"
   ]
  },
  {
   "cell_type": "code",
   "execution_count": null,
   "metadata": {},
   "outputs": [],
   "source": [
    "py_test01 = test01.iloc[:, lambda test01: [2]]\n",
    "py_test02 = test02.iloc[:, lambda test02: [2]]\n",
    "py_test03 = test03.iloc[:, lambda test03: [2]]\n",
    "py_test04 = test04.iloc[:, lambda test04: [2]]\n",
    "py_test05 = test05.iloc[:, lambda test05: [2]]\n",
    "py_test06 = test06.iloc[:, lambda test06: [2]]\n",
    "py_test07 = test07.iloc[:, lambda test07: [2]]\n",
    "py_test08 = test08.iloc[:, lambda test08: [2]]\n",
    "py_test09 = test09.iloc[:, lambda test09: [2]]\n",
    "py_test10 = test10.iloc[:, lambda test10: [2]]\n",
    "py_test11 = test11.iloc[:, lambda test11: [2]]\n",
    "py_test12 = test12.iloc[:, lambda test12: [2]]"
   ]
  },
  {
   "cell_type": "code",
   "execution_count": null,
   "metadata": {},
   "outputs": [],
   "source": [
    "pX_test01 = data_representation(test01)\n",
    "pX_test02 = data_representation(test02)\n",
    "pX_test03 = data_representation(test03)\n",
    "pX_test04 = data_representation(test04)\n",
    "pX_test05 = data_representation(test05)\n",
    "pX_test06 = data_representation(test06)\n",
    "pX_test07 = data_representation(test07)\n",
    "pX_test08 = data_representation(test08)\n",
    "pX_test09 = data_representation(test09)\n",
    "pX_test10 = data_representation(test10)\n",
    "pX_test11 = data_representation(test11)\n",
    "pX_test12 = data_representation(test12)"
   ]
  },
  {
   "cell_type": "code",
   "execution_count": null,
   "metadata": {},
   "outputs": [],
   "source": [
    "pX_test = pd.concat([pX_test01, pX_test02, pX_test03, pX_test04, pX_test05, \n",
    "                     pX_test06, pX_test07, pX_test08, pX_test09, pX_test10, \n",
    "                     pX_test11, pX_test12], axis = 0)\n",
    "\n",
    "pX_test = pX_test.reset_index(drop=True)\n",
    "\n",
    "py_test = pd.concat([py_test01, py_test02, py_test03, py_test04, py_test05, \n",
    "                     py_test06, py_test07, py_test08, py_test09, py_test10, \n",
    "                     py_test11, py_test12])"
   ]
  },
  {
   "cell_type": "code",
   "execution_count": 6,
   "metadata": {},
   "outputs": [],
   "source": [
    "pX_res = pd.read_csv(\"../../data/convert-data/without-mhc/res/X.csv\")\n",
    "py_res = pd.read_csv(\"../../data/convert-data/without-mhc/res/y.csv\")"
   ]
  },
  {
   "cell_type": "code",
   "execution_count": null,
   "metadata": {},
   "outputs": [],
   "source": [
    "lst_models = [ ('Random Forest', RandomForestClassifier(bootstrap=False, max_depth=90, max_features=5,\n",
    "                         n_estimators=400, n_jobs=-1, random_state=42))]\n",
    "\n",
    "class epitcrModel:\n",
    "    def __init__(self, pmodel, pX, py):\n",
    "        self.model = pmodel\n",
    "        self.model.fit(pX, py)\n",
    "    \n",
    "    def predict(self, pnew_data):\n",
    "        yhat_class = self.model.predict(pnew_data)\n",
    "        return yhat_class \n",
    "\n",
    "    def predict_proba(self, pnew_data):\n",
    "        yhat_class = self.model.predict_proba(pnew_data)\n",
    "        return yhat_class \n",
    "\n",
    "def saveByPickle(object, path):\n",
    "    pickle.dump(object, open(path, \"wb\"))\n",
    "    print(f\"{object} has been saved at {path}.\")\n",
    "\n",
    "rf_tcr = lst_models[0][1]\n",
    "model_rf = epitcrModel(rf_tcr, pX_res, np.ravel(py_res))\n",
    "\n",
    "y_rf_test_proba = model_rf.predict_proba(pX_test)\n",
    "df_test = pd.DataFrame(data = y_rf_test_proba, columns = [\"tmp\", \"predict_proba\"])"
   ]
  },
  {
   "cell_type": "code",
   "execution_count": null,
   "metadata": {},
   "outputs": [],
   "source": [
    "df_test = df_test.iloc[:, 1:]\n",
    "df_prob_test = pd.concat([full_test, df_test], axis=1)\n",
    "df_prob_test['binder_pred'] = np.where(df_prob_test['predict_proba'] >= 0.5, 1, 0)\n",
    "df_prob_test.to_csv(\"../../data/predict-data/full-testset/without-mhc.csv\", index=False)"
   ]
  },
  {
   "cell_type": "code",
   "execution_count": null,
   "metadata": {},
   "outputs": [],
   "source": []
  }
 ],
 "metadata": {
  "kernelspec": {
   "display_name": "Python 3.6.8 64-bit",
   "language": "python",
   "name": "python3"
  },
  "language_info": {
   "codemirror_mode": {
    "name": "ipython",
    "version": 3
   },
   "file_extension": ".py",
   "mimetype": "text/x-python",
   "name": "python",
   "nbconvert_exporter": "python",
   "pygments_lexer": "ipython3",
   "version": "3.6.8"
  },
  "orig_nbformat": 4,
  "vscode": {
   "interpreter": {
    "hash": "aee8b7b246df8f9039afb4144a1f6fd8d2ca17a180786b69acc140d282b71a49"
   }
  }
 },
 "nbformat": 4,
 "nbformat_minor": 2
}
