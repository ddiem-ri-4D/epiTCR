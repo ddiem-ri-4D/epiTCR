{
 "cells": [
  {
   "cell_type": "code",
   "execution_count": 6,
   "metadata": {},
   "outputs": [],
   "source": [
    "import numpy as np\n",
    "import pandas as pd"
   ]
  },
  {
   "cell_type": "code",
   "execution_count": 7,
   "metadata": {},
   "outputs": [
    {
     "data": {
      "text/html": [
       "<div>\n",
       "<style scoped>\n",
       "    .dataframe tbody tr th:only-of-type {\n",
       "        vertical-align: middle;\n",
       "    }\n",
       "\n",
       "    .dataframe tbody tr th {\n",
       "        vertical-align: top;\n",
       "    }\n",
       "\n",
       "    .dataframe thead th {\n",
       "        text-align: right;\n",
       "    }\n",
       "</style>\n",
       "<table border=\"1\" class=\"dataframe\">\n",
       "  <thead>\n",
       "    <tr style=\"text-align: right;\">\n",
       "      <th></th>\n",
       "      <th>HLA alleles</th>\n",
       "      <th>IMGT sequences</th>\n",
       "      <th>Length</th>\n",
       "      <th>Reference</th>\n",
       "    </tr>\n",
       "  </thead>\n",
       "  <tbody>\n",
       "    <tr>\n",
       "      <th>0</th>\n",
       "      <td>HLA-A*01:01</td>\n",
       "      <td>MAVMAPRTLLLLLSGALALTQTWAGSHSMRYFFTSVSRPGRGEPRF...</td>\n",
       "      <td>365</td>\n",
       "      <td>https://www.ebi.ac.uk/ipd/imgt/hla/alleles/all...</td>\n",
       "    </tr>\n",
       "    <tr>\n",
       "      <th>1</th>\n",
       "      <td>HLA-A*02:01</td>\n",
       "      <td>MAVMAPRTLVLLLSGALALTQTWAGSHSMRYFFTSVSRPGRGEPRF...</td>\n",
       "      <td>365</td>\n",
       "      <td>https://www.ebi.ac.uk/ipd/imgt/hla/alleles/all...</td>\n",
       "    </tr>\n",
       "    <tr>\n",
       "      <th>2</th>\n",
       "      <td>HLA-B*57:01</td>\n",
       "      <td>MRVTAPRTVLLLLWGAVALTETWAGSHSMRYFYTAMSRPGRGEPRF...</td>\n",
       "      <td>362</td>\n",
       "      <td>https://www.ebi.ac.uk/ipd/imgt/hla/alleles/all...</td>\n",
       "    </tr>\n",
       "    <tr>\n",
       "      <th>3</th>\n",
       "      <td>HLA-B*08:01</td>\n",
       "      <td>MLVMAPRTVLLLLSAALALTETWAGSHSMRYFDTAMSRPGRGEPRF...</td>\n",
       "      <td>362</td>\n",
       "      <td>https://www.ebi.ac.uk/ipd/imgt/hla/alleles/all...</td>\n",
       "    </tr>\n",
       "    <tr>\n",
       "      <th>4</th>\n",
       "      <td>HLA-B*42:01</td>\n",
       "      <td>MLVMAPRTVLLLLSAALALTETWAGSHSMRYFYTSVSRPGRGEPRF...</td>\n",
       "      <td>362</td>\n",
       "      <td>https://www.ebi.ac.uk/ipd/imgt/hla/alleles/all...</td>\n",
       "    </tr>\n",
       "    <tr>\n",
       "      <th>...</th>\n",
       "      <td>...</td>\n",
       "      <td>...</td>\n",
       "      <td>...</td>\n",
       "      <td>...</td>\n",
       "    </tr>\n",
       "    <tr>\n",
       "      <th>67</th>\n",
       "      <td>HLA-DPB1*04:01</td>\n",
       "      <td>MMVLQVSAAPRTVALTALLMVLLTSVVQGRATPENYLFQGRQECYA...</td>\n",
       "      <td>258</td>\n",
       "      <td>https://www.ebi.ac.uk/ipd/imgt/hla/alleles/all...</td>\n",
       "    </tr>\n",
       "    <tr>\n",
       "      <th>68</th>\n",
       "      <td>HLA-DRB1*08:18</td>\n",
       "      <td>MVCLRLPGGSCMAVLTVTLMVLSSPLALAGDTRPRFLEYSTGECYF...</td>\n",
       "      <td>266</td>\n",
       "      <td>https://www.ebi.ac.uk/ipd/imgt/hla/alleles/all...</td>\n",
       "    </tr>\n",
       "    <tr>\n",
       "      <th>69</th>\n",
       "      <td>HLA-B*41:02</td>\n",
       "      <td>MRVTAPRTVLLLLSAALALTETWAGSHSMRYFHTAMSRPGRGEPRF...</td>\n",
       "      <td>362</td>\n",
       "      <td>https://www.ebi.ac.uk/ipd/imgt/hla/alleles/all...</td>\n",
       "    </tr>\n",
       "    <tr>\n",
       "      <th>70</th>\n",
       "      <td>HLA-DRB1*04:02</td>\n",
       "      <td>MVCLKFPGGSCMAALTVTLMVLSSPLALAGDTRPRFLEQVKHECHF...</td>\n",
       "      <td>266</td>\n",
       "      <td>https://www.ebi.ac.uk/ipd/imgt/hla/alleles/all...</td>\n",
       "    </tr>\n",
       "    <tr>\n",
       "      <th>71</th>\n",
       "      <td>HLA-DRB1*14:02</td>\n",
       "      <td>MVCLRLPGGSCMAVLTVTLMVLSSPLALAGDTRPRFLEYSTSECHF...</td>\n",
       "      <td>266</td>\n",
       "      <td>https://www.ebi.ac.uk/ipd/imgt/hla/alleles/all...</td>\n",
       "    </tr>\n",
       "  </tbody>\n",
       "</table>\n",
       "<p>72 rows × 4 columns</p>\n",
       "</div>"
      ],
      "text/plain": [
       "       HLA alleles                                     IMGT sequences  Length  \\\n",
       "0      HLA-A*01:01  MAVMAPRTLLLLLSGALALTQTWAGSHSMRYFFTSVSRPGRGEPRF...     365   \n",
       "1      HLA-A*02:01  MAVMAPRTLVLLLSGALALTQTWAGSHSMRYFFTSVSRPGRGEPRF...     365   \n",
       "2      HLA-B*57:01  MRVTAPRTVLLLLWGAVALTETWAGSHSMRYFYTAMSRPGRGEPRF...     362   \n",
       "3      HLA-B*08:01  MLVMAPRTVLLLLSAALALTETWAGSHSMRYFDTAMSRPGRGEPRF...     362   \n",
       "4      HLA-B*42:01  MLVMAPRTVLLLLSAALALTETWAGSHSMRYFYTSVSRPGRGEPRF...     362   \n",
       "..             ...                                                ...     ...   \n",
       "67  HLA-DPB1*04:01  MMVLQVSAAPRTVALTALLMVLLTSVVQGRATPENYLFQGRQECYA...     258   \n",
       "68  HLA-DRB1*08:18  MVCLRLPGGSCMAVLTVTLMVLSSPLALAGDTRPRFLEYSTGECYF...     266   \n",
       "69     HLA-B*41:02  MRVTAPRTVLLLLSAALALTETWAGSHSMRYFHTAMSRPGRGEPRF...     362   \n",
       "70  HLA-DRB1*04:02  MVCLKFPGGSCMAALTVTLMVLSSPLALAGDTRPRFLEQVKHECHF...     266   \n",
       "71  HLA-DRB1*14:02  MVCLRLPGGSCMAVLTVTLMVLSSPLALAGDTRPRFLEYSTSECHF...     266   \n",
       "\n",
       "                                            Reference  \n",
       "0   https://www.ebi.ac.uk/ipd/imgt/hla/alleles/all...  \n",
       "1   https://www.ebi.ac.uk/ipd/imgt/hla/alleles/all...  \n",
       "2   https://www.ebi.ac.uk/ipd/imgt/hla/alleles/all...  \n",
       "3   https://www.ebi.ac.uk/ipd/imgt/hla/alleles/all...  \n",
       "4   https://www.ebi.ac.uk/ipd/imgt/hla/alleles/all...  \n",
       "..                                                ...  \n",
       "67  https://www.ebi.ac.uk/ipd/imgt/hla/alleles/all...  \n",
       "68  https://www.ebi.ac.uk/ipd/imgt/hla/alleles/all...  \n",
       "69  https://www.ebi.ac.uk/ipd/imgt/hla/alleles/all...  \n",
       "70  https://www.ebi.ac.uk/ipd/imgt/hla/alleles/all...  \n",
       "71  https://www.ebi.ac.uk/ipd/imgt/hla/alleles/all...  \n",
       "\n",
       "[72 rows x 4 columns]"
      ]
     },
     "execution_count": 7,
     "metadata": {},
     "output_type": "execute_result"
    }
   ],
   "source": [
    "df = pd.read_excel('../data/supplementary-data/Table S2.xlsx', sheet_name='Sheet1')\n",
    "df"
   ]
  },
  {
   "cell_type": "code",
   "execution_count": 8,
   "metadata": {},
   "outputs": [],
   "source": [
    "lst_HLA = np.array(df[\"HLA alleles\"])\n",
    "lst_imgt = np.array(df[\"IMGT sequences\"])"
   ]
  },
  {
   "cell_type": "code",
   "execution_count": 9,
   "metadata": {},
   "outputs": [],
   "source": [
    "df = pd.read_csv('../data/supplementary-data/demo2.csv')\n",
    "\n",
    "df['MHC'] = df['HLA'].replace(lst_HLA, lst_imgt)\n",
    "\n",
    "df.to_csv(\"../data/supplementary-data/cv_fulllength.csv\", index=False)"
   ]
  },
  {
   "cell_type": "code",
   "execution_count": null,
   "metadata": {},
   "outputs": [],
   "source": []
  }
 ],
 "metadata": {
  "kernelspec": {
   "display_name": "Python 3.6.8 64-bit",
   "language": "python",
   "name": "python3"
  },
  "language_info": {
   "codemirror_mode": {
    "name": "ipython",
    "version": 3
   },
   "file_extension": ".py",
   "mimetype": "text/x-python",
   "name": "python",
   "nbconvert_exporter": "python",
   "pygments_lexer": "ipython3",
   "version": "3.6.8"
  },
  "orig_nbformat": 4,
  "vscode": {
   "interpreter": {
    "hash": "aee8b7b246df8f9039afb4144a1f6fd8d2ca17a180786b69acc140d282b71a49"
   }
  }
 },
 "nbformat": 4,
 "nbformat_minor": 2
}
