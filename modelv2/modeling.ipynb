{
 "cells": [
  {
   "cell_type": "code",
   "execution_count": 1,
   "metadata": {},
   "outputs": [],
   "source": [
    "import numpy as np\n",
    "import time\n",
    "import pickle\n",
    "import utils as Utils\n",
    "import pandas as pd\n",
    "from sklearn import svm\n",
    "import seaborn as sns\n",
    "import matplotlib.pyplot as plt\n",
    "# import modules.model as Model\n",
    "from matplotlib.backends.backend_pdf import PdfPages\n",
    "import sklearn.metrics as metrics\n",
    "\n",
    "from sklearn.model_selection import KFold\n",
    "from sklearn.model_selection import cross_val_score\n",
    "from sklearn.model_selection import train_test_split\n",
    "from sklearn.svm import SVC\n",
    "from sklearn.pipeline import make_pipeline\n",
    "from sklearn.metrics import accuracy_score, roc_auc_score, confusion_matrix\n",
    "from sklearn.model_selection import train_test_split, cross_validate, GridSearchCV\n",
    "from sklearn.metrics import classification_report, confusion_matrix, plot_roc_curve\n",
    "from sklearn.metrics import confusion_matrix,accuracy_score,precision_score,recall_score,roc_auc_score,classification_report,roc_curve,auc, f1_score\n",
    "from sklearn.metrics import classification_report\n",
    "from sklearn.linear_model import LogisticRegression\n",
    "from sklearn.model_selection import StratifiedKFold\n",
    "from sklearn.neighbors import KNeighborsClassifier\n",
    "from sklearn.naive_bayes import BernoulliNB\n",
    "from sklearn.ensemble import RandomForestClassifier\n",
    "from sklearn.naive_bayes import GaussianNB\n",
    "import plotly.graph_objects as go\n",
    "from imblearn.over_sampling import SMOTE \n",
    "# import modules.processor as Processor\n",
    "# import modules.utils as Utils\n",
    "from imblearn.under_sampling import RandomUnderSampler\n",
    "from sklearn.svm import SVC\n",
    "import xgboost as xgb\n",
    "from xgboost import XGBClassifier\n",
    "from catboost import CatBoostClassifier\n",
    "from sklearn.ensemble import BaggingClassifier\n",
    "from sklearn.multiclass import OneVsRestClassifier\n",
    "from sklearn.preprocessing import StandardScaler\n",
    "import warnings\n",
    "warnings.simplefilter(action=\"ignore\", category=FutureWarning)\n",
    "\n",
    "from tqdm import tqdm\n",
    "import processor as Processor"
   ]
  },
  {
   "cell_type": "code",
   "execution_count": 2,
   "metadata": {
    "scrolled": true
   },
   "outputs": [],
   "source": [
    "# !pip3 install xgboost"
   ]
  },
  {
   "cell_type": "code",
   "execution_count": 3,
   "metadata": {},
   "outputs": [],
   "source": [
    "train_trb = pd.read_csv(\"./data_final/train_trb.csv\")\n",
    "test_trb = pd.read_csv(\"./data_final/test_trb.csv\")"
   ]
  },
  {
   "cell_type": "code",
   "execution_count": 4,
   "metadata": {},
   "outputs": [],
   "source": [
    "train_trb_case1_rf_20 = pd.read_csv(\"./data_final/train_trb_case1_rf_20.csv\",)\n",
    "test_trb_case1_cb_60  = pd.read_csv(\"./data_final/test_trb_case1_cb_60.csv\", )\n",
    "train_trb_case2_rf_20 = pd.read_csv(\"./data_final/train_trb_case2_rf_20.csv\",)\n",
    "test_trb_case2_cb_60  = pd.read_csv(\"./data_final/test_trb_case2_cb_60.csv\", )\n",
    "train_trb_case3_rf_20 = pd.read_csv(\"./data_final/train_trb_case3_rf_20.csv\",)\n",
    "test_trb_case3_cb_60  = pd.read_csv(\"./data_final/test_trb_case3_cb_60.csv\", )"
   ]
  },
  {
   "cell_type": "markdown",
   "metadata": {},
   "source": [
    "# Case 01"
   ]
  },
  {
   "cell_type": "code",
   "execution_count": 5,
   "metadata": {},
   "outputs": [],
   "source": [
    "nm = RandomUnderSampler(random_state=42)\n",
    "X_res_case1, y_res_case1 = nm.fit_resample(train_trb_case1_rf_20[[\"CDR3b\", \"epitope\"]], train_trb_case1_rf_20[[\"binder\"]])"
   ]
  },
  {
   "cell_type": "code",
   "execution_count": 6,
   "metadata": {},
   "outputs": [
    {
     "data": {
      "text/plain": [
       "((22240, 2), (22240, 1))"
      ]
     },
     "execution_count": 6,
     "metadata": {},
     "output_type": "execute_result"
    }
   ],
   "source": [
    "X_res_case1.shape, y_res_case1.shape"
   ]
  },
  {
   "cell_type": "code",
   "execution_count": 18,
   "metadata": {},
   "outputs": [],
   "source": [
    "pX_res_case1 = Processor.data_representation_blosum62(X_res_case1)\n",
    "py_res_case1 = y_res_case1.copy()\n",
    "\n",
    "pX_test_rf_case1 = Processor.data_representation_blosum62(test_trb_case1_cb_60)\n",
    "py_test_rf_case1 = test_trb_case1_cb_60[[\"binder\"]]\n",
    "\n",
    "pX_test_cb_case1 = Processor.data_representation_blosum62(test_trb)\n",
    "py_test_cb_case1 = test_trb[[\"binder\"]]"
   ]
  },
  {
   "cell_type": "code",
   "execution_count": 20,
   "metadata": {},
   "outputs": [
    {
     "name": "stdout",
     "output_type": "stream",
     "text": [
      "(22240, 600) (22240, 1)\n",
      "(781623, 600) (781623, 1)\n",
      "(279997, 600) (279997, 1)\n"
     ]
    }
   ],
   "source": [
    "print(pX_res_case1.shape, py_res_case1.shape)\n",
    "print(pX_test_rf_case1.shape, py_test_rf_case1.shape)\n",
    "print(pX_test_cb_case1.shape, py_test_cb_case1.shape)"
   ]
  },
  {
   "cell_type": "code",
   "execution_count": 33,
   "metadata": {},
   "outputs": [],
   "source": [
    "lst_models = [\n",
    "#     ('Logistic Regression - [solver: lbfgs]', LogisticRegression(solver='lbfgs')),\n",
    "#     ('Logistic Regression - [solver: liblinear]', LogisticRegression(solver='liblinear')),\n",
    "#     ('Logistic Regression - [solver: newton-cg]', LogisticRegression(solver='newton-cg')),\n",
    "#     ('KNN - [n_neighbors: 2]', KNeighborsClassifier(n_neighbors=2)),\n",
    "#     ('KNN - [n_neighbors: 3]', KNeighborsClassifier(n_neighbors=3)),\n",
    "#     ('SVC - [kernel: linear]', SVC(kernel='linear', random_state=42)),\n",
    "#     ('SVC - [kernel: poly]', SVC(kernel='poly', random_state=42)),\n",
    "#     ('SVC - [kernel: rbf]', SVC(kernel='rbf', random_state=42)),\n",
    "#     ('SVC - [kernel: sigmoid]', SVC(kernel='sigmoid', random_state=42)),\n",
    "#     ('Bernoulli', BernoulliNB()),\n",
    "    ('Random Forest', RandomForestClassifier(random_state=42, n_jobs=-1)),\n",
    "#     ('XGBoost', XGBClassifier(eval_metric='mlogloss'))\n",
    "]\n",
    "\n",
    "cv = StratifiedKFold(n_splits=5, shuffle=True, random_state=42)"
   ]
  },
  {
   "cell_type": "code",
   "execution_count": 36,
   "metadata": {},
   "outputs": [],
   "source": [
    "def train(lst_models, X, y, cv):\n",
    "    res_table = []\n",
    "    for mdl_name, model in tqdm(lst_models):\n",
    "        tic = time.time()\n",
    "        cv_res = cross_validate(model, X, y, cv=cv, return_train_score=True, scoring=['accuracy', 'roc_auc'], n_jobs=-1)\n",
    "        res_table.append([mdl_name, \n",
    "                          cv_res['train_accuracy'].mean(), \n",
    "                          cv_res['test_accuracy'].mean(), \n",
    "                          np.abs(cv_res['train_accuracy'].mean() - cv_res['test_accuracy'].mean()),\n",
    "                          cv_res['train_accuracy'].std(),\n",
    "                          cv_res['test_accuracy'].std(),\n",
    "                          cv_res['train_roc_auc'].mean(),\n",
    "                          cv_res['test_roc_auc'].mean(),\n",
    "                          np.abs(cv_res['train_roc_auc'].mean() - cv_res['test_roc_auc'].mean()),\n",
    "                          cv_res['train_roc_auc'].std(),\n",
    "                          cv_res['test_roc_auc'].std(),\n",
    "                          cv_res['fit_time'].mean()\n",
    "        ])\n",
    "        toc = time.time()\n",
    "        print('\\tModel {} has been trained in {:,.2f} seconds'.format(mdl_name, (toc - tic)))\n",
    "    \n",
    "    res_table = pd.DataFrame(res_table, columns=['model', 'train_acc', 'test_acc', 'diff_acc',\n",
    "                                                 'train_acc_std', 'test_acc_std', 'train_roc_auc', 'test_roc_auc',\n",
    "                                                 'diff_roc_auc', 'train_roc_auc_std', 'test_roc_auc_std', 'fit_time'])\n",
    "    res_table.sort_values(by=['test_acc', 'test_roc_auc'], ascending=False, inplace=True)\n",
    "\n",
    "    return res_table.reset_index(drop=True)"
   ]
  },
  {
   "cell_type": "code",
   "execution_count": 23,
   "metadata": {},
   "outputs": [
    {
     "name": "stderr",
     "output_type": "stream",
     "text": [
      "  0%|          | 0/1 [00:00<?, ?it/s]/usr/local/lib/python3.8/dist-packages/joblib/externals/loky/process_executor.py:700: UserWarning: A worker stopped while some jobs were given to the executor. This can be caused by a too short worker timeout or by a memory leak.\n",
      "  warnings.warn(\n",
      "100%|██████████| 1/1 [00:04<00:00,  4.22s/it]"
     ]
    },
    {
     "name": "stdout",
     "output_type": "stream",
     "text": [
      "\tModel Random Forest has been trained in 4.22 seconds\n"
     ]
    },
    {
     "name": "stderr",
     "output_type": "stream",
     "text": [
      "\n"
     ]
    },
    {
     "data": {
      "text/html": [
       "<div>\n",
       "<style scoped>\n",
       "    .dataframe tbody tr th:only-of-type {\n",
       "        vertical-align: middle;\n",
       "    }\n",
       "\n",
       "    .dataframe tbody tr th {\n",
       "        vertical-align: top;\n",
       "    }\n",
       "\n",
       "    .dataframe thead th {\n",
       "        text-align: right;\n",
       "    }\n",
       "</style>\n",
       "<table border=\"1\" class=\"dataframe\">\n",
       "  <thead>\n",
       "    <tr style=\"text-align: right;\">\n",
       "      <th></th>\n",
       "      <th>model</th>\n",
       "      <th>train_acc</th>\n",
       "      <th>test_acc</th>\n",
       "      <th>diff_acc</th>\n",
       "      <th>train_acc_std</th>\n",
       "      <th>test_acc_std</th>\n",
       "      <th>train_roc_auc</th>\n",
       "      <th>test_roc_auc</th>\n",
       "      <th>diff_roc_auc</th>\n",
       "      <th>train_roc_auc_std</th>\n",
       "      <th>test_roc_auc_std</th>\n",
       "      <th>fit_time</th>\n",
       "    </tr>\n",
       "  </thead>\n",
       "  <tbody>\n",
       "    <tr>\n",
       "      <th>0</th>\n",
       "      <td>Random Forest</td>\n",
       "      <td>0.999989</td>\n",
       "      <td>0.959622</td>\n",
       "      <td>0.040366</td>\n",
       "      <td>0.000022</td>\n",
       "      <td>0.002093</td>\n",
       "      <td>1.0</td>\n",
       "      <td>0.992482</td>\n",
       "      <td>0.007518</td>\n",
       "      <td>0.0</td>\n",
       "      <td>0.001338</td>\n",
       "      <td>0.945741</td>\n",
       "    </tr>\n",
       "  </tbody>\n",
       "</table>\n",
       "</div>"
      ],
      "text/plain": [
       "           model  train_acc  test_acc  diff_acc  train_acc_std  test_acc_std  \\\n",
       "0  Random Forest   0.999989  0.959622  0.040366       0.000022      0.002093   \n",
       "\n",
       "   train_roc_auc  test_roc_auc  diff_roc_auc  train_roc_auc_std  \\\n",
       "0            1.0      0.992482      0.007518                0.0   \n",
       "\n",
       "   test_roc_auc_std  fit_time  \n",
       "0          0.001338  0.945741  "
      ]
     },
     "execution_count": 23,
     "metadata": {},
     "output_type": "execute_result"
    }
   ],
   "source": [
    "original_models = train(lst_models, pX_res_case1, np.ravel(py_res_case1), cv)\n",
    "original_models"
   ]
  },
  {
   "cell_type": "code",
   "execution_count": 48,
   "metadata": {},
   "outputs": [],
   "source": [
    "lst_tunning_models = [\n",
    "     ('Random Forest', RandomForestClassifier(random_state=42, n_jobs=-1), {\n",
    "        'bootstrap': [True, False],\n",
    "        'max_depth': [10, 20, 30, 40, 50, 60, 70, 80, 90, 100, None],\n",
    "        'max_features': [\"auto\", \"sqrt\", \"log2\", 5, 10, 15, 20],\n",
    "        'min_samples_leaf': [1, 2, 4],\n",
    "        'n_estimators': [200, 400, 600, 800, 1000]})]\n",
    "\n",
    "def trainTunningModel(lst_models, X, y, cv):\n",
    "    models_final = []\n",
    "    for model_name, model, params in tqdm(lst_models):\n",
    "        tic     = time.time()\n",
    "        search = GridSearchCV(estimator=model, param_grid=params, cv=cv, scoring='accuracy', n_jobs=-1)\n",
    "        search.fit(X, y)\n",
    "        model_tunned = model.set_params(**search.best_params_)\n",
    "        models_final.append((model_name, model_tunned))\n",
    "        toc = time.time()\n",
    "        print('Model {} has been tunned in {:,.2f} seconds'.format(model_name, (toc - tic)))\n",
    "\n",
    "    return models_final"
   ]
  },
  {
   "cell_type": "code",
   "execution_count": 49,
   "metadata": {
    "scrolled": true
   },
   "outputs": [
    {
     "name": "stderr",
     "output_type": "stream",
     "text": [
      "  0%|          | 0/1 [00:00<?, ?it/s]/usr/local/lib/python3.8/dist-packages/joblib/externals/loky/process_executor.py:700: UserWarning: A worker stopped while some jobs were given to the executor. This can be caused by a too short worker timeout or by a memory leak.\n",
      "  warnings.warn(\n",
      "100%|██████████| 1/1 [1:29:05<00:00, 5345.91s/it]"
     ]
    },
    {
     "name": "stdout",
     "output_type": "stream",
     "text": [
      "Model Random Forest has been tunned in 5,345.91 seconds\n"
     ]
    },
    {
     "name": "stderr",
     "output_type": "stream",
     "text": [
      "\n"
     ]
    }
   ],
   "source": [
    "lst_tunning_models = trainTunningModel(lst_tunning_models, pX_res_case1, np.ravel(py_res_case1), cv)\n",
    "lst_tunning_models"
   ]
  },
  {
   "cell_type": "code",
   "execution_count": 50,
   "metadata": {},
   "outputs": [],
   "source": [
    "lst_tunning_models"
   ]
  },
  {
   "cell_type": "code",
   "execution_count": null,
   "metadata": {},
   "outputs": [],
   "source": [
    "tunning_models = train(lst_tunning_models, pX_res_case1, np.ravel(py_res_case1), cv)\n",
    "tunning_models"
   ]
  },
  {
   "cell_type": "code",
   "execution_count": 42,
   "metadata": {},
   "outputs": [],
   "source": [
    "def evaluation(tunning_models, X_train, y_train, X_test, y_test):\n",
    "    res = []\n",
    "    for name, model in tqdm(tunning_models):\n",
    "        model.fit(X_train, y_train)\n",
    "        y_train_pred = model.predict(X_train)\n",
    "        y_test_pred = model.predict(X_test)\n",
    "        train_acc = accuracy_score(y_train, y_train_pred)\n",
    "        test_acc = accuracy_score(y_test, y_test_pred)\n",
    "        train_roc_auc = roc_auc_score(y_train, y_train_pred)\n",
    "        test_roc_auc = roc_auc_score(y_test, y_test_pred)\n",
    "        res.append([name, train_acc, test_acc, train_roc_auc, test_roc_auc])\n",
    "        \n",
    "    res = pd.DataFrame(res, columns=['model', 'train_acc', 'test_acc', 'train_roc_auc', 'test_roc_auc'])\n",
    "    res.sort_values(by=['test_acc', 'test_roc_auc'], ascending=False, inplace=True)\n",
    "    \n",
    "    return res.reset_index(drop=True)"
   ]
  },
  {
   "cell_type": "code",
   "execution_count": 43,
   "metadata": {},
   "outputs": [
    {
     "name": "stderr",
     "output_type": "stream",
     "text": [
      "0it [00:00, ?it/s]\n"
     ]
    },
    {
     "ename": "TypeError",
     "evalue": "'NoneType' object is not iterable",
     "output_type": "error",
     "traceback": [
      "\u001b[0;31m---------------------------------------------------------------------------\u001b[0m",
      "\u001b[0;31mTypeError\u001b[0m                                 Traceback (most recent call last)",
      "Input \u001b[0;32mIn [43]\u001b[0m, in \u001b[0;36m<cell line: 1>\u001b[0;34m()\u001b[0m\n\u001b[0;32m----> 1\u001b[0m best_models \u001b[38;5;241m=\u001b[39m \u001b[43mevaluation\u001b[49m\u001b[43m(\u001b[49m\u001b[43mlst_tunning_models\u001b[49m\u001b[43m,\u001b[49m\u001b[43m \u001b[49m\u001b[43mpX_res_case1\u001b[49m\u001b[43m,\u001b[49m\u001b[43m \u001b[49m\u001b[43mnp\u001b[49m\u001b[38;5;241;43m.\u001b[39;49m\u001b[43mravel\u001b[49m\u001b[43m(\u001b[49m\u001b[43mpy_res_case1\u001b[49m\u001b[43m)\u001b[49m\u001b[43m,\u001b[49m\u001b[43m \u001b[49m\u001b[43mpX_test_rf_case1\u001b[49m\u001b[43m,\u001b[49m\u001b[43m \u001b[49m\u001b[43mpy_test_rf_case1\u001b[49m\u001b[43m)\u001b[49m\n\u001b[1;32m      2\u001b[0m best_models\n",
      "Input \u001b[0;32mIn [42]\u001b[0m, in \u001b[0;36mevaluation\u001b[0;34m(tunning_models, X_train, y_train, X_test, y_test)\u001b[0m\n\u001b[1;32m      1\u001b[0m \u001b[38;5;28;01mdef\u001b[39;00m \u001b[38;5;21mevaluation\u001b[39m(tunning_models, X_train, y_train, X_test, y_test):\n\u001b[1;32m      2\u001b[0m     res \u001b[38;5;241m=\u001b[39m []\n\u001b[0;32m----> 3\u001b[0m     \u001b[38;5;28;01mfor\u001b[39;00m name, model \u001b[38;5;129;01min\u001b[39;00m tqdm(tunning_models):\n\u001b[1;32m      4\u001b[0m         model\u001b[38;5;241m.\u001b[39mfit(X_train, y_train)\n\u001b[1;32m      5\u001b[0m         y_train_pred \u001b[38;5;241m=\u001b[39m model\u001b[38;5;241m.\u001b[39mpredict(X_train)\n",
      "File \u001b[0;32m/usr/local/lib/python3.8/dist-packages/tqdm/std.py:1195\u001b[0m, in \u001b[0;36mtqdm.__iter__\u001b[0;34m(self)\u001b[0m\n\u001b[1;32m   1192\u001b[0m time \u001b[38;5;241m=\u001b[39m \u001b[38;5;28mself\u001b[39m\u001b[38;5;241m.\u001b[39m_time\n\u001b[1;32m   1194\u001b[0m \u001b[38;5;28;01mtry\u001b[39;00m:\n\u001b[0;32m-> 1195\u001b[0m     \u001b[38;5;28;01mfor\u001b[39;00m obj \u001b[38;5;129;01min\u001b[39;00m iterable:\n\u001b[1;32m   1196\u001b[0m         \u001b[38;5;28;01myield\u001b[39;00m obj\n\u001b[1;32m   1197\u001b[0m         \u001b[38;5;66;03m# Update and possibly print the progressbar.\u001b[39;00m\n\u001b[1;32m   1198\u001b[0m         \u001b[38;5;66;03m# Note: does not call self.update(1) for speed optimisation.\u001b[39;00m\n",
      "\u001b[0;31mTypeError\u001b[0m: 'NoneType' object is not iterable"
     ]
    }
   ],
   "source": [
    "best_models = evaluation(lst_tunning_models, pX_res_case1, np.ravel(py_res_case1), pX_test_rf_case1, py_test_rf_case1)\n",
    "best_models"
   ]
  },
  {
   "cell_type": "code",
   "execution_count": 29,
   "metadata": {},
   "outputs": [],
   "source": [
    "def confusionMatrix(y_true, y_pred):\n",
    "    target_names = ['Non-binder', 'Binder']\n",
    "    print(classification_report(y_true, y_pred, target_names=target_names))\n",
    "    cm = pd.DataFrame(confusion_matrix(y_true, y_pred), index=target_names, columns=target_names)\n",
    "    plt.figure(figsize=(6,4))\n",
    "    sns.heatmap(cm, annot=True, fmt='g')\n",
    "    plt.title('Confusion matrix')\n",
    "    plt.xlabel('Predicted values')\n",
    "    plt.ylabel('Actual values')\n",
    "    plt.show()"
   ]
  },
  {
   "cell_type": "code",
   "execution_count": 30,
   "metadata": {},
   "outputs": [],
   "source": [
    "def model_run(algo, pX_res, py_res, pX_test, py_test):\n",
    "\n",
    "    algo.fit(pX_res, np.ravel(py_res))\n",
    "    y_pred = algo.predict(pX_test)\n",
    "    y_pred_proba = algo.predict_proba(pX_test)[:,1]\n",
    "    \n",
    "    accuracy = accuracy_score(py_test, y_pred).ravel()\n",
    "    classify_metrics = classification_report(py_test, y_pred)\n",
    "    f1 = f1_score(py_test, y_pred).ravel()\n",
    "    \n",
    "    fpr, tpr, thresholds = roc_curve(py_test, y_pred_proba)\n",
    "    auc_score = auc(fpr, tpr)\n",
    "    tn, fp, fn, tp = confusion_matrix(py_test, y_pred).ravel()\n",
    "    confusionMatrix(py_test, y_pred)\n",
    "    \n",
    "    print (algo)\n",
    "    print (\"Accuracy score        : \", accuracy)\n",
    "    print (\"F1 score              : \", f1)\n",
    "    print (\"AUC                   : \", auc_score)\n",
    "    print ('Sensitivity (TPR)     : ', tp/(tp+fn))\n",
    "    print ('Specificity (TNR)     : ', tn/(tn+fp))\n",
    "    print (\"classification report :\\n\", classify_metrics)\n",
    "    \n",
    "    return accuracy, classify_metrics, fpr , tpr, auc_score, f1"
   ]
  },
  {
   "cell_type": "code",
   "execution_count": 32,
   "metadata": {},
   "outputs": [
    {
     "name": "stdout",
     "output_type": "stream",
     "text": [
      "              precision    recall  f1-score   support\n",
      "\n",
      "  Non-binder       0.91      0.98      0.94    707865\n",
      "      Binder       0.26      0.06      0.10     73758\n",
      "\n",
      "    accuracy                           0.89    781623\n",
      "   macro avg       0.59      0.52      0.52    781623\n",
      "weighted avg       0.85      0.89      0.86    781623\n",
      "\n"
     ]
    },
    {
     "data": {
      "image/png": "[encoded data removed]",
      "text/plain": [
       "<Figure size 600x400 with 2 Axes>"
      ]
     },
     "metadata": {},
     "output_type": "display_data"
    },
    {
     "name": "stdout",
     "output_type": "stream",
     "text": [
      "RandomForestClassifier(n_jobs=-1, random_state=42)\n",
      "Accuracy score        :  [0.89462439]\n",
      "F1 score              :  [0.1036089]\n",
      "AUC                   :  0.5958140758679756\n",
      "Sensitivity (TPR)     :  0.06453537243417663\n",
      "Specificity (TNR)     :  0.9811178685201274\n",
      "classification report :\n",
      "               precision    recall  f1-score   support\n",
      "\n",
      "           0       0.91      0.98      0.94    707865\n",
      "           1       0.26      0.06      0.10     73758\n",
      "\n",
      "    accuracy                           0.89    781623\n",
      "   macro avg       0.59      0.52      0.52    781623\n",
      "weighted avg       0.85      0.89      0.86    781623\n",
      "\n"
     ]
    }
   ],
   "source": [
    "model_rf = lst_models[0][1]\n",
    "\n",
    "accuracy, metrics, fpr , tpr, auc_score, f1 = model_run(model_rf, pX_res_case1, py_res_case1, pX_test_rf_case1, py_test_rf_case1)"
   ]
  },
  {
   "cell_type": "code",
   "execution_count": null,
   "metadata": {},
   "outputs": [],
   "source": []
  }
 ],
 "metadata": {
  "kernelspec": {
   "display_name": "Python 3",
   "language": "python",
   "name": "python3"
  },
  "language_info": {
   "codemirror_mode": {
    "name": "ipython",
    "version": 3
   },
   "file_extension": ".py",
   "mimetype": "text/x-python",
   "name": "python",
   "nbconvert_exporter": "python",
   "pygments_lexer": "ipython3",
   "version": "3.8.10"
  }
 },
 "nbformat": 4,
 "nbformat_minor": 2
}
