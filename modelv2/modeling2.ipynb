{
 "cells": [
  {
   "cell_type": "code",
   "execution_count": 6,
   "metadata": {},
   "outputs": [],
   "source": [
    "import numpy as np\n",
    "import time\n",
    "import pickle\n",
    "import utils as Utils\n",
    "import pandas as pd\n",
    "from sklearn import svm\n",
    "import seaborn as sns\n",
    "import matplotlib.pyplot as plt\n",
    "# import modules.model as Model\n",
    "from matplotlib.backends.backend_pdf import PdfPages\n",
    "import sklearn.metrics as metrics\n",
    "\n",
    "from sklearn.model_selection import KFold\n",
    "from sklearn.model_selection import cross_val_score\n",
    "from sklearn.model_selection import train_test_split\n",
    "from sklearn.svm import SVC\n",
    "from sklearn.pipeline import make_pipeline\n",
    "from sklearn.metrics import accuracy_score, roc_auc_score, confusion_matrix\n",
    "from sklearn.model_selection import train_test_split, cross_validate, GridSearchCV\n",
    "from sklearn.metrics import classification_report, confusion_matrix, plot_roc_curve\n",
    "from sklearn.metrics import confusion_matrix,accuracy_score,precision_score,recall_score,roc_auc_score,classification_report,roc_curve,auc, f1_score\n",
    "from sklearn.metrics import classification_report\n",
    "from sklearn.linear_model import LogisticRegression\n",
    "from sklearn.model_selection import StratifiedKFold\n",
    "from sklearn.neighbors import KNeighborsClassifier\n",
    "from sklearn.naive_bayes import BernoulliNB\n",
    "from sklearn.ensemble import RandomForestClassifier\n",
    "from sklearn.naive_bayes import GaussianNB\n",
    "import plotly.graph_objects as go\n",
    "from imblearn.over_sampling import SMOTE \n",
    "# import modules.processor as Processor\n",
    "# import modules.utils as Utils\n",
    "from imblearn.under_sampling import RandomUnderSampler\n",
    "from sklearn.svm import SVC\n",
    "import xgboost as xgb\n",
    "from xgboost import XGBClassifier\n",
    "from catboost import CatBoostClassifier\n",
    "from sklearn.ensemble import BaggingClassifier\n",
    "from sklearn.multiclass import OneVsRestClassifier\n",
    "from sklearn.preprocessing import StandardScaler\n",
    "from sklearn.tree import DecisionTreeClassifier\n",
    "import warnings\n",
    "warnings.simplefilter(action=\"ignore\", category=FutureWarning)\n",
    "\n",
    "from tqdm import tqdm\n",
    "import processor as Processor"
   ]
  },
  {
   "cell_type": "code",
   "execution_count": 13,
   "metadata": {
    "scrolled": true
   },
   "outputs": [],
   "source": [
    "# !pip3 install xgboost"
   ]
  },
  {
   "cell_type": "code",
   "execution_count": 2,
   "metadata": {},
   "outputs": [],
   "source": [
    "train_trb = pd.read_csv(\"./data_final/train_trb.csv\")\n",
    "test_trb = pd.read_csv(\"./data_final/test_trb.csv\")"
   ]
  },
  {
   "cell_type": "code",
   "execution_count": 3,
   "metadata": {},
   "outputs": [],
   "source": [
    "nm = RandomUnderSampler(random_state=42)\n",
    "X_res, y_res = nm.fit_resample(train_trb[[\"CDR3b\", \"epitope\"]], train_trb[[\"binder\"]])"
   ]
  },
  {
   "cell_type": "code",
   "execution_count": 4,
   "metadata": {},
   "outputs": [],
   "source": [
    "pX_res = Processor.data_representation_blosum62(X_res)\n",
    "py_res = y_res.copy()\n",
    "\n",
    "pX_test = Processor.data_representation_blosum62(test_trb)\n",
    "pX_test = test_trb[[\"binder\"]]"
   ]
  },
  {
   "cell_type": "code",
   "execution_count": 5,
   "metadata": {},
   "outputs": [
    {
     "name": "stdout",
     "output_type": "stream",
     "text": [
      "(83874, 600) (83874, 1)\n",
      "(1385101, 1) (1385101, 1)\n"
     ]
    }
   ],
   "source": [
    "print(pX_res.shape, py_res.shape)\n",
    "print(pX_test.shape, pX_test.shape)"
   ]
  },
  {
   "cell_type": "code",
   "execution_count": 7,
   "metadata": {},
   "outputs": [],
   "source": [
    "lst_models = [\n",
    "    ('Logistic Regression - [solver: lbfgs]', LogisticRegression(solver='lbfgs')),\n",
    "    ('Logistic Regression - [solver: liblinear]', LogisticRegression(solver='liblinear')),\n",
    "    ('Logistic Regression - [solver: newton-cg]', LogisticRegression(solver='newton-cg')),\n",
    "    ('KNN - [n_neighbors: 2]', KNeighborsClassifier(n_neighbors=2)),\n",
    "    ('KNN - [n_neighbors: 3]', KNeighborsClassifier(n_neighbors=3)),\n",
    "#     ('SVC - [kernel: linear]', SVC(kernel='linear', random_state=42)),\n",
    "#     ('SVC - [kernel: poly]', SVC(kernel='poly', random_state=42)),\n",
    "#     ('SVC - [kernel: rbf]', SVC(kernel='rbf', random_state=42)),\n",
    "#     ('SVC - [kernel: sigmoid]', SVC(kernel='sigmoid', random_state=42)),\n",
    "    ('Bernoulli', BernoulliNB()),\n",
    "    ('Decision Tree', DecisionTreeClassifier(random_state=42)),\n",
    "    ('Random Forest', RandomForestClassifier(random_state=42, n_jobs=-1)),]\n",
    "\n",
    "cv = StratifiedKFold(n_splits=5, shuffle=True, random_state=42)"
   ]
  },
  {
   "cell_type": "code",
   "execution_count": 8,
   "metadata": {},
   "outputs": [],
   "source": [
    "def train(lst_models, X, y, cv):\n",
    "    res_table = []\n",
    "    for mdl_name, model in tqdm(lst_models):\n",
    "        tic = time.time()\n",
    "        cv_res = cross_validate(model, X, y, cv=cv, return_train_score=True, scoring=['accuracy', 'roc_auc'], n_jobs=-1)\n",
    "        res_table.append([mdl_name, \n",
    "                          cv_res['train_accuracy'].mean(), \n",
    "                          cv_res['test_accuracy'].mean(), \n",
    "                          np.abs(cv_res['train_accuracy'].mean() - cv_res['test_accuracy'].mean()),\n",
    "                          cv_res['train_accuracy'].std(),\n",
    "                          cv_res['test_accuracy'].std(),\n",
    "                          cv_res['train_roc_auc'].mean(),\n",
    "                          cv_res['test_roc_auc'].mean(),\n",
    "                          np.abs(cv_res['train_roc_auc'].mean() - cv_res['test_roc_auc'].mean()),\n",
    "                          cv_res['train_roc_auc'].std(),\n",
    "                          cv_res['test_roc_auc'].std(),\n",
    "                          cv_res['fit_time'].mean()\n",
    "        ])\n",
    "        toc = time.time()\n",
    "        print('\\tModel {} has been trained in {:,.2f} seconds'.format(mdl_name, (toc - tic)))\n",
    "    \n",
    "    res_table = pd.DataFrame(res_table, columns=['model', 'train_acc', 'test_acc', 'diff_acc',\n",
    "                                                 'train_acc_std', 'test_acc_std', 'train_roc_auc', 'test_roc_auc',\n",
    "                                                 'diff_roc_auc', 'train_roc_auc_std', 'test_roc_auc_std', 'fit_time'])\n",
    "    res_table.sort_values(by=['test_acc', 'test_roc_auc'], ascending=False, inplace=True)\n",
    "\n",
    "    return res_table.reset_index(drop=True)"
   ]
  },
  {
   "cell_type": "code",
   "execution_count": 9,
   "metadata": {},
   "outputs": [
    {
     "name": "stderr",
     "output_type": "stream",
     "text": [
      " 12%|█▎        | 1/8 [00:23<02:42, 23.28s/it]"
     ]
    },
    {
     "name": "stdout",
     "output_type": "stream",
     "text": [
      "\tModel Logistic Regression - [solver: lbfgs] has been trained in 23.28 seconds\n"
     ]
    },
    {
     "name": "stderr",
     "output_type": "stream",
     "text": [
      "\r",
      " 25%|██▌       | 2/8 [04:20<14:53, 148.87s/it]"
     ]
    },
    {
     "name": "stdout",
     "output_type": "stream",
     "text": [
      "\tModel Logistic Regression - [solver: liblinear] has been trained in 236.79 seconds\n"
     ]
    },
    {
     "name": "stderr",
     "output_type": "stream",
     "text": [
      "\r",
      " 38%|███▊      | 3/8 [14:06<29:02, 348.55s/it]"
     ]
    },
    {
     "name": "stdout",
     "output_type": "stream",
     "text": [
      "\tModel Logistic Regression - [solver: newton-cg] has been trained in 586.16 seconds\n"
     ]
    },
    {
     "name": "stderr",
     "output_type": "stream",
     "text": [
      "\r",
      " 50%|█████     | 4/8 [20:17<23:50, 357.67s/it]"
     ]
    },
    {
     "name": "stdout",
     "output_type": "stream",
     "text": [
      "\tModel KNN - [n_neighbors: 2] has been trained in 371.66 seconds\n"
     ]
    },
    {
     "name": "stderr",
     "output_type": "stream",
     "text": [
      "\r",
      " 62%|██████▎   | 5/8 [26:44<18:24, 368.05s/it]"
     ]
    },
    {
     "name": "stdout",
     "output_type": "stream",
     "text": [
      "\tModel KNN - [n_neighbors: 3] has been trained in 386.46 seconds\n"
     ]
    },
    {
     "name": "stderr",
     "output_type": "stream",
     "text": [
      "\r",
      " 75%|███████▌  | 6/8 [27:02<08:18, 249.09s/it]"
     ]
    },
    {
     "name": "stdout",
     "output_type": "stream",
     "text": [
      "\tModel Bernoulli has been trained in 18.15 seconds\n"
     ]
    },
    {
     "name": "stderr",
     "output_type": "stream",
     "text": [
      "\r",
      " 88%|████████▊ | 7/8 [27:22<02:54, 174.10s/it]"
     ]
    },
    {
     "name": "stdout",
     "output_type": "stream",
     "text": [
      "\tModel Decision Tree has been trained in 19.70 seconds\n"
     ]
    },
    {
     "name": "stderr",
     "output_type": "stream",
     "text": [
      "100%|██████████| 8/8 [27:34<00:00, 206.85s/it]"
     ]
    },
    {
     "name": "stdout",
     "output_type": "stream",
     "text": [
      "\tModel Random Forest has been trained in 12.59 seconds\n"
     ]
    },
    {
     "name": "stderr",
     "output_type": "stream",
     "text": [
      "\n"
     ]
    },
    {
     "data": {
      "text/html": [
       "<div>\n",
       "<style scoped>\n",
       "    .dataframe tbody tr th:only-of-type {\n",
       "        vertical-align: middle;\n",
       "    }\n",
       "\n",
       "    .dataframe tbody tr th {\n",
       "        vertical-align: top;\n",
       "    }\n",
       "\n",
       "    .dataframe thead th {\n",
       "        text-align: right;\n",
       "    }\n",
       "</style>\n",
       "<table border=\"1\" class=\"dataframe\">\n",
       "  <thead>\n",
       "    <tr style=\"text-align: right;\">\n",
       "      <th></th>\n",
       "      <th>model</th>\n",
       "      <th>train_acc</th>\n",
       "      <th>test_acc</th>\n",
       "      <th>diff_acc</th>\n",
       "      <th>train_acc_std</th>\n",
       "      <th>test_acc_std</th>\n",
       "      <th>train_roc_auc</th>\n",
       "      <th>test_roc_auc</th>\n",
       "      <th>diff_roc_auc</th>\n",
       "      <th>train_roc_auc_std</th>\n",
       "      <th>test_roc_auc_std</th>\n",
       "      <th>fit_time</th>\n",
       "    </tr>\n",
       "  </thead>\n",
       "  <tbody>\n",
       "    <tr>\n",
       "      <th>0</th>\n",
       "      <td>Random Forest</td>\n",
       "      <td>0.999994</td>\n",
       "      <td>0.912595</td>\n",
       "      <td>0.087399</td>\n",
       "      <td>0.000007</td>\n",
       "      <td>0.001636</td>\n",
       "      <td>1.000000</td>\n",
       "      <td>0.977712</td>\n",
       "      <td>0.022288</td>\n",
       "      <td>0.000000</td>\n",
       "      <td>0.000499</td>\n",
       "      <td>10.283544</td>\n",
       "    </tr>\n",
       "    <tr>\n",
       "      <th>1</th>\n",
       "      <td>Logistic Regression - [solver: newton-cg]</td>\n",
       "      <td>0.913775</td>\n",
       "      <td>0.909924</td>\n",
       "      <td>0.003851</td>\n",
       "      <td>0.000310</td>\n",
       "      <td>0.000986</td>\n",
       "      <td>0.977165</td>\n",
       "      <td>0.974782</td>\n",
       "      <td>0.002383</td>\n",
       "      <td>0.000144</td>\n",
       "      <td>0.000565</td>\n",
       "      <td>463.505757</td>\n",
       "    </tr>\n",
       "    <tr>\n",
       "      <th>2</th>\n",
       "      <td>Logistic Regression - [solver: liblinear]</td>\n",
       "      <td>0.913778</td>\n",
       "      <td>0.909912</td>\n",
       "      <td>0.003866</td>\n",
       "      <td>0.000319</td>\n",
       "      <td>0.000978</td>\n",
       "      <td>0.977164</td>\n",
       "      <td>0.974781</td>\n",
       "      <td>0.002383</td>\n",
       "      <td>0.000144</td>\n",
       "      <td>0.000565</td>\n",
       "      <td>200.388664</td>\n",
       "    </tr>\n",
       "    <tr>\n",
       "      <th>3</th>\n",
       "      <td>Logistic Regression - [solver: lbfgs]</td>\n",
       "      <td>0.910804</td>\n",
       "      <td>0.908029</td>\n",
       "      <td>0.002775</td>\n",
       "      <td>0.000484</td>\n",
       "      <td>0.000341</td>\n",
       "      <td>0.975064</td>\n",
       "      <td>0.973549</td>\n",
       "      <td>0.001515</td>\n",
       "      <td>0.000188</td>\n",
       "      <td>0.000840</td>\n",
       "      <td>5.575970</td>\n",
       "    </tr>\n",
       "    <tr>\n",
       "      <th>4</th>\n",
       "      <td>KNN - [n_neighbors: 3]</td>\n",
       "      <td>0.941063</td>\n",
       "      <td>0.893400</td>\n",
       "      <td>0.047664</td>\n",
       "      <td>0.000828</td>\n",
       "      <td>0.000925</td>\n",
       "      <td>0.989432</td>\n",
       "      <td>0.943072</td>\n",
       "      <td>0.046360</td>\n",
       "      <td>0.000146</td>\n",
       "      <td>0.001855</td>\n",
       "      <td>0.531955</td>\n",
       "    </tr>\n",
       "    <tr>\n",
       "      <th>5</th>\n",
       "      <td>Decision Tree</td>\n",
       "      <td>1.000000</td>\n",
       "      <td>0.886556</td>\n",
       "      <td>0.113444</td>\n",
       "      <td>0.000000</td>\n",
       "      <td>0.003429</td>\n",
       "      <td>1.000000</td>\n",
       "      <td>0.886556</td>\n",
       "      <td>0.113444</td>\n",
       "      <td>0.000000</td>\n",
       "      <td>0.003429</td>\n",
       "      <td>18.127080</td>\n",
       "    </tr>\n",
       "    <tr>\n",
       "      <th>6</th>\n",
       "      <td>KNN - [n_neighbors: 2]</td>\n",
       "      <td>0.940837</td>\n",
       "      <td>0.881477</td>\n",
       "      <td>0.059360</td>\n",
       "      <td>0.000352</td>\n",
       "      <td>0.001384</td>\n",
       "      <td>0.993262</td>\n",
       "      <td>0.925701</td>\n",
       "      <td>0.067561</td>\n",
       "      <td>0.000068</td>\n",
       "      <td>0.001675</td>\n",
       "      <td>0.514485</td>\n",
       "    </tr>\n",
       "    <tr>\n",
       "      <th>7</th>\n",
       "      <td>Bernoulli</td>\n",
       "      <td>0.845044</td>\n",
       "      <td>0.844803</td>\n",
       "      <td>0.000241</td>\n",
       "      <td>0.000569</td>\n",
       "      <td>0.003019</td>\n",
       "      <td>0.906436</td>\n",
       "      <td>0.905731</td>\n",
       "      <td>0.000705</td>\n",
       "      <td>0.000630</td>\n",
       "      <td>0.002698</td>\n",
       "      <td>0.913533</td>\n",
       "    </tr>\n",
       "  </tbody>\n",
       "</table>\n",
       "</div>"
      ],
      "text/plain": [
       "                                       model  train_acc  test_acc  diff_acc  \\\n",
       "0                              Random Forest   0.999994  0.912595  0.087399   \n",
       "1  Logistic Regression - [solver: newton-cg]   0.913775  0.909924  0.003851   \n",
       "2  Logistic Regression - [solver: liblinear]   0.913778  0.909912  0.003866   \n",
       "3      Logistic Regression - [solver: lbfgs]   0.910804  0.908029  0.002775   \n",
       "4                     KNN - [n_neighbors: 3]   0.941063  0.893400  0.047664   \n",
       "5                              Decision Tree   1.000000  0.886556  0.113444   \n",
       "6                     KNN - [n_neighbors: 2]   0.940837  0.881477  0.059360   \n",
       "7                                  Bernoulli   0.845044  0.844803  0.000241   \n",
       "\n",
       "   train_acc_std  test_acc_std  train_roc_auc  test_roc_auc  diff_roc_auc  \\\n",
       "0       0.000007      0.001636       1.000000      0.977712      0.022288   \n",
       "1       0.000310      0.000986       0.977165      0.974782      0.002383   \n",
       "2       0.000319      0.000978       0.977164      0.974781      0.002383   \n",
       "3       0.000484      0.000341       0.975064      0.973549      0.001515   \n",
       "4       0.000828      0.000925       0.989432      0.943072      0.046360   \n",
       "5       0.000000      0.003429       1.000000      0.886556      0.113444   \n",
       "6       0.000352      0.001384       0.993262      0.925701      0.067561   \n",
       "7       0.000569      0.003019       0.906436      0.905731      0.000705   \n",
       "\n",
       "   train_roc_auc_std  test_roc_auc_std    fit_time  \n",
       "0           0.000000          0.000499   10.283544  \n",
       "1           0.000144          0.000565  463.505757  \n",
       "2           0.000144          0.000565  200.388664  \n",
       "3           0.000188          0.000840    5.575970  \n",
       "4           0.000146          0.001855    0.531955  \n",
       "5           0.000000          0.003429   18.127080  \n",
       "6           0.000068          0.001675    0.514485  \n",
       "7           0.000630          0.002698    0.913533  "
      ]
     },
     "execution_count": 9,
     "metadata": {},
     "output_type": "execute_result"
    }
   ],
   "source": [
    "original_models = train(lst_models, pX_res, np.ravel(py_res), cv)\n",
    "original_models"
   ]
  },
  {
   "cell_type": "code",
   "execution_count": 13,
   "metadata": {},
   "outputs": [],
   "source": [
    "lst_tunning_models = [\n",
    "     ('Random Forest', RandomForestClassifier(random_state=42, n_jobs=-1), {\n",
    "        'bootstrap': [True, False],\n",
    "        'max_depth': [10, 20, 30, 40, 50, 60, 70, 80, 90, 100, None],\n",
    "        'max_features': [\"auto\", \"sqrt\", \"log2\", 5, 10, 15, 20],\n",
    "        'min_samples_leaf': [1, 2, 4],\n",
    "        'n_estimators': [200, 400, 600, 800, 1000]})]\n",
    "\n",
    "def trainTunningModel(lst_models, X, y, cv):\n",
    "    models_final = []\n",
    "    for model_name, model, params in tqdm(lst_models):\n",
    "        tic     = time.time()\n",
    "        search = GridSearchCV(estimator=model, param_grid=params, cv=cv, scoring='accuracy', n_jobs=-1)\n",
    "        search.fit(X, y)\n",
    "        model_tunned = model.set_params(**search.best_params_)\n",
    "        models_final.append((model_name, model_tunned))\n",
    "        toc = time.time()\n",
    "        print('Model {} has been tunned in {:,.2f} seconds'.format(model_name, (toc - tic)))\n",
    "\n",
    "    return models_final"
   ]
  },
  {
   "cell_type": "code",
   "execution_count": 15,
   "metadata": {},
   "outputs": [],
   "source": [
    "# lst_tunning_models = trainTunningModel(lst_tunning_models, pX_res, np.ravel(py_res), cv)\n",
    "# lst_tunning_models"
   ]
  },
  {
   "cell_type": "code",
   "execution_count": null,
   "metadata": {},
   "outputs": [],
   "source": [
    "# lst_tunning_models"
   ]
  }
 ],
 "metadata": {
  "kernelspec": {
   "display_name": "Python 3",
   "language": "python",
   "name": "python3"
  },
  "language_info": {
   "codemirror_mode": {
    "name": "ipython",
    "version": 3
   },
   "file_extension": ".py",
   "mimetype": "text/x-python",
   "name": "python",
   "nbconvert_exporter": "python",
   "pygments_lexer": "ipython3",
   "version": "3.8.10"
  }
 },
 "nbformat": 4,
 "nbformat_minor": 2
}
