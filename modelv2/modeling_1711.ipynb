{
 "cells": [
  {
   "cell_type": "code",
   "execution_count": 114,
   "metadata": {},
   "outputs": [],
   "source": [
    "import numpy as np\n",
    "import time\n",
    "import pickle\n",
    "import utils as Utils\n",
    "import pandas as pd\n",
    "import random\n",
    "from sklearn import svm\n",
    "import seaborn as sns\n",
    "import matplotlib.pyplot as plt\n",
    "# import modules.model as Model\n",
    "from matplotlib.backends.backend_pdf import PdfPages\n",
    "import sklearn.metrics as metrics\n",
    "\n",
    "from sklearn.model_selection import KFold\n",
    "from sklearn.model_selection import cross_val_score\n",
    "from sklearn.model_selection import train_test_split\n",
    "from sklearn.svm import SVC\n",
    "from sklearn.pipeline import make_pipeline\n",
    "from sklearn.metrics import accuracy_score, roc_auc_score, confusion_matrix\n",
    "from sklearn.model_selection import train_test_split, cross_validate, GridSearchCV\n",
    "from sklearn.metrics import classification_report, confusion_matrix, plot_roc_curve\n",
    "from sklearn.metrics import confusion_matrix,accuracy_score,precision_score,recall_score,roc_auc_score,classification_report,roc_curve,auc, f1_score\n",
    "from sklearn.metrics import classification_report\n",
    "from sklearn.linear_model import LogisticRegression\n",
    "from sklearn.model_selection import StratifiedKFold\n",
    "from sklearn.neighbors import KNeighborsClassifier\n",
    "from sklearn.naive_bayes import BernoulliNB\n",
    "from sklearn.ensemble import RandomForestClassifier\n",
    "from sklearn.naive_bayes import GaussianNB\n",
    "import plotly.graph_objects as go\n",
    "from imblearn.over_sampling import SMOTE \n",
    "# import modules.processor as Processor\n",
    "# import modules.utils as Utils\n",
    "from imblearn.under_sampling import RandomUnderSampler\n",
    "from sklearn.svm import SVC\n",
    "import xgboost as xgb\n",
    "from xgboost import XGBClassifier\n",
    "from catboost import CatBoostClassifier\n",
    "from sklearn.ensemble import BaggingClassifier\n",
    "from sklearn.multiclass import OneVsRestClassifier\n",
    "from sklearn.preprocessing import StandardScaler\n",
    "import warnings\n",
    "warnings.simplefilter(action=\"ignore\", category=FutureWarning)\n",
    "\n",
    "from tqdm import tqdm\n",
    "import processor as Processor"
   ]
  },
  {
   "cell_type": "code",
   "execution_count": 115,
   "metadata": {},
   "outputs": [],
   "source": [
    "train_data = pd.read_csv(\"../../Final_data/preprocessed/filtered/split_data_without_mhc/test/train.csv\")\n",
    "train_data_1 = train_data[train_data.binder == 1]\n",
    "train_data_0 = train_data[train_data.binder == 0]"
   ]
  },
  {
   "cell_type": "code",
   "execution_count": 116,
   "metadata": {},
   "outputs": [
    {
     "data": {
      "text/plain": [
       "487"
      ]
     },
     "execution_count": 116,
     "metadata": {},
     "output_type": "execute_result"
    }
   ],
   "source": [
    "len(train_data_1.epitope.unique())"
   ]
  },
  {
   "cell_type": "code",
   "execution_count": 117,
   "metadata": {},
   "outputs": [
    {
     "data": {
      "text/html": [
       "<div>\n",
       "<style scoped>\n",
       "    .dataframe tbody tr th:only-of-type {\n",
       "        vertical-align: middle;\n",
       "    }\n",
       "\n",
       "    .dataframe tbody tr th {\n",
       "        vertical-align: top;\n",
       "    }\n",
       "\n",
       "    .dataframe thead th {\n",
       "        text-align: right;\n",
       "    }\n",
       "</style>\n",
       "<table border=\"1\" class=\"dataframe\">\n",
       "  <thead>\n",
       "    <tr style=\"text-align: right;\">\n",
       "      <th></th>\n",
       "      <th>CDR3b</th>\n",
       "      <th>epitope</th>\n",
       "      <th>binder</th>\n",
       "    </tr>\n",
       "  </thead>\n",
       "  <tbody>\n",
       "    <tr>\n",
       "      <th>0</th>\n",
       "      <td>ASSPQGHEQYV</td>\n",
       "      <td>KLGGALQAK</td>\n",
       "      <td>1</td>\n",
       "    </tr>\n",
       "    <tr>\n",
       "      <th>1</th>\n",
       "      <td>ASFVTGNPNTEAF</td>\n",
       "      <td>KLSYGIATV</td>\n",
       "      <td>1</td>\n",
       "    </tr>\n",
       "    <tr>\n",
       "      <th>2</th>\n",
       "      <td>ASSLAPGLGHNEQF</td>\n",
       "      <td>LVVDFSQFSR</td>\n",
       "      <td>1</td>\n",
       "    </tr>\n",
       "    <tr>\n",
       "      <th>3</th>\n",
       "      <td>ASCAQMEQF</td>\n",
       "      <td>YVLDHLIVV</td>\n",
       "      <td>1</td>\n",
       "    </tr>\n",
       "    <tr>\n",
       "      <th>4</th>\n",
       "      <td>ASRPFLDRGDYGYT</td>\n",
       "      <td>AVFDRKSDAK</td>\n",
       "      <td>1</td>\n",
       "    </tr>\n",
       "    <tr>\n",
       "      <th>...</th>\n",
       "      <td>...</td>\n",
       "      <td>...</td>\n",
       "      <td>...</td>\n",
       "    </tr>\n",
       "    <tr>\n",
       "      <th>6679</th>\n",
       "      <td>ASSFTDGDNEQF</td>\n",
       "      <td>KLGGALQAK</td>\n",
       "      <td>1</td>\n",
       "    </tr>\n",
       "    <tr>\n",
       "      <th>6680</th>\n",
       "      <td>ASRDTSYEQYV</td>\n",
       "      <td>KLGGALQAK</td>\n",
       "      <td>1</td>\n",
       "    </tr>\n",
       "    <tr>\n",
       "      <th>6681</th>\n",
       "      <td>ASSLSWDRFNTEAF</td>\n",
       "      <td>KLNVGDYFV</td>\n",
       "      <td>1</td>\n",
       "    </tr>\n",
       "    <tr>\n",
       "      <th>6682</th>\n",
       "      <td>ASRPGLAGEEY</td>\n",
       "      <td>KLSYGIATV</td>\n",
       "      <td>1</td>\n",
       "    </tr>\n",
       "    <tr>\n",
       "      <th>6683</th>\n",
       "      <td>ASSLMTGTANEQF</td>\n",
       "      <td>KLPDDFTGCV</td>\n",
       "      <td>1</td>\n",
       "    </tr>\n",
       "  </tbody>\n",
       "</table>\n",
       "<p>6684 rows × 3 columns</p>\n",
       "</div>"
      ],
      "text/plain": [
       "               CDR3b     epitope  binder\n",
       "0        ASSPQGHEQYV   KLGGALQAK       1\n",
       "1      ASFVTGNPNTEAF   KLSYGIATV       1\n",
       "2     ASSLAPGLGHNEQF  LVVDFSQFSR       1\n",
       "3          ASCAQMEQF   YVLDHLIVV       1\n",
       "4     ASRPFLDRGDYGYT  AVFDRKSDAK       1\n",
       "...              ...         ...     ...\n",
       "6679    ASSFTDGDNEQF   KLGGALQAK       1\n",
       "6680     ASRDTSYEQYV   KLGGALQAK       1\n",
       "6681  ASSLSWDRFNTEAF   KLNVGDYFV       1\n",
       "6682     ASRPGLAGEEY   KLSYGIATV       1\n",
       "6683   ASSLMTGTANEQF  KLPDDFTGCV       1\n",
       "\n",
       "[6684 rows x 3 columns]"
      ]
     },
     "execution_count": 117,
     "metadata": {},
     "output_type": "execute_result"
    }
   ],
   "source": [
    "train_data_1"
   ]
  },
  {
   "cell_type": "code",
   "execution_count": 118,
   "metadata": {},
   "outputs": [
    {
     "data": {
      "text/plain": [
       "50"
      ]
     },
     "execution_count": 118,
     "metadata": {},
     "output_type": "execute_result"
    }
   ],
   "source": [
    "len(train_data_0.epitope.unique())"
   ]
  },
  {
   "cell_type": "code",
   "execution_count": 119,
   "metadata": {},
   "outputs": [],
   "source": [
    "def check_length_full(df):\n",
    "    df[\"len_epitope\"] = df.epitope.str.len()\n",
    "    df = df[(df[\"len_epitope\"] <= 11) & (df[\"len_epitope\"] >= 8)]\n",
    "    df[\"len_cdr3\"] = df.CDR3b.str.len()\n",
    "    df = df[(df[\"len_cdr3\"] <= 19) & (df[\"len_cdr3\"] >= 8)]\n",
    "    df = df.drop(['len_epitope', 'len_cdr3'], axis=1)\n",
    "    df = df.reset_index(drop=True)\n",
    "    \n",
    "    discard = [\"\\*\", '_', '-', 'O', '1', 'y', 'l', 'X', '/', ' ']\n",
    "    df = df[~df.CDR3b.str.contains('|'.join(discard))]\n",
    "    df = df[~df.epitope.str.contains('|'.join(discard))]\n",
    "    return df"
   ]
  },
  {
   "cell_type": "code",
   "execution_count": 120,
   "metadata": {
    "scrolled": true
   },
   "outputs": [
    {
     "name": "stderr",
     "output_type": "stream",
     "text": [
      "<ipython-input-119-2b0faeea28aa>:2: SettingWithCopyWarning: \n",
      "A value is trying to be set on a copy of a slice from a DataFrame.\n",
      "Try using .loc[row_indexer,col_indexer] = value instead\n",
      "\n",
      "See the caveats in the documentation: https://pandas.pydata.org/pandas-docs/stable/user_guide/indexing.html#returning-a-view-versus-a-copy\n",
      "  df[\"len_epitope\"] = df.epitope.str.len()\n"
     ]
    },
    {
     "data": {
      "text/html": [
       "<div>\n",
       "<style scoped>\n",
       "    .dataframe tbody tr th:only-of-type {\n",
       "        vertical-align: middle;\n",
       "    }\n",
       "\n",
       "    .dataframe tbody tr th {\n",
       "        vertical-align: top;\n",
       "    }\n",
       "\n",
       "    .dataframe thead th {\n",
       "        text-align: right;\n",
       "    }\n",
       "</style>\n",
       "<table border=\"1\" class=\"dataframe\">\n",
       "  <thead>\n",
       "    <tr style=\"text-align: right;\">\n",
       "      <th></th>\n",
       "      <th>epitope</th>\n",
       "      <th>CDR3b</th>\n",
       "      <th>binder</th>\n",
       "    </tr>\n",
       "  </thead>\n",
       "  <tbody>\n",
       "    <tr>\n",
       "      <th>0</th>\n",
       "      <td>FLLGNLSFL</td>\n",
       "      <td>ATTGGSGYEQY</td>\n",
       "      <td>0</td>\n",
       "    </tr>\n",
       "    <tr>\n",
       "      <th>1</th>\n",
       "      <td>LLLAHIIAL</td>\n",
       "      <td>ASSPPNSYEQY</td>\n",
       "      <td>0</td>\n",
       "    </tr>\n",
       "    <tr>\n",
       "      <th>2</th>\n",
       "      <td>ILGIFNEFV</td>\n",
       "      <td>ASSYSVAPEQF</td>\n",
       "      <td>0</td>\n",
       "    </tr>\n",
       "    <tr>\n",
       "      <th>3</th>\n",
       "      <td>SLDKFLASV</td>\n",
       "      <td>AWSSRDSMTDTQY</td>\n",
       "      <td>0</td>\n",
       "    </tr>\n",
       "    <tr>\n",
       "      <th>4</th>\n",
       "      <td>IQIFTIVLVSY</td>\n",
       "      <td>ASSPYGGNTDTQY</td>\n",
       "      <td>0</td>\n",
       "    </tr>\n",
       "    <tr>\n",
       "      <th>...</th>\n",
       "      <td>...</td>\n",
       "      <td>...</td>\n",
       "      <td>...</td>\n",
       "    </tr>\n",
       "    <tr>\n",
       "      <th>159638</th>\n",
       "      <td>YLYESGETEKL</td>\n",
       "      <td>ASNPLLGAGGTYNEQF</td>\n",
       "      <td>0</td>\n",
       "    </tr>\n",
       "    <tr>\n",
       "      <th>159639</th>\n",
       "      <td>IMACVGFFL</td>\n",
       "      <td>ATGKTSGLTGAGELF</td>\n",
       "      <td>0</td>\n",
       "    </tr>\n",
       "    <tr>\n",
       "      <th>159640</th>\n",
       "      <td>SVYDFFVWL</td>\n",
       "      <td>AISGGSGDNEQ</td>\n",
       "      <td>0</td>\n",
       "    </tr>\n",
       "    <tr>\n",
       "      <th>159641</th>\n",
       "      <td>IMIGVLVGVA</td>\n",
       "      <td>SATRRDRGLEQY</td>\n",
       "      <td>0</td>\n",
       "    </tr>\n",
       "    <tr>\n",
       "      <th>159642</th>\n",
       "      <td>EEWNDPPAVKW</td>\n",
       "      <td>AWSVYRGYEQY</td>\n",
       "      <td>0</td>\n",
       "    </tr>\n",
       "  </tbody>\n",
       "</table>\n",
       "<p>159643 rows × 3 columns</p>\n",
       "</div>"
      ],
      "text/plain": [
       "            epitope             CDR3b  binder\n",
       "0         FLLGNLSFL       ATTGGSGYEQY       0\n",
       "1         LLLAHIIAL       ASSPPNSYEQY       0\n",
       "2         ILGIFNEFV       ASSYSVAPEQF       0\n",
       "3         SLDKFLASV     AWSSRDSMTDTQY       0\n",
       "4       IQIFTIVLVSY     ASSPYGGNTDTQY       0\n",
       "...             ...               ...     ...\n",
       "159638  YLYESGETEKL  ASNPLLGAGGTYNEQF       0\n",
       "159639    IMACVGFFL   ATGKTSGLTGAGELF       0\n",
       "159640    SVYDFFVWL       AISGGSGDNEQ       0\n",
       "159641   IMIGVLVGVA      SATRRDRGLEQY       0\n",
       "159642  EEWNDPPAVKW       AWSVYRGYEQY       0\n",
       "\n",
       "[159643 rows x 3 columns]"
      ]
     },
     "execution_count": 120,
     "metadata": {},
     "output_type": "execute_result"
    }
   ],
   "source": [
    "result = pd.read_csv(\"./process_data/data/process/result.csv\")\n",
    "result = result.sample(n=900000, random_state=123).reset_index(drop=True)\n",
    "result = check_length_full(result)\n",
    "\n",
    "list_epitope = result.epitope.unique()\n",
    "sample_list = random.choices(list_epitope, k=490)\n",
    "\n",
    "result = check_length_full(result[result.epitope.isin(sample_list)]).reset_index(drop=True)\n",
    "result"
   ]
  },
  {
   "cell_type": "code",
   "execution_count": 121,
   "metadata": {},
   "outputs": [
    {
     "data": {
      "text/plain": [
       "444"
      ]
     },
     "execution_count": 121,
     "metadata": {},
     "output_type": "execute_result"
    }
   ],
   "source": [
    "len(result.epitope.unique())"
   ]
  },
  {
   "cell_type": "code",
   "execution_count": 122,
   "metadata": {},
   "outputs": [
    {
     "data": {
      "text/html": [
       "<div>\n",
       "<style scoped>\n",
       "    .dataframe tbody tr th:only-of-type {\n",
       "        vertical-align: middle;\n",
       "    }\n",
       "\n",
       "    .dataframe tbody tr th {\n",
       "        vertical-align: top;\n",
       "    }\n",
       "\n",
       "    .dataframe thead th {\n",
       "        text-align: right;\n",
       "    }\n",
       "</style>\n",
       "<table border=\"1\" class=\"dataframe\">\n",
       "  <thead>\n",
       "    <tr style=\"text-align: right;\">\n",
       "      <th></th>\n",
       "      <th>CDR3b</th>\n",
       "      <th>epitope</th>\n",
       "      <th>binder</th>\n",
       "    </tr>\n",
       "  </thead>\n",
       "  <tbody>\n",
       "    <tr>\n",
       "      <th>0</th>\n",
       "      <td>ASSPQGHEQYV</td>\n",
       "      <td>KLGGALQAK</td>\n",
       "      <td>1</td>\n",
       "    </tr>\n",
       "    <tr>\n",
       "      <th>1</th>\n",
       "      <td>ASFVTGNPNTEAF</td>\n",
       "      <td>KLSYGIATV</td>\n",
       "      <td>1</td>\n",
       "    </tr>\n",
       "    <tr>\n",
       "      <th>2</th>\n",
       "      <td>ASSLAPGLGHNEQF</td>\n",
       "      <td>LVVDFSQFSR</td>\n",
       "      <td>1</td>\n",
       "    </tr>\n",
       "    <tr>\n",
       "      <th>3</th>\n",
       "      <td>ASCAQMEQF</td>\n",
       "      <td>YVLDHLIVV</td>\n",
       "      <td>1</td>\n",
       "    </tr>\n",
       "    <tr>\n",
       "      <th>4</th>\n",
       "      <td>ASRPFLDRGDYGYT</td>\n",
       "      <td>AVFDRKSDAK</td>\n",
       "      <td>1</td>\n",
       "    </tr>\n",
       "    <tr>\n",
       "      <th>...</th>\n",
       "      <td>...</td>\n",
       "      <td>...</td>\n",
       "      <td>...</td>\n",
       "    </tr>\n",
       "    <tr>\n",
       "      <th>481003</th>\n",
       "      <td>ASNPLLGAGGTYNEQF</td>\n",
       "      <td>YLYESGETEKL</td>\n",
       "      <td>0</td>\n",
       "    </tr>\n",
       "    <tr>\n",
       "      <th>481004</th>\n",
       "      <td>ATGKTSGLTGAGELF</td>\n",
       "      <td>IMACVGFFL</td>\n",
       "      <td>0</td>\n",
       "    </tr>\n",
       "    <tr>\n",
       "      <th>481005</th>\n",
       "      <td>AISGGSGDNEQ</td>\n",
       "      <td>SVYDFFVWL</td>\n",
       "      <td>0</td>\n",
       "    </tr>\n",
       "    <tr>\n",
       "      <th>481006</th>\n",
       "      <td>SATRRDRGLEQY</td>\n",
       "      <td>IMIGVLVGVA</td>\n",
       "      <td>0</td>\n",
       "    </tr>\n",
       "    <tr>\n",
       "      <th>481007</th>\n",
       "      <td>AWSVYRGYEQY</td>\n",
       "      <td>EEWNDPPAVKW</td>\n",
       "      <td>0</td>\n",
       "    </tr>\n",
       "  </tbody>\n",
       "</table>\n",
       "<p>481008 rows × 3 columns</p>\n",
       "</div>"
      ],
      "text/plain": [
       "                   CDR3b      epitope  binder\n",
       "0            ASSPQGHEQYV    KLGGALQAK       1\n",
       "1          ASFVTGNPNTEAF    KLSYGIATV       1\n",
       "2         ASSLAPGLGHNEQF   LVVDFSQFSR       1\n",
       "3              ASCAQMEQF    YVLDHLIVV       1\n",
       "4         ASRPFLDRGDYGYT   AVFDRKSDAK       1\n",
       "...                  ...          ...     ...\n",
       "481003  ASNPLLGAGGTYNEQF  YLYESGETEKL       0\n",
       "481004   ATGKTSGLTGAGELF    IMACVGFFL       0\n",
       "481005       AISGGSGDNEQ    SVYDFFVWL       0\n",
       "481006      SATRRDRGLEQY   IMIGVLVGVA       0\n",
       "481007       AWSVYRGYEQY  EEWNDPPAVKW       0\n",
       "\n",
       "[481008 rows x 3 columns]"
      ]
     },
     "execution_count": 122,
     "metadata": {},
     "output_type": "execute_result"
    }
   ],
   "source": [
    "train_final = pd.concat([train_data, result]).reset_index(drop=True)\n",
    "train_final"
   ]
  },
  {
   "cell_type": "code",
   "execution_count": null,
   "metadata": {},
   "outputs": [],
   "source": []
  },
  {
   "cell_type": "code",
   "execution_count": 123,
   "metadata": {},
   "outputs": [
    {
     "data": {
      "text/plain": [
       "949"
      ]
     },
     "execution_count": 123,
     "metadata": {},
     "output_type": "execute_result"
    }
   ],
   "source": [
    "len(train_final.epitope.unique())"
   ]
  },
  {
   "cell_type": "code",
   "execution_count": 124,
   "metadata": {},
   "outputs": [
    {
     "data": {
      "text/plain": [
       "0    474324\n",
       "1      6684\n",
       "Name: binder, dtype: int64"
      ]
     },
     "execution_count": 124,
     "metadata": {},
     "output_type": "execute_result"
    }
   ],
   "source": [
    "train_final.binder.value_counts()"
   ]
  },
  {
   "cell_type": "code",
   "execution_count": 125,
   "metadata": {},
   "outputs": [
    {
     "name": "stdout",
     "output_type": "stream",
     "text": [
      "487\n",
      "494\n"
     ]
    }
   ],
   "source": [
    "print(len(train_final[train_final.binder == 1].epitope.unique()))\n",
    "print(len(train_final[train_final.binder == 0].epitope.unique()))"
   ]
  },
  {
   "cell_type": "code",
   "execution_count": 126,
   "metadata": {},
   "outputs": [],
   "source": [
    "X_train = train_final[[\"CDR3b\", \"epitope\"]]\n",
    "y_train = train_final[[\"binder\"]]"
   ]
  },
  {
   "cell_type": "code",
   "execution_count": 127,
   "metadata": {},
   "outputs": [],
   "source": [
    "nm = RandomUnderSampler(random_state=42)\n",
    "X_res, y_res = nm.fit_resample(X_train, y_train)"
   ]
  },
  {
   "cell_type": "code",
   "execution_count": 128,
   "metadata": {},
   "outputs": [
    {
     "name": "stdout",
     "output_type": "stream",
     "text": [
      "949\n"
     ]
    }
   ],
   "source": [
    "train_data_epi = train_final.epitope.unique()\n",
    "print(len(train_data_epi))"
   ]
  },
  {
   "cell_type": "code",
   "execution_count": 129,
   "metadata": {},
   "outputs": [
    {
     "name": "stderr",
     "output_type": "stream",
     "text": [
      "<ipython-input-119-2b0faeea28aa>:4: SettingWithCopyWarning: \n",
      "A value is trying to be set on a copy of a slice from a DataFrame.\n",
      "Try using .loc[row_indexer,col_indexer] = value instead\n",
      "\n",
      "See the caveats in the documentation: https://pandas.pydata.org/pandas-docs/stable/user_guide/indexing.html#returning-a-view-versus-a-copy\n",
      "  df[\"len_cdr3\"] = df.CDR3b.str.len()\n"
     ]
    },
    {
     "data": {
      "text/html": [
       "<div>\n",
       "<style scoped>\n",
       "    .dataframe tbody tr th:only-of-type {\n",
       "        vertical-align: middle;\n",
       "    }\n",
       "\n",
       "    .dataframe tbody tr th {\n",
       "        vertical-align: top;\n",
       "    }\n",
       "\n",
       "    .dataframe thead th {\n",
       "        text-align: right;\n",
       "    }\n",
       "</style>\n",
       "<table border=\"1\" class=\"dataframe\">\n",
       "  <thead>\n",
       "    <tr style=\"text-align: right;\">\n",
       "      <th></th>\n",
       "      <th>CDR3b</th>\n",
       "      <th>epitope</th>\n",
       "      <th>binder</th>\n",
       "    </tr>\n",
       "  </thead>\n",
       "  <tbody>\n",
       "    <tr>\n",
       "      <th>0</th>\n",
       "      <td>ASRPGQVVYGYT</td>\n",
       "      <td>FLTVFSHFM</td>\n",
       "      <td>0</td>\n",
       "    </tr>\n",
       "    <tr>\n",
       "      <th>1</th>\n",
       "      <td>ASRPGQVVYGYT</td>\n",
       "      <td>ALIHHNTYL</td>\n",
       "      <td>0</td>\n",
       "    </tr>\n",
       "    <tr>\n",
       "      <th>2</th>\n",
       "      <td>ASRPGQVVYGYT</td>\n",
       "      <td>ILIVMFPFL</td>\n",
       "      <td>0</td>\n",
       "    </tr>\n",
       "    <tr>\n",
       "      <th>3</th>\n",
       "      <td>ASRPGQVVYGYT</td>\n",
       "      <td>LLAGTLAVV</td>\n",
       "      <td>0</td>\n",
       "    </tr>\n",
       "    <tr>\n",
       "      <th>4</th>\n",
       "      <td>ASRPGQVVYGYT</td>\n",
       "      <td>LLAILTYYV</td>\n",
       "      <td>0</td>\n",
       "    </tr>\n",
       "    <tr>\n",
       "      <th>...</th>\n",
       "      <td>...</td>\n",
       "      <td>...</td>\n",
       "      <td>...</td>\n",
       "    </tr>\n",
       "    <tr>\n",
       "      <th>15447</th>\n",
       "      <td>SAHRAGTSGADYNEQF</td>\n",
       "      <td>SLLWMNLFV</td>\n",
       "      <td>1</td>\n",
       "    </tr>\n",
       "    <tr>\n",
       "      <th>15448</th>\n",
       "      <td>ASSIRVSGANVLT</td>\n",
       "      <td>SLLWMNLFV</td>\n",
       "      <td>1</td>\n",
       "    </tr>\n",
       "    <tr>\n",
       "      <th>15449</th>\n",
       "      <td>ASSYGGSSYEQY</td>\n",
       "      <td>SLLWMNLFV</td>\n",
       "      <td>1</td>\n",
       "    </tr>\n",
       "    <tr>\n",
       "      <th>15450</th>\n",
       "      <td>ATSFSRMANEKLF</td>\n",
       "      <td>SLLWMNLFV</td>\n",
       "      <td>1</td>\n",
       "    </tr>\n",
       "    <tr>\n",
       "      <th>15451</th>\n",
       "      <td>ASSFFPGELF</td>\n",
       "      <td>LMVLHSPSL</td>\n",
       "      <td>1</td>\n",
       "    </tr>\n",
       "  </tbody>\n",
       "</table>\n",
       "<p>15452 rows × 3 columns</p>\n",
       "</div>"
      ],
      "text/plain": [
       "                  CDR3b    epitope  binder\n",
       "0          ASRPGQVVYGYT  FLTVFSHFM       0\n",
       "1          ASRPGQVVYGYT  ALIHHNTYL       0\n",
       "2          ASRPGQVVYGYT  ILIVMFPFL       0\n",
       "3          ASRPGQVVYGYT  LLAGTLAVV       0\n",
       "4          ASRPGQVVYGYT  LLAILTYYV       0\n",
       "...                 ...        ...     ...\n",
       "15447  SAHRAGTSGADYNEQF  SLLWMNLFV       1\n",
       "15448     ASSIRVSGANVLT  SLLWMNLFV       1\n",
       "15449      ASSYGGSSYEQY  SLLWMNLFV       1\n",
       "15450     ATSFSRMANEKLF  SLLWMNLFV       1\n",
       "15451        ASSFFPGELF  LMVLHSPSL       1\n",
       "\n",
       "[15452 rows x 3 columns]"
      ]
     },
     "execution_count": 129,
     "metadata": {},
     "output_type": "execute_result"
    }
   ],
   "source": [
    "test_cb_26 = pd.read_csv(\"../../Improve_model/combine_model/data_test/pmtnet_v2.csv\")\n",
    "test_cb_26_1 = pd.read_csv(\"../../Improve_model/combine_model/data_test/pmtnet_paper1_v2.csv\")\n",
    "test_cb_26 = test_cb_26[test_cb_26[\"binder\"] == 0]\n",
    "test_cb_26 = test_cb_26.reset_index(drop=True)\n",
    "ptest_cb_26  = pd.concat([test_cb_26, test_cb_26_1], axis=0)\n",
    "ptest_cb_26 = ptest_cb_26[~ptest_cb_26.epitope.isin(train_data_epi)]\n",
    "ptest_cb_26  = ptest_cb_26.reset_index(drop=True)\n",
    "ptest_cb_26  = check_length_full(ptest_cb_26)\n",
    "ptest_cb_26"
   ]
  },
  {
   "cell_type": "code",
   "execution_count": 130,
   "metadata": {},
   "outputs": [
    {
     "data": {
      "text/plain": [
       "0    15140\n",
       "1      286\n",
       "Name: binder, dtype: int64"
      ]
     },
     "execution_count": 130,
     "metadata": {},
     "output_type": "execute_result"
    }
   ],
   "source": [
    "test_final.binder.value_counts()"
   ]
  },
  {
   "cell_type": "code",
   "execution_count": 131,
   "metadata": {},
   "outputs": [
    {
     "data": {
      "text/plain": [
       "104"
      ]
     },
     "execution_count": 131,
     "metadata": {},
     "output_type": "execute_result"
    }
   ],
   "source": [
    "len(test_final.epitope.unique())"
   ]
  },
  {
   "cell_type": "code",
   "execution_count": 132,
   "metadata": {},
   "outputs": [],
   "source": [
    "train_final.to_csv(\"../../Tools/NetTCR-2.0/test/train_final.csv\", index=False)\n",
    "test_final.to_csv(\"../../Tools/NetTCR-2.0/test/test_final.csv\", index=False)"
   ]
  },
  {
   "cell_type": "code",
   "execution_count": 133,
   "metadata": {},
   "outputs": [],
   "source": [
    "test_final = ptest_cb_26.copy()\n",
    "\n",
    "X_test = test_final[[\"CDR3b\", \"epitope\"]]\n",
    "y_test = test_final[[\"binder\"]]"
   ]
  },
  {
   "cell_type": "code",
   "execution_count": 134,
   "metadata": {},
   "outputs": [],
   "source": [
    "pX_res = Processor.data_representation_blosum62(X_res)\n",
    "py_res = y_res.copy()\n",
    "\n",
    "pX_test = Processor.data_representation_blosum62(X_test)\n",
    "py_test = y_test.copy()"
   ]
  },
  {
   "cell_type": "code",
   "execution_count": 135,
   "metadata": {},
   "outputs": [
    {
     "data": {
      "text/html": [
       "<div>\n",
       "<style scoped>\n",
       "    .dataframe tbody tr th:only-of-type {\n",
       "        vertical-align: middle;\n",
       "    }\n",
       "\n",
       "    .dataframe tbody tr th {\n",
       "        vertical-align: top;\n",
       "    }\n",
       "\n",
       "    .dataframe thead th {\n",
       "        text-align: right;\n",
       "    }\n",
       "</style>\n",
       "<table border=\"1\" class=\"dataframe\">\n",
       "  <thead>\n",
       "    <tr style=\"text-align: right;\">\n",
       "      <th></th>\n",
       "      <th>0</th>\n",
       "      <th>1</th>\n",
       "      <th>2</th>\n",
       "      <th>3</th>\n",
       "      <th>4</th>\n",
       "      <th>5</th>\n",
       "      <th>6</th>\n",
       "      <th>7</th>\n",
       "      <th>8</th>\n",
       "      <th>9</th>\n",
       "      <th>...</th>\n",
       "      <th>210</th>\n",
       "      <th>211</th>\n",
       "      <th>212</th>\n",
       "      <th>213</th>\n",
       "      <th>214</th>\n",
       "      <th>215</th>\n",
       "      <th>216</th>\n",
       "      <th>217</th>\n",
       "      <th>218</th>\n",
       "      <th>219</th>\n",
       "    </tr>\n",
       "  </thead>\n",
       "  <tbody>\n",
       "    <tr>\n",
       "      <th>0</th>\n",
       "      <td>4.0</td>\n",
       "      <td>-1.0</td>\n",
       "      <td>-2.0</td>\n",
       "      <td>-2.0</td>\n",
       "      <td>0.0</td>\n",
       "      <td>-1.0</td>\n",
       "      <td>-1.0</td>\n",
       "      <td>0.0</td>\n",
       "      <td>-2.0</td>\n",
       "      <td>-1.0</td>\n",
       "      <td>...</td>\n",
       "      <td>0.0</td>\n",
       "      <td>0.0</td>\n",
       "      <td>0.0</td>\n",
       "      <td>0.0</td>\n",
       "      <td>0.0</td>\n",
       "      <td>0.0</td>\n",
       "      <td>0.0</td>\n",
       "      <td>0.0</td>\n",
       "      <td>0.0</td>\n",
       "      <td>0.0</td>\n",
       "    </tr>\n",
       "    <tr>\n",
       "      <th>1</th>\n",
       "      <td>4.0</td>\n",
       "      <td>-1.0</td>\n",
       "      <td>-2.0</td>\n",
       "      <td>-2.0</td>\n",
       "      <td>0.0</td>\n",
       "      <td>-1.0</td>\n",
       "      <td>-1.0</td>\n",
       "      <td>0.0</td>\n",
       "      <td>-2.0</td>\n",
       "      <td>-1.0</td>\n",
       "      <td>...</td>\n",
       "      <td>0.0</td>\n",
       "      <td>0.0</td>\n",
       "      <td>0.0</td>\n",
       "      <td>0.0</td>\n",
       "      <td>0.0</td>\n",
       "      <td>0.0</td>\n",
       "      <td>0.0</td>\n",
       "      <td>0.0</td>\n",
       "      <td>0.0</td>\n",
       "      <td>0.0</td>\n",
       "    </tr>\n",
       "    <tr>\n",
       "      <th>2</th>\n",
       "      <td>4.0</td>\n",
       "      <td>-1.0</td>\n",
       "      <td>-2.0</td>\n",
       "      <td>-2.0</td>\n",
       "      <td>0.0</td>\n",
       "      <td>-1.0</td>\n",
       "      <td>-1.0</td>\n",
       "      <td>0.0</td>\n",
       "      <td>-2.0</td>\n",
       "      <td>-1.0</td>\n",
       "      <td>...</td>\n",
       "      <td>0.0</td>\n",
       "      <td>0.0</td>\n",
       "      <td>0.0</td>\n",
       "      <td>0.0</td>\n",
       "      <td>0.0</td>\n",
       "      <td>0.0</td>\n",
       "      <td>0.0</td>\n",
       "      <td>0.0</td>\n",
       "      <td>0.0</td>\n",
       "      <td>0.0</td>\n",
       "    </tr>\n",
       "    <tr>\n",
       "      <th>3</th>\n",
       "      <td>1.0</td>\n",
       "      <td>-1.0</td>\n",
       "      <td>1.0</td>\n",
       "      <td>0.0</td>\n",
       "      <td>-1.0</td>\n",
       "      <td>0.0</td>\n",
       "      <td>0.0</td>\n",
       "      <td>0.0</td>\n",
       "      <td>-1.0</td>\n",
       "      <td>-2.0</td>\n",
       "      <td>...</td>\n",
       "      <td>0.0</td>\n",
       "      <td>0.0</td>\n",
       "      <td>0.0</td>\n",
       "      <td>0.0</td>\n",
       "      <td>0.0</td>\n",
       "      <td>0.0</td>\n",
       "      <td>0.0</td>\n",
       "      <td>0.0</td>\n",
       "      <td>0.0</td>\n",
       "      <td>0.0</td>\n",
       "    </tr>\n",
       "    <tr>\n",
       "      <th>4</th>\n",
       "      <td>4.0</td>\n",
       "      <td>-1.0</td>\n",
       "      <td>-2.0</td>\n",
       "      <td>-2.0</td>\n",
       "      <td>0.0</td>\n",
       "      <td>-1.0</td>\n",
       "      <td>-1.0</td>\n",
       "      <td>0.0</td>\n",
       "      <td>-2.0</td>\n",
       "      <td>-1.0</td>\n",
       "      <td>...</td>\n",
       "      <td>0.0</td>\n",
       "      <td>0.0</td>\n",
       "      <td>0.0</td>\n",
       "      <td>0.0</td>\n",
       "      <td>0.0</td>\n",
       "      <td>0.0</td>\n",
       "      <td>0.0</td>\n",
       "      <td>0.0</td>\n",
       "      <td>0.0</td>\n",
       "      <td>0.0</td>\n",
       "    </tr>\n",
       "    <tr>\n",
       "      <th>...</th>\n",
       "      <td>...</td>\n",
       "      <td>...</td>\n",
       "      <td>...</td>\n",
       "      <td>...</td>\n",
       "      <td>...</td>\n",
       "      <td>...</td>\n",
       "      <td>...</td>\n",
       "      <td>...</td>\n",
       "      <td>...</td>\n",
       "      <td>...</td>\n",
       "      <td>...</td>\n",
       "      <td>...</td>\n",
       "      <td>...</td>\n",
       "      <td>...</td>\n",
       "      <td>...</td>\n",
       "      <td>...</td>\n",
       "      <td>...</td>\n",
       "      <td>...</td>\n",
       "      <td>...</td>\n",
       "      <td>...</td>\n",
       "      <td>...</td>\n",
       "    </tr>\n",
       "    <tr>\n",
       "      <th>13363</th>\n",
       "      <td>4.0</td>\n",
       "      <td>-1.0</td>\n",
       "      <td>-2.0</td>\n",
       "      <td>-2.0</td>\n",
       "      <td>0.0</td>\n",
       "      <td>-1.0</td>\n",
       "      <td>-1.0</td>\n",
       "      <td>0.0</td>\n",
       "      <td>-2.0</td>\n",
       "      <td>-1.0</td>\n",
       "      <td>...</td>\n",
       "      <td>0.0</td>\n",
       "      <td>0.0</td>\n",
       "      <td>0.0</td>\n",
       "      <td>0.0</td>\n",
       "      <td>0.0</td>\n",
       "      <td>0.0</td>\n",
       "      <td>0.0</td>\n",
       "      <td>0.0</td>\n",
       "      <td>0.0</td>\n",
       "      <td>0.0</td>\n",
       "    </tr>\n",
       "    <tr>\n",
       "      <th>13364</th>\n",
       "      <td>4.0</td>\n",
       "      <td>-1.0</td>\n",
       "      <td>-2.0</td>\n",
       "      <td>-2.0</td>\n",
       "      <td>0.0</td>\n",
       "      <td>-1.0</td>\n",
       "      <td>-1.0</td>\n",
       "      <td>0.0</td>\n",
       "      <td>-2.0</td>\n",
       "      <td>-1.0</td>\n",
       "      <td>...</td>\n",
       "      <td>0.0</td>\n",
       "      <td>0.0</td>\n",
       "      <td>0.0</td>\n",
       "      <td>0.0</td>\n",
       "      <td>0.0</td>\n",
       "      <td>0.0</td>\n",
       "      <td>0.0</td>\n",
       "      <td>0.0</td>\n",
       "      <td>0.0</td>\n",
       "      <td>0.0</td>\n",
       "    </tr>\n",
       "    <tr>\n",
       "      <th>13365</th>\n",
       "      <td>4.0</td>\n",
       "      <td>-1.0</td>\n",
       "      <td>-2.0</td>\n",
       "      <td>-2.0</td>\n",
       "      <td>0.0</td>\n",
       "      <td>-1.0</td>\n",
       "      <td>-1.0</td>\n",
       "      <td>0.0</td>\n",
       "      <td>-2.0</td>\n",
       "      <td>-1.0</td>\n",
       "      <td>...</td>\n",
       "      <td>0.0</td>\n",
       "      <td>0.0</td>\n",
       "      <td>0.0</td>\n",
       "      <td>0.0</td>\n",
       "      <td>0.0</td>\n",
       "      <td>0.0</td>\n",
       "      <td>0.0</td>\n",
       "      <td>0.0</td>\n",
       "      <td>0.0</td>\n",
       "      <td>0.0</td>\n",
       "    </tr>\n",
       "    <tr>\n",
       "      <th>13366</th>\n",
       "      <td>4.0</td>\n",
       "      <td>-1.0</td>\n",
       "      <td>-2.0</td>\n",
       "      <td>-2.0</td>\n",
       "      <td>0.0</td>\n",
       "      <td>-1.0</td>\n",
       "      <td>-1.0</td>\n",
       "      <td>0.0</td>\n",
       "      <td>-2.0</td>\n",
       "      <td>-1.0</td>\n",
       "      <td>...</td>\n",
       "      <td>0.0</td>\n",
       "      <td>0.0</td>\n",
       "      <td>0.0</td>\n",
       "      <td>0.0</td>\n",
       "      <td>0.0</td>\n",
       "      <td>0.0</td>\n",
       "      <td>0.0</td>\n",
       "      <td>0.0</td>\n",
       "      <td>0.0</td>\n",
       "      <td>0.0</td>\n",
       "    </tr>\n",
       "    <tr>\n",
       "      <th>13367</th>\n",
       "      <td>4.0</td>\n",
       "      <td>-1.0</td>\n",
       "      <td>-2.0</td>\n",
       "      <td>-2.0</td>\n",
       "      <td>0.0</td>\n",
       "      <td>-1.0</td>\n",
       "      <td>-1.0</td>\n",
       "      <td>0.0</td>\n",
       "      <td>-2.0</td>\n",
       "      <td>-1.0</td>\n",
       "      <td>...</td>\n",
       "      <td>0.0</td>\n",
       "      <td>0.0</td>\n",
       "      <td>0.0</td>\n",
       "      <td>0.0</td>\n",
       "      <td>0.0</td>\n",
       "      <td>0.0</td>\n",
       "      <td>0.0</td>\n",
       "      <td>0.0</td>\n",
       "      <td>0.0</td>\n",
       "      <td>0.0</td>\n",
       "    </tr>\n",
       "  </tbody>\n",
       "</table>\n",
       "<p>13368 rows × 600 columns</p>\n",
       "</div>"
      ],
      "text/plain": [
       "       0    1    2    3    4    5    6    7    8    9    ...  210  211  212  \\\n",
       "0      4.0 -1.0 -2.0 -2.0  0.0 -1.0 -1.0  0.0 -2.0 -1.0  ...  0.0  0.0  0.0   \n",
       "1      4.0 -1.0 -2.0 -2.0  0.0 -1.0 -1.0  0.0 -2.0 -1.0  ...  0.0  0.0  0.0   \n",
       "2      4.0 -1.0 -2.0 -2.0  0.0 -1.0 -1.0  0.0 -2.0 -1.0  ...  0.0  0.0  0.0   \n",
       "3      1.0 -1.0  1.0  0.0 -1.0  0.0  0.0  0.0 -1.0 -2.0  ...  0.0  0.0  0.0   \n",
       "4      4.0 -1.0 -2.0 -2.0  0.0 -1.0 -1.0  0.0 -2.0 -1.0  ...  0.0  0.0  0.0   \n",
       "...    ...  ...  ...  ...  ...  ...  ...  ...  ...  ...  ...  ...  ...  ...   \n",
       "13363  4.0 -1.0 -2.0 -2.0  0.0 -1.0 -1.0  0.0 -2.0 -1.0  ...  0.0  0.0  0.0   \n",
       "13364  4.0 -1.0 -2.0 -2.0  0.0 -1.0 -1.0  0.0 -2.0 -1.0  ...  0.0  0.0  0.0   \n",
       "13365  4.0 -1.0 -2.0 -2.0  0.0 -1.0 -1.0  0.0 -2.0 -1.0  ...  0.0  0.0  0.0   \n",
       "13366  4.0 -1.0 -2.0 -2.0  0.0 -1.0 -1.0  0.0 -2.0 -1.0  ...  0.0  0.0  0.0   \n",
       "13367  4.0 -1.0 -2.0 -2.0  0.0 -1.0 -1.0  0.0 -2.0 -1.0  ...  0.0  0.0  0.0   \n",
       "\n",
       "       213  214  215  216  217  218  219  \n",
       "0      0.0  0.0  0.0  0.0  0.0  0.0  0.0  \n",
       "1      0.0  0.0  0.0  0.0  0.0  0.0  0.0  \n",
       "2      0.0  0.0  0.0  0.0  0.0  0.0  0.0  \n",
       "3      0.0  0.0  0.0  0.0  0.0  0.0  0.0  \n",
       "4      0.0  0.0  0.0  0.0  0.0  0.0  0.0  \n",
       "...    ...  ...  ...  ...  ...  ...  ...  \n",
       "13363  0.0  0.0  0.0  0.0  0.0  0.0  0.0  \n",
       "13364  0.0  0.0  0.0  0.0  0.0  0.0  0.0  \n",
       "13365  0.0  0.0  0.0  0.0  0.0  0.0  0.0  \n",
       "13366  0.0  0.0  0.0  0.0  0.0  0.0  0.0  \n",
       "13367  0.0  0.0  0.0  0.0  0.0  0.0  0.0  \n",
       "\n",
       "[13368 rows x 600 columns]"
      ]
     },
     "execution_count": 135,
     "metadata": {},
     "output_type": "execute_result"
    }
   ],
   "source": [
    "pX_res"
   ]
  },
  {
   "cell_type": "code",
   "execution_count": 136,
   "metadata": {},
   "outputs": [],
   "source": [
    "lst_models = [\n",
    "    ('Random Forest', RandomForestClassifier(random_state=42, n_jobs=-1)),\n",
    "]\n",
    "\n",
    "cv = StratifiedKFold(n_splits=5, shuffle=True, random_state=42)"
   ]
  },
  {
   "cell_type": "code",
   "execution_count": 137,
   "metadata": {},
   "outputs": [],
   "source": [
    "def train(lst_models, X, y, cv):\n",
    "    res_table = []\n",
    "    for mdl_name, model in tqdm(lst_models):\n",
    "        tic = time.time()\n",
    "        cv_res = cross_validate(model, X, y, cv=cv, return_train_score=True, scoring=['accuracy', 'roc_auc'], n_jobs=-1)\n",
    "        res_table.append([mdl_name, \n",
    "                          cv_res['train_accuracy'].mean(), \n",
    "                          cv_res['test_accuracy'].mean(), \n",
    "                          np.abs(cv_res['train_accuracy'].mean() - cv_res['test_accuracy'].mean()),\n",
    "                          cv_res['train_accuracy'].std(),\n",
    "                          cv_res['test_accuracy'].std(),\n",
    "                          cv_res['train_roc_auc'].mean(),\n",
    "                          cv_res['test_roc_auc'].mean(),\n",
    "                          np.abs(cv_res['train_roc_auc'].mean() - cv_res['test_roc_auc'].mean()),\n",
    "                          cv_res['train_roc_auc'].std(),\n",
    "                          cv_res['test_roc_auc'].std(),\n",
    "                          cv_res['fit_time'].mean()\n",
    "        ])\n",
    "        toc = time.time()\n",
    "        print('\\tModel {} has been trained in {:,.2f} seconds'.format(mdl_name, (toc - tic)))\n",
    "    \n",
    "    res_table = pd.DataFrame(res_table, columns=['model', 'train_acc', 'test_acc', 'diff_acc',\n",
    "                                                 'train_acc_std', 'test_acc_std', 'train_roc_auc', 'test_roc_auc',\n",
    "                                                 'diff_roc_auc', 'train_roc_auc_std', 'test_roc_auc_std', 'fit_time'])\n",
    "    res_table.sort_values(by=['test_acc', 'test_roc_auc'], ascending=False, inplace=True)\n",
    "\n",
    "    return res_table.reset_index(drop=True)"
   ]
  },
  {
   "cell_type": "code",
   "execution_count": 74,
   "metadata": {},
   "outputs": [
    {
     "name": "stderr",
     "output_type": "stream",
     "text": [
      "100%|██████████| 1/1 [00:07<00:00,  7.24s/it]"
     ]
    },
    {
     "name": "stdout",
     "output_type": "stream",
     "text": [
      "\tModel Random Forest has been trained in 7.24 seconds\n"
     ]
    },
    {
     "name": "stderr",
     "output_type": "stream",
     "text": [
      "\n"
     ]
    },
    {
     "data": {
      "text/html": [
       "<div>\n",
       "<style scoped>\n",
       "    .dataframe tbody tr th:only-of-type {\n",
       "        vertical-align: middle;\n",
       "    }\n",
       "\n",
       "    .dataframe tbody tr th {\n",
       "        vertical-align: top;\n",
       "    }\n",
       "\n",
       "    .dataframe thead th {\n",
       "        text-align: right;\n",
       "    }\n",
       "</style>\n",
       "<table border=\"1\" class=\"dataframe\">\n",
       "  <thead>\n",
       "    <tr style=\"text-align: right;\">\n",
       "      <th></th>\n",
       "      <th>model</th>\n",
       "      <th>train_acc</th>\n",
       "      <th>test_acc</th>\n",
       "      <th>diff_acc</th>\n",
       "      <th>train_acc_std</th>\n",
       "      <th>test_acc_std</th>\n",
       "      <th>train_roc_auc</th>\n",
       "      <th>test_roc_auc</th>\n",
       "      <th>diff_roc_auc</th>\n",
       "      <th>train_roc_auc_std</th>\n",
       "      <th>test_roc_auc_std</th>\n",
       "      <th>fit_time</th>\n",
       "    </tr>\n",
       "  </thead>\n",
       "  <tbody>\n",
       "    <tr>\n",
       "      <th>0</th>\n",
       "      <td>Random Forest</td>\n",
       "      <td>1.0</td>\n",
       "      <td>0.924596</td>\n",
       "      <td>0.075404</td>\n",
       "      <td>0.0</td>\n",
       "      <td>0.003407</td>\n",
       "      <td>1.0</td>\n",
       "      <td>0.977139</td>\n",
       "      <td>0.022861</td>\n",
       "      <td>0.0</td>\n",
       "      <td>0.001348</td>\n",
       "      <td>0.887525</td>\n",
       "    </tr>\n",
       "  </tbody>\n",
       "</table>\n",
       "</div>"
      ],
      "text/plain": [
       "           model  train_acc  test_acc  diff_acc  train_acc_std  test_acc_std  \\\n",
       "0  Random Forest        1.0  0.924596  0.075404            0.0      0.003407   \n",
       "\n",
       "   train_roc_auc  test_roc_auc  diff_roc_auc  train_roc_auc_std  \\\n",
       "0            1.0      0.977139      0.022861                0.0   \n",
       "\n",
       "   test_roc_auc_std  fit_time  \n",
       "0          0.001348  0.887525  "
      ]
     },
     "execution_count": 74,
     "metadata": {},
     "output_type": "execute_result"
    }
   ],
   "source": [
    "original_models = train(lst_models, pX_res, np.ravel(py_res), cv)\n",
    "original_models"
   ]
  },
  {
   "cell_type": "code",
   "execution_count": 99,
   "metadata": {},
   "outputs": [],
   "source": [
    "lst_tunning_models = [\n",
    "     ('Random Forest', RandomForestClassifier(random_state=42, n_jobs=-1), {\n",
    "        'bootstrap': [True, False],\n",
    "        'max_depth': [10, 20, 30, 40, 50, 60, 70, 80, 90, 100, None],\n",
    "        'max_features': [\"auto\", \"sqrt\", \"log2\", 5, 10, 15, 20],\n",
    "        'min_samples_leaf': [1, 2, 4],\n",
    "        'n_estimators': [200, 400, 600, 800, 1000]})]\n",
    "\n",
    "def trainTunningModel(lst_models, X, y, cv):\n",
    "    models_final = []\n",
    "    for model_name, model, params in tqdm(lst_models):\n",
    "        tic     = time.time()\n",
    "        search = GridSearchCV(estimator=model, param_grid=params, cv=cv, scoring='accuracy', n_jobs=-1)\n",
    "        search.fit(X, y)\n",
    "        model_tunned = model.set_params(**search.best_params_)\n",
    "        models_final.append((model_name, model_tunned))\n",
    "        toc = time.time()\n",
    "        print('Model {} has been tunned in {:,.2f} seconds'.format(model_name, (toc - tic)))\n",
    "\n",
    "    return models_final"
   ]
  },
  {
   "cell_type": "code",
   "execution_count": 100,
   "metadata": {},
   "outputs": [
    {
     "name": "stderr",
     "output_type": "stream",
     "text": [
      "  0%|          | 0/1 [00:00<?, ?it/s]/usr/local/lib/python3.8/dist-packages/joblib/externals/loky/process_executor.py:700: UserWarning: A worker stopped while some jobs were given to the executor. This can be caused by a too short worker timeout or by a memory leak.\n",
      "  warnings.warn(\n",
      "100%|██████████| 1/1 [1:15:58<00:00, 4558.79s/it]"
     ]
    },
    {
     "name": "stdout",
     "output_type": "stream",
     "text": [
      "Model Random Forest has been tunned in 4,558.74 seconds\n"
     ]
    },
    {
     "name": "stderr",
     "output_type": "stream",
     "text": [
      "\n"
     ]
    },
    {
     "data": {
      "text/plain": [
       "[('Random Forest',\n",
       "  RandomForestClassifier(bootstrap=False, max_depth=20, max_features='auto',\n",
       "                         n_estimators=200, n_jobs=-1, random_state=42))]"
      ]
     },
     "execution_count": 100,
     "metadata": {},
     "output_type": "execute_result"
    }
   ],
   "source": [
    "lst_tunning_models = trainTunningModel(lst_tunning_models, pX_res, np.ravel(py_res), cv)\n",
    "lst_tunning_models"
   ]
  },
  {
   "cell_type": "code",
   "execution_count": null,
   "metadata": {},
   "outputs": [],
   "source": [
    "# tunning_models = train(lst_tunning_models, pX_res, np.ravel(py_res), cv)\n",
    "# tunning_models"
   ]
  },
  {
   "cell_type": "code",
   "execution_count": 76,
   "metadata": {},
   "outputs": [],
   "source": [
    "def evaluation(tunning_models, X_train, y_train, X_test, y_test):\n",
    "    res = []\n",
    "    for name, model in tqdm(tunning_models):\n",
    "        model.fit(X_train, y_train)\n",
    "        y_train_pred = model.predict(X_train)\n",
    "        y_test_pred = model.predict(X_test)\n",
    "        train_acc = accuracy_score(y_train, y_train_pred)\n",
    "        test_acc = accuracy_score(y_test, y_test_pred)\n",
    "        train_roc_auc = roc_auc_score(y_train, y_train_pred)\n",
    "        test_roc_auc = roc_auc_score(y_test, y_test_pred)\n",
    "        res.append([name, train_acc, test_acc, train_roc_auc, test_roc_auc])\n",
    "        \n",
    "    res = pd.DataFrame(res, columns=['model', 'train_acc', 'test_acc', 'train_roc_auc', 'test_roc_auc'])\n",
    "    res.sort_values(by=['test_acc', 'test_roc_auc'], ascending=False, inplace=True)\n",
    "    \n",
    "    return res.reset_index(drop=True)"
   ]
  },
  {
   "cell_type": "code",
   "execution_count": 138,
   "metadata": {},
   "outputs": [],
   "source": [
    "lst_tunning_models = [('Random Forest', RandomForestClassifier(bootstrap=False, max_depth=20, max_features='auto',\n",
    "                         n_estimators=200, n_jobs=-1, random_state=42))]\n",
    "\n",
    "# lst_tunning_models2 = [('Random Forest', \n",
    "# RandomForestClassifier(bootstrap=False, max_depth=70, max_features=5, n_estimators=200, n_jobs=-1, random_state=42))]"
   ]
  },
  {
   "cell_type": "code",
   "execution_count": 139,
   "metadata": {},
   "outputs": [
    {
     "name": "stderr",
     "output_type": "stream",
     "text": [
      "100%|██████████| 1/1 [00:01<00:00,  1.39s/it]\n"
     ]
    },
    {
     "data": {
      "text/html": [
       "<div>\n",
       "<style scoped>\n",
       "    .dataframe tbody tr th:only-of-type {\n",
       "        vertical-align: middle;\n",
       "    }\n",
       "\n",
       "    .dataframe tbody tr th {\n",
       "        vertical-align: top;\n",
       "    }\n",
       "\n",
       "    .dataframe thead th {\n",
       "        text-align: right;\n",
       "    }\n",
       "</style>\n",
       "<table border=\"1\" class=\"dataframe\">\n",
       "  <thead>\n",
       "    <tr style=\"text-align: right;\">\n",
       "      <th></th>\n",
       "      <th>model</th>\n",
       "      <th>train_acc</th>\n",
       "      <th>test_acc</th>\n",
       "      <th>train_roc_auc</th>\n",
       "      <th>test_roc_auc</th>\n",
       "    </tr>\n",
       "  </thead>\n",
       "  <tbody>\n",
       "    <tr>\n",
       "      <th>0</th>\n",
       "      <td>Random Forest</td>\n",
       "      <td>0.993567</td>\n",
       "      <td>0.472172</td>\n",
       "      <td>0.993567</td>\n",
       "      <td>0.527589</td>\n",
       "    </tr>\n",
       "  </tbody>\n",
       "</table>\n",
       "</div>"
      ],
      "text/plain": [
       "           model  train_acc  test_acc  train_roc_auc  test_roc_auc\n",
       "0  Random Forest   0.993567  0.472172       0.993567      0.527589"
      ]
     },
     "execution_count": 139,
     "metadata": {},
     "output_type": "execute_result"
    }
   ],
   "source": [
    "best_models = evaluation(lst_tunning_models, pX_res, np.ravel(py_res), pX_test, py_test)\n",
    "best_models"
   ]
  },
  {
   "cell_type": "code",
   "execution_count": 140,
   "metadata": {},
   "outputs": [
    {
     "name": "stderr",
     "output_type": "stream",
     "text": [
      "100%|██████████| 1/1 [00:01<00:00,  1.78s/it]\n"
     ]
    },
    {
     "data": {
      "text/html": [
       "<div>\n",
       "<style scoped>\n",
       "    .dataframe tbody tr th:only-of-type {\n",
       "        vertical-align: middle;\n",
       "    }\n",
       "\n",
       "    .dataframe tbody tr th {\n",
       "        vertical-align: top;\n",
       "    }\n",
       "\n",
       "    .dataframe thead th {\n",
       "        text-align: right;\n",
       "    }\n",
       "</style>\n",
       "<table border=\"1\" class=\"dataframe\">\n",
       "  <thead>\n",
       "    <tr style=\"text-align: right;\">\n",
       "      <th></th>\n",
       "      <th>model</th>\n",
       "      <th>train_acc</th>\n",
       "      <th>test_acc</th>\n",
       "      <th>train_roc_auc</th>\n",
       "      <th>test_roc_auc</th>\n",
       "    </tr>\n",
       "  </thead>\n",
       "  <tbody>\n",
       "    <tr>\n",
       "      <th>0</th>\n",
       "      <td>Random Forest</td>\n",
       "      <td>1.0</td>\n",
       "      <td>0.689878</td>\n",
       "      <td>1.0</td>\n",
       "      <td>0.549722</td>\n",
       "    </tr>\n",
       "  </tbody>\n",
       "</table>\n",
       "</div>"
      ],
      "text/plain": [
       "           model  train_acc  test_acc  train_roc_auc  test_roc_auc\n",
       "0  Random Forest        1.0  0.689878            1.0      0.549722"
      ]
     },
     "execution_count": 140,
     "metadata": {},
     "output_type": "execute_result"
    }
   ],
   "source": [
    "best_models = evaluation(lst_tunning_models2, pX_res, np.ravel(py_res), pX_test, py_test)\n",
    "best_models"
   ]
  },
  {
   "cell_type": "code",
   "execution_count": 141,
   "metadata": {},
   "outputs": [],
   "source": [
    "def confusionMatrix(y_true, y_pred):\n",
    "    target_names = ['Non-binder', 'Binder']\n",
    "    print(classification_report(y_true, y_pred, target_names=target_names))\n",
    "    cm = pd.DataFrame(confusion_matrix(y_true, y_pred), index=target_names, columns=target_names)\n",
    "    plt.figure(figsize=(6,4))\n",
    "    sns.heatmap(cm, annot=True, fmt='g')\n",
    "    plt.title('Confusion matrix')\n",
    "    plt.xlabel('Predicted values')\n",
    "    plt.ylabel('Actual values')\n",
    "    plt.show()"
   ]
  },
  {
   "cell_type": "code",
   "execution_count": 142,
   "metadata": {},
   "outputs": [],
   "source": [
    "def model_run(algo, pX_res, py_res, pX_test, py_test):\n",
    "\n",
    "    algo.fit(pX_res, np.ravel(py_res))\n",
    "    y_pred = algo.predict(pX_test)\n",
    "    y_pred_proba = algo.predict_proba(pX_test)[:,1]\n",
    "    \n",
    "    accuracy = accuracy_score(py_test, y_pred).ravel()\n",
    "    classify_metrics = classification_report(py_test, y_pred)\n",
    "    f1 = f1_score(py_test, y_pred).ravel()\n",
    "    \n",
    "    fpr, tpr, thresholds = roc_curve(py_test, y_pred_proba)\n",
    "    auc_score = auc(fpr, tpr)\n",
    "    tn, fp, fn, tp = confusion_matrix(py_test, y_pred).ravel()\n",
    "    confusionMatrix(py_test, y_pred)\n",
    "    \n",
    "    print (algo)\n",
    "    print (\"Accuracy score        : \", accuracy)\n",
    "    print (\"F1 score              : \", f1)\n",
    "    print (\"AUC                   : \", auc_score)\n",
    "    print ('Sensitivity (TPR)     : ', tp/(tp+fn))\n",
    "    print ('Specificity (TNR)     : ', tn/(tn+fp))\n",
    "    print (\"classification report :\\n\", classify_metrics)\n",
    "    \n",
    "    return accuracy, classify_metrics, fpr , tpr, auc_score, f1"
   ]
  },
  {
   "cell_type": "code",
   "execution_count": 143,
   "metadata": {},
   "outputs": [
    {
     "data": {
      "text/plain": [
       "[('Random Forest',\n",
       "  RandomForestClassifier(bootstrap=False, max_depth=20, max_features='auto',\n",
       "                         n_estimators=200, n_jobs=-1, random_state=42))]"
      ]
     },
     "execution_count": 143,
     "metadata": {},
     "output_type": "execute_result"
    }
   ],
   "source": [
    "lst_tunning_models"
   ]
  },
  {
   "cell_type": "code",
   "execution_count": 144,
   "metadata": {},
   "outputs": [
    {
     "name": "stdout",
     "output_type": "stream",
     "text": [
      "              precision    recall  f1-score   support\n",
      "\n",
      "  Non-binder       0.98      0.47      0.64     15170\n",
      "      Binder       0.02      0.59      0.04       282\n",
      "\n",
      "    accuracy                           0.47     15452\n",
      "   macro avg       0.50      0.53      0.34     15452\n",
      "weighted avg       0.97      0.47      0.63     15452\n",
      "\n"
     ]
    },
    {
     "data": {
      "image/png": "[encoded data removed]",
      "text/plain": [
       "<Figure size 600x400 with 2 Axes>"
      ]
     },
     "metadata": {},
     "output_type": "display_data"
    },
    {
     "name": "stdout",
     "output_type": "stream",
     "text": [
      "RandomForestClassifier(bootstrap=False, max_depth=20, max_features='auto',\n",
      "                       n_estimators=200, n_jobs=-1, random_state=42)\n",
      "Accuracy score        :  [0.47217189]\n",
      "F1 score              :  [0.03888758]\n",
      "AUC                   :  0.5647205196893832\n",
      "Sensitivity (TPR)     :  0.5851063829787234\n",
      "Specificity (TNR)     :  0.47007251153592616\n",
      "classification report :\n",
      "               precision    recall  f1-score   support\n",
      "\n",
      "           0       0.98      0.47      0.64     15170\n",
      "           1       0.02      0.59      0.04       282\n",
      "\n",
      "    accuracy                           0.47     15452\n",
      "   macro avg       0.50      0.53      0.34     15452\n",
      "weighted avg       0.97      0.47      0.63     15452\n",
      "\n"
     ]
    }
   ],
   "source": [
    "model_rf = lst_tunning_models[0][1]\n",
    "\n",
    "accuracy, metrics, fpr , tpr, auc_score, f1 = model_run(model_rf, pX_res, py_res, pX_test, py_test)"
   ]
  },
  {
   "cell_type": "code",
   "execution_count": 145,
   "metadata": {},
   "outputs": [
    {
     "name": "stdout",
     "output_type": "stream",
     "text": [
      "              precision    recall  f1-score   support\n",
      "\n",
      "  Non-binder       0.98      0.70      0.81     15170\n",
      "      Binder       0.02      0.40      0.05       282\n",
      "\n",
      "    accuracy                           0.69     15452\n",
      "   macro avg       0.50      0.55      0.43     15452\n",
      "weighted avg       0.97      0.69      0.80     15452\n",
      "\n"
     ]
    },
    {
     "data": {
      "image/png": "[encoded data removed]",
      "text/plain": [
       "<Figure size 600x400 with 2 Axes>"
      ]
     },
     "metadata": {},
     "output_type": "display_data"
    },
    {
     "name": "stdout",
     "output_type": "stream",
     "text": [
      "RandomForestClassifier(bootstrap=False, max_depth=70, max_features=5,\n",
      "                       n_estimators=200, n_jobs=-1, random_state=42)\n",
      "Accuracy score        :  [0.68987833]\n",
      "F1 score              :  [0.04541833]\n",
      "AUC                   :  0.573569521779174\n",
      "Sensitivity (TPR)     :  0.40425531914893614\n",
      "Specificity (TNR)     :  0.6951878707976269\n",
      "classification report :\n",
      "               precision    recall  f1-score   support\n",
      "\n",
      "           0       0.98      0.70      0.81     15170\n",
      "           1       0.02      0.40      0.05       282\n",
      "\n",
      "    accuracy                           0.69     15452\n",
      "   macro avg       0.50      0.55      0.43     15452\n",
      "weighted avg       0.97      0.69      0.80     15452\n",
      "\n"
     ]
    }
   ],
   "source": [
    "model_rf = lst_tunning_models2[0][1]\n",
    "\n",
    "accuracy, metrics, fpr , tpr, auc_score, f1 = model_run(model_rf, pX_res, py_res, pX_test, py_test)"
   ]
  },
  {
   "cell_type": "markdown",
   "metadata": {},
   "source": [
    "### NetTCR"
   ]
  },
  {
   "cell_type": "code",
   "execution_count": null,
   "metadata": {},
   "outputs": [],
   "source": [
    "nettcr = pd.read_csv(\"../../Tools/NetTCR-2.0/output/test_final.csv\")\n",
    "nettcr['binder_pred'] = np.where(nettcr['prediction'] >= 0.5, 1, 0)\n",
    "\n",
    "y_test = nettcr[\"binder\"].to_numpy()\n",
    "y_test_pred = nettcr[\"binder_pred\"].to_numpy()\n",
    "\n",
    "confusionMatrix(y_test, y_test_pred)\n",
    "\n",
    "tn, fp, fn, tp= confusion_matrix(y_test, y_test_pred).ravel()\n",
    "accuracy = float(accuracy_score(y_test, y_test_pred).ravel())\n",
    "sensitivity = tp/(tp+fn)\n",
    "specificity = tn/(tn+fp)\n",
    "auc = metrics.roc_auc_score(y_test, nettcr[\"prediction\"])\n",
    "print (\"Accuracy score  : \", accuracy)\n",
    "print('Sensitivity (TPR): ', sensitivity)\n",
    "print('Specificity (TNR): ', specificity)\n",
    "print (\"AUC : \", auc)"
   ]
  },
  {
   "cell_type": "code",
   "execution_count": null,
   "metadata": {},
   "outputs": [],
   "source": []
  },
  {
   "cell_type": "code",
   "execution_count": null,
   "metadata": {},
   "outputs": [],
   "source": []
  },
  {
   "cell_type": "code",
   "execution_count": null,
   "metadata": {},
   "outputs": [],
   "source": []
  }
 ],
 "metadata": {
  "kernelspec": {
   "display_name": "Python 3",
   "language": "python",
   "name": "python3"
  },
  "language_info": {
   "codemirror_mode": {
    "name": "ipython",
    "version": 3
   },
   "file_extension": ".py",
   "mimetype": "text/x-python",
   "name": "python",
   "nbconvert_exporter": "python",
   "pygments_lexer": "ipython3",
   "version": "3.8.10"
  }
 },
 "nbformat": 4,
 "nbformat_minor": 2
}
