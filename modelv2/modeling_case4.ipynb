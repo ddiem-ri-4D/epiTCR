{
 "cells": [
  {
   "cell_type": "code",
   "execution_count": 1,
   "metadata": {},
   "outputs": [],
   "source": [
    "import numpy as np\n",
    "import time\n",
    "import pickle\n",
    "import utils as Utils\n",
    "import pandas as pd\n",
    "import random\n",
    "from sklearn import svm\n",
    "import seaborn as sns\n",
    "import matplotlib.pyplot as plt\n",
    "# import modules.model as Model\n",
    "from matplotlib.backends.backend_pdf import PdfPages\n",
    "import sklearn.metrics as metrics\n",
    "\n",
    "from sklearn.model_selection import KFold\n",
    "from sklearn.model_selection import cross_val_score\n",
    "from sklearn.model_selection import train_test_split\n",
    "from sklearn.svm import SVC\n",
    "from sklearn.pipeline import make_pipeline\n",
    "from sklearn.metrics import accuracy_score, roc_auc_score, confusion_matrix\n",
    "from sklearn.model_selection import train_test_split, cross_validate, GridSearchCV\n",
    "from sklearn.metrics import classification_report, confusion_matrix, plot_roc_curve\n",
    "from sklearn.metrics import confusion_matrix,accuracy_score,precision_score,recall_score,roc_auc_score,classification_report,roc_curve,auc, f1_score\n",
    "from sklearn.metrics import classification_report\n",
    "from sklearn.linear_model import LogisticRegression\n",
    "from sklearn.model_selection import StratifiedKFold\n",
    "from sklearn.neighbors import KNeighborsClassifier\n",
    "from sklearn.naive_bayes import BernoulliNB\n",
    "from sklearn.ensemble import RandomForestClassifier\n",
    "from sklearn.naive_bayes import GaussianNB\n",
    "import plotly.graph_objects as go\n",
    "from imblearn.over_sampling import SMOTE \n",
    "# import modules.processor as Processor\n",
    "# import modules.utils as Utils\n",
    "from imblearn.under_sampling import RandomUnderSampler\n",
    "from sklearn.svm import SVC\n",
    "import xgboost as xgb\n",
    "from xgboost import XGBClassifier\n",
    "from catboost import CatBoostClassifier\n",
    "from sklearn.ensemble import BaggingClassifier\n",
    "from sklearn.multiclass import OneVsRestClassifier\n",
    "from sklearn.preprocessing import StandardScaler\n",
    "import warnings\n",
    "warnings.simplefilter(action=\"ignore\", category=FutureWarning)\n",
    "\n",
    "from tqdm import tqdm\n",
    "import processor as Processor"
   ]
  },
  {
   "cell_type": "code",
   "execution_count": 2,
   "metadata": {
    "scrolled": true
   },
   "outputs": [],
   "source": [
    "# !pip3 install xgboost"
   ]
  },
  {
   "cell_type": "code",
   "execution_count": 3,
   "metadata": {},
   "outputs": [],
   "source": [
    "train_trb = pd.read_csv(\"./data_final/train_trb.csv\")\n",
    "test_trb = pd.read_csv(\"./data_final/test_trb.csv\")"
   ]
  },
  {
   "cell_type": "code",
   "execution_count": 4,
   "metadata": {},
   "outputs": [],
   "source": [
    "train_trb_case1_rf_20 = pd.read_csv(\"./data_final/train_trb_case1_rf_20.csv\",)\n",
    "test_trb_case1_cb_60  = pd.read_csv(\"./data_final/test_trb_case1_cb_60.csv\", )\n",
    "train_trb_case2_rf_20 = pd.read_csv(\"./data_final/train_trb_case2_rf_20.csv\",)\n",
    "test_trb_case2_cb_60  = pd.read_csv(\"./data_final/test_trb_case2_cb_60.csv\", )\n",
    "train_trb_case3_rf_20 = pd.read_csv(\"./data_final/train_trb_case3_rf_20.csv\",)\n",
    "test_trb_case3_cb_60  = pd.read_csv(\"./data_final/test_trb_case3_cb_60.csv\", )"
   ]
  },
  {
   "cell_type": "code",
   "execution_count": 5,
   "metadata": {},
   "outputs": [],
   "source": [
    "test_paper_case1_exc_epi = pd.read_csv(\"./data_final/test_paper_case1_exc_epi.csv\")"
   ]
  },
  {
   "cell_type": "code",
   "execution_count": 27,
   "metadata": {},
   "outputs": [],
   "source": [
    "test_paper_exc_epi = pd.read_csv(\"./data_final/test_paper_exc_epi.csv\")"
   ]
  },
  {
   "cell_type": "code",
   "execution_count": 7,
   "metadata": {},
   "outputs": [],
   "source": [
    "nm = RandomUnderSampler(random_state=42)\n",
    "X_res, y_res = nm.fit_resample(train_trb[[\"CDR3b\", \"epitope\"]], train_trb[[\"binder\"]])"
   ]
  },
  {
   "cell_type": "code",
   "execution_count": 8,
   "metadata": {},
   "outputs": [
    {
     "data": {
      "text/plain": [
       "((169756, 2), (169756, 1))"
      ]
     },
     "execution_count": 8,
     "metadata": {},
     "output_type": "execute_result"
    }
   ],
   "source": [
    "X_res.shape, y_res.shape"
   ]
  },
  {
   "cell_type": "code",
   "execution_count": 9,
   "metadata": {},
   "outputs": [],
   "source": [
    "pX_res = Processor.data_representation_blosum62(X_res)\n",
    "py_res = y_res.copy()\n",
    "\n",
    "pX_test_rf = Processor.data_representation_blosum62(test_trb)\n",
    "py_test_rf = test_trb[[\"binder\"]]\n",
    "\n",
    "# pX_test_cb = Processor.data_representation_blosum62(test_trb)\n",
    "# py_test_cb = test_trb[[\"binder\"]]"
   ]
  },
  {
   "cell_type": "code",
   "execution_count": 28,
   "metadata": {},
   "outputs": [],
   "source": [
    "pX_test_paper = Processor.data_representation_blosum62(test_paper_exc_epi)\n",
    "py_test_paper = test_paper_exc_epi[[\"binder\"]]"
   ]
  },
  {
   "cell_type": "code",
   "execution_count": 29,
   "metadata": {},
   "outputs": [
    {
     "data": {
      "text/html": [
       "<div>\n",
       "<style scoped>\n",
       "    .dataframe tbody tr th:only-of-type {\n",
       "        vertical-align: middle;\n",
       "    }\n",
       "\n",
       "    .dataframe tbody tr th {\n",
       "        vertical-align: top;\n",
       "    }\n",
       "\n",
       "    .dataframe thead th {\n",
       "        text-align: right;\n",
       "    }\n",
       "</style>\n",
       "<table border=\"1\" class=\"dataframe\">\n",
       "  <thead>\n",
       "    <tr style=\"text-align: right;\">\n",
       "      <th></th>\n",
       "      <th>0</th>\n",
       "      <th>1</th>\n",
       "      <th>2</th>\n",
       "      <th>3</th>\n",
       "      <th>4</th>\n",
       "      <th>5</th>\n",
       "      <th>6</th>\n",
       "      <th>7</th>\n",
       "      <th>8</th>\n",
       "      <th>9</th>\n",
       "      <th>...</th>\n",
       "      <th>210</th>\n",
       "      <th>211</th>\n",
       "      <th>212</th>\n",
       "      <th>213</th>\n",
       "      <th>214</th>\n",
       "      <th>215</th>\n",
       "      <th>216</th>\n",
       "      <th>217</th>\n",
       "      <th>218</th>\n",
       "      <th>219</th>\n",
       "    </tr>\n",
       "  </thead>\n",
       "  <tbody>\n",
       "    <tr>\n",
       "      <th>0</th>\n",
       "      <td>4.0</td>\n",
       "      <td>-1.0</td>\n",
       "      <td>-2.0</td>\n",
       "      <td>-2.0</td>\n",
       "      <td>0.0</td>\n",
       "      <td>-1.0</td>\n",
       "      <td>-1.0</td>\n",
       "      <td>0.0</td>\n",
       "      <td>-2.0</td>\n",
       "      <td>-1.0</td>\n",
       "      <td>...</td>\n",
       "      <td>0.0</td>\n",
       "      <td>0.0</td>\n",
       "      <td>0.0</td>\n",
       "      <td>0.0</td>\n",
       "      <td>0.0</td>\n",
       "      <td>0.0</td>\n",
       "      <td>0.0</td>\n",
       "      <td>0.0</td>\n",
       "      <td>0.0</td>\n",
       "      <td>0.0</td>\n",
       "    </tr>\n",
       "    <tr>\n",
       "      <th>1</th>\n",
       "      <td>4.0</td>\n",
       "      <td>-1.0</td>\n",
       "      <td>-2.0</td>\n",
       "      <td>-2.0</td>\n",
       "      <td>0.0</td>\n",
       "      <td>-1.0</td>\n",
       "      <td>-1.0</td>\n",
       "      <td>0.0</td>\n",
       "      <td>-2.0</td>\n",
       "      <td>-1.0</td>\n",
       "      <td>...</td>\n",
       "      <td>0.0</td>\n",
       "      <td>0.0</td>\n",
       "      <td>0.0</td>\n",
       "      <td>0.0</td>\n",
       "      <td>0.0</td>\n",
       "      <td>0.0</td>\n",
       "      <td>0.0</td>\n",
       "      <td>0.0</td>\n",
       "      <td>0.0</td>\n",
       "      <td>0.0</td>\n",
       "    </tr>\n",
       "    <tr>\n",
       "      <th>2</th>\n",
       "      <td>4.0</td>\n",
       "      <td>-1.0</td>\n",
       "      <td>-2.0</td>\n",
       "      <td>-2.0</td>\n",
       "      <td>0.0</td>\n",
       "      <td>-1.0</td>\n",
       "      <td>-1.0</td>\n",
       "      <td>0.0</td>\n",
       "      <td>-2.0</td>\n",
       "      <td>-1.0</td>\n",
       "      <td>...</td>\n",
       "      <td>0.0</td>\n",
       "      <td>0.0</td>\n",
       "      <td>0.0</td>\n",
       "      <td>0.0</td>\n",
       "      <td>0.0</td>\n",
       "      <td>0.0</td>\n",
       "      <td>0.0</td>\n",
       "      <td>0.0</td>\n",
       "      <td>0.0</td>\n",
       "      <td>0.0</td>\n",
       "    </tr>\n",
       "    <tr>\n",
       "      <th>3</th>\n",
       "      <td>4.0</td>\n",
       "      <td>-1.0</td>\n",
       "      <td>-2.0</td>\n",
       "      <td>-2.0</td>\n",
       "      <td>0.0</td>\n",
       "      <td>-1.0</td>\n",
       "      <td>-1.0</td>\n",
       "      <td>0.0</td>\n",
       "      <td>-2.0</td>\n",
       "      <td>-1.0</td>\n",
       "      <td>...</td>\n",
       "      <td>0.0</td>\n",
       "      <td>0.0</td>\n",
       "      <td>0.0</td>\n",
       "      <td>0.0</td>\n",
       "      <td>0.0</td>\n",
       "      <td>0.0</td>\n",
       "      <td>0.0</td>\n",
       "      <td>0.0</td>\n",
       "      <td>0.0</td>\n",
       "      <td>0.0</td>\n",
       "    </tr>\n",
       "    <tr>\n",
       "      <th>4</th>\n",
       "      <td>4.0</td>\n",
       "      <td>-1.0</td>\n",
       "      <td>-2.0</td>\n",
       "      <td>-2.0</td>\n",
       "      <td>0.0</td>\n",
       "      <td>-1.0</td>\n",
       "      <td>-1.0</td>\n",
       "      <td>0.0</td>\n",
       "      <td>-2.0</td>\n",
       "      <td>-1.0</td>\n",
       "      <td>...</td>\n",
       "      <td>0.0</td>\n",
       "      <td>0.0</td>\n",
       "      <td>0.0</td>\n",
       "      <td>0.0</td>\n",
       "      <td>0.0</td>\n",
       "      <td>0.0</td>\n",
       "      <td>0.0</td>\n",
       "      <td>0.0</td>\n",
       "      <td>0.0</td>\n",
       "      <td>0.0</td>\n",
       "    </tr>\n",
       "    <tr>\n",
       "      <th>...</th>\n",
       "      <td>...</td>\n",
       "      <td>...</td>\n",
       "      <td>...</td>\n",
       "      <td>...</td>\n",
       "      <td>...</td>\n",
       "      <td>...</td>\n",
       "      <td>...</td>\n",
       "      <td>...</td>\n",
       "      <td>...</td>\n",
       "      <td>...</td>\n",
       "      <td>...</td>\n",
       "      <td>...</td>\n",
       "      <td>...</td>\n",
       "      <td>...</td>\n",
       "      <td>...</td>\n",
       "      <td>...</td>\n",
       "      <td>...</td>\n",
       "      <td>...</td>\n",
       "      <td>...</td>\n",
       "      <td>...</td>\n",
       "      <td>...</td>\n",
       "    </tr>\n",
       "    <tr>\n",
       "      <th>5376</th>\n",
       "      <td>4.0</td>\n",
       "      <td>-1.0</td>\n",
       "      <td>-2.0</td>\n",
       "      <td>-2.0</td>\n",
       "      <td>0.0</td>\n",
       "      <td>-1.0</td>\n",
       "      <td>-1.0</td>\n",
       "      <td>0.0</td>\n",
       "      <td>-2.0</td>\n",
       "      <td>-1.0</td>\n",
       "      <td>...</td>\n",
       "      <td>0.0</td>\n",
       "      <td>0.0</td>\n",
       "      <td>0.0</td>\n",
       "      <td>0.0</td>\n",
       "      <td>0.0</td>\n",
       "      <td>0.0</td>\n",
       "      <td>0.0</td>\n",
       "      <td>0.0</td>\n",
       "      <td>0.0</td>\n",
       "      <td>0.0</td>\n",
       "    </tr>\n",
       "    <tr>\n",
       "      <th>5377</th>\n",
       "      <td>4.0</td>\n",
       "      <td>-1.0</td>\n",
       "      <td>-2.0</td>\n",
       "      <td>-2.0</td>\n",
       "      <td>0.0</td>\n",
       "      <td>-1.0</td>\n",
       "      <td>-1.0</td>\n",
       "      <td>0.0</td>\n",
       "      <td>-2.0</td>\n",
       "      <td>-1.0</td>\n",
       "      <td>...</td>\n",
       "      <td>0.0</td>\n",
       "      <td>0.0</td>\n",
       "      <td>0.0</td>\n",
       "      <td>0.0</td>\n",
       "      <td>0.0</td>\n",
       "      <td>0.0</td>\n",
       "      <td>0.0</td>\n",
       "      <td>0.0</td>\n",
       "      <td>0.0</td>\n",
       "      <td>0.0</td>\n",
       "    </tr>\n",
       "    <tr>\n",
       "      <th>5378</th>\n",
       "      <td>4.0</td>\n",
       "      <td>-1.0</td>\n",
       "      <td>-2.0</td>\n",
       "      <td>-2.0</td>\n",
       "      <td>0.0</td>\n",
       "      <td>-1.0</td>\n",
       "      <td>-1.0</td>\n",
       "      <td>0.0</td>\n",
       "      <td>-2.0</td>\n",
       "      <td>-1.0</td>\n",
       "      <td>...</td>\n",
       "      <td>0.0</td>\n",
       "      <td>0.0</td>\n",
       "      <td>0.0</td>\n",
       "      <td>0.0</td>\n",
       "      <td>0.0</td>\n",
       "      <td>0.0</td>\n",
       "      <td>0.0</td>\n",
       "      <td>0.0</td>\n",
       "      <td>0.0</td>\n",
       "      <td>0.0</td>\n",
       "    </tr>\n",
       "    <tr>\n",
       "      <th>5379</th>\n",
       "      <td>4.0</td>\n",
       "      <td>-1.0</td>\n",
       "      <td>-2.0</td>\n",
       "      <td>-2.0</td>\n",
       "      <td>0.0</td>\n",
       "      <td>-1.0</td>\n",
       "      <td>-1.0</td>\n",
       "      <td>0.0</td>\n",
       "      <td>-2.0</td>\n",
       "      <td>-1.0</td>\n",
       "      <td>...</td>\n",
       "      <td>0.0</td>\n",
       "      <td>0.0</td>\n",
       "      <td>0.0</td>\n",
       "      <td>0.0</td>\n",
       "      <td>0.0</td>\n",
       "      <td>0.0</td>\n",
       "      <td>0.0</td>\n",
       "      <td>0.0</td>\n",
       "      <td>0.0</td>\n",
       "      <td>0.0</td>\n",
       "    </tr>\n",
       "    <tr>\n",
       "      <th>5380</th>\n",
       "      <td>4.0</td>\n",
       "      <td>-1.0</td>\n",
       "      <td>-2.0</td>\n",
       "      <td>-2.0</td>\n",
       "      <td>0.0</td>\n",
       "      <td>-1.0</td>\n",
       "      <td>-1.0</td>\n",
       "      <td>0.0</td>\n",
       "      <td>-2.0</td>\n",
       "      <td>-1.0</td>\n",
       "      <td>...</td>\n",
       "      <td>0.0</td>\n",
       "      <td>0.0</td>\n",
       "      <td>0.0</td>\n",
       "      <td>0.0</td>\n",
       "      <td>0.0</td>\n",
       "      <td>0.0</td>\n",
       "      <td>0.0</td>\n",
       "      <td>0.0</td>\n",
       "      <td>0.0</td>\n",
       "      <td>0.0</td>\n",
       "    </tr>\n",
       "  </tbody>\n",
       "</table>\n",
       "<p>5381 rows × 600 columns</p>\n",
       "</div>"
      ],
      "text/plain": [
       "      0    1    2    3    4    5    6    7    8    9    ...  210  211  212  \\\n",
       "0     4.0 -1.0 -2.0 -2.0  0.0 -1.0 -1.0  0.0 -2.0 -1.0  ...  0.0  0.0  0.0   \n",
       "1     4.0 -1.0 -2.0 -2.0  0.0 -1.0 -1.0  0.0 -2.0 -1.0  ...  0.0  0.0  0.0   \n",
       "2     4.0 -1.0 -2.0 -2.0  0.0 -1.0 -1.0  0.0 -2.0 -1.0  ...  0.0  0.0  0.0   \n",
       "3     4.0 -1.0 -2.0 -2.0  0.0 -1.0 -1.0  0.0 -2.0 -1.0  ...  0.0  0.0  0.0   \n",
       "4     4.0 -1.0 -2.0 -2.0  0.0 -1.0 -1.0  0.0 -2.0 -1.0  ...  0.0  0.0  0.0   \n",
       "...   ...  ...  ...  ...  ...  ...  ...  ...  ...  ...  ...  ...  ...  ...   \n",
       "5376  4.0 -1.0 -2.0 -2.0  0.0 -1.0 -1.0  0.0 -2.0 -1.0  ...  0.0  0.0  0.0   \n",
       "5377  4.0 -1.0 -2.0 -2.0  0.0 -1.0 -1.0  0.0 -2.0 -1.0  ...  0.0  0.0  0.0   \n",
       "5378  4.0 -1.0 -2.0 -2.0  0.0 -1.0 -1.0  0.0 -2.0 -1.0  ...  0.0  0.0  0.0   \n",
       "5379  4.0 -1.0 -2.0 -2.0  0.0 -1.0 -1.0  0.0 -2.0 -1.0  ...  0.0  0.0  0.0   \n",
       "5380  4.0 -1.0 -2.0 -2.0  0.0 -1.0 -1.0  0.0 -2.0 -1.0  ...  0.0  0.0  0.0   \n",
       "\n",
       "      213  214  215  216  217  218  219  \n",
       "0     0.0  0.0  0.0  0.0  0.0  0.0  0.0  \n",
       "1     0.0  0.0  0.0  0.0  0.0  0.0  0.0  \n",
       "2     0.0  0.0  0.0  0.0  0.0  0.0  0.0  \n",
       "3     0.0  0.0  0.0  0.0  0.0  0.0  0.0  \n",
       "4     0.0  0.0  0.0  0.0  0.0  0.0  0.0  \n",
       "...   ...  ...  ...  ...  ...  ...  ...  \n",
       "5376  0.0  0.0  0.0  0.0  0.0  0.0  0.0  \n",
       "5377  0.0  0.0  0.0  0.0  0.0  0.0  0.0  \n",
       "5378  0.0  0.0  0.0  0.0  0.0  0.0  0.0  \n",
       "5379  0.0  0.0  0.0  0.0  0.0  0.0  0.0  \n",
       "5380  0.0  0.0  0.0  0.0  0.0  0.0  0.0  \n",
       "\n",
       "[5381 rows x 600 columns]"
      ]
     },
     "execution_count": 29,
     "metadata": {},
     "output_type": "execute_result"
    }
   ],
   "source": [
    "pX_test_paper"
   ]
  },
  {
   "cell_type": "code",
   "execution_count": 11,
   "metadata": {},
   "outputs": [
    {
     "name": "stdout",
     "output_type": "stream",
     "text": [
      "(169756, 600) (169756, 1)\n",
      "(279997, 600) (279997, 1)\n"
     ]
    }
   ],
   "source": [
    "print(pX_res.shape, py_res.shape)\n",
    "print(pX_test_rf.shape, py_test_rf.shape)"
   ]
  },
  {
   "cell_type": "code",
   "execution_count": 12,
   "metadata": {},
   "outputs": [],
   "source": [
    "lst_models = [\n",
    "#     ('Logistic Regression - [solver: lbfgs]', LogisticRegression(solver='lbfgs')),\n",
    "#     ('Logistic Regression - [solver: liblinear]', LogisticRegression(solver='liblinear')),\n",
    "#     ('Logistic Regression - [solver: newton-cg]', LogisticRegression(solver='newton-cg')),\n",
    "#     ('KNN - [n_neighbors: 2]', KNeighborsClassifier(n_neighbors=2)),\n",
    "#     ('KNN - [n_neighbors: 3]', KNeighborsClassifier(n_neighbors=3)),\n",
    "#     ('SVC - [kernel: linear]', SVC(kernel='linear', random_state=42)),\n",
    "#     ('SVC - [kernel: poly]', SVC(kernel='poly', random_state=42)),\n",
    "#     ('SVC - [kernel: rbf]', SVC(kernel='rbf', random_state=42)),\n",
    "#     ('SVC - [kernel: sigmoid]', SVC(kernel='sigmoid', random_state=42)),\n",
    "#     ('Bernoulli', BernoulliNB()),\n",
    "    ('Random Forest', RandomForestClassifier(random_state=42, n_jobs=-1)),\n",
    "#     ('XGBoost', XGBClassifier(eval_metric='mlogloss'))\n",
    "]\n",
    "\n",
    "cv = StratifiedKFold(n_splits=5, shuffle=True, random_state=42)"
   ]
  },
  {
   "cell_type": "code",
   "execution_count": 13,
   "metadata": {},
   "outputs": [],
   "source": [
    "def train(lst_models, X, y, cv):\n",
    "    res_table = []\n",
    "    for mdl_name, model in tqdm(lst_models):\n",
    "        tic = time.time()\n",
    "        cv_res = cross_validate(model, X, y, cv=cv, return_train_score=True, scoring=['accuracy', 'roc_auc'], n_jobs=-1)\n",
    "        res_table.append([mdl_name, \n",
    "                          cv_res['train_accuracy'].mean(), \n",
    "                          cv_res['test_accuracy'].mean(), \n",
    "                          np.abs(cv_res['train_accuracy'].mean() - cv_res['test_accuracy'].mean()),\n",
    "                          cv_res['train_accuracy'].std(),\n",
    "                          cv_res['test_accuracy'].std(),\n",
    "                          cv_res['train_roc_auc'].mean(),\n",
    "                          cv_res['test_roc_auc'].mean(),\n",
    "                          np.abs(cv_res['train_roc_auc'].mean() - cv_res['test_roc_auc'].mean()),\n",
    "                          cv_res['train_roc_auc'].std(),\n",
    "                          cv_res['test_roc_auc'].std(),\n",
    "                          cv_res['fit_time'].mean()\n",
    "        ])\n",
    "        toc = time.time()\n",
    "        print('\\tModel {} has been trained in {:,.2f} seconds'.format(mdl_name, (toc - tic)))\n",
    "    \n",
    "    res_table = pd.DataFrame(res_table, columns=['model', 'train_acc', 'test_acc', 'diff_acc',\n",
    "                                                 'train_acc_std', 'test_acc_std', 'train_roc_auc', 'test_roc_auc',\n",
    "                                                 'diff_roc_auc', 'train_roc_auc_std', 'test_roc_auc_std', 'fit_time'])\n",
    "    res_table.sort_values(by=['test_acc', 'test_roc_auc'], ascending=False, inplace=True)\n",
    "\n",
    "    return res_table.reset_index(drop=True)"
   ]
  },
  {
   "cell_type": "code",
   "execution_count": 14,
   "metadata": {},
   "outputs": [
    {
     "name": "stderr",
     "output_type": "stream",
     "text": [
      "100%|██████████| 1/1 [09:12<00:00, 552.32s/it]"
     ]
    },
    {
     "name": "stdout",
     "output_type": "stream",
     "text": [
      "\tModel Random Forest has been trained in 552.07 seconds\n"
     ]
    },
    {
     "name": "stderr",
     "output_type": "stream",
     "text": [
      "\n"
     ]
    },
    {
     "data": {
      "text/html": [
       "<div>\n",
       "<style scoped>\n",
       "    .dataframe tbody tr th:only-of-type {\n",
       "        vertical-align: middle;\n",
       "    }\n",
       "\n",
       "    .dataframe tbody tr th {\n",
       "        vertical-align: top;\n",
       "    }\n",
       "\n",
       "    .dataframe thead th {\n",
       "        text-align: right;\n",
       "    }\n",
       "</style>\n",
       "<table border=\"1\" class=\"dataframe\">\n",
       "  <thead>\n",
       "    <tr style=\"text-align: right;\">\n",
       "      <th></th>\n",
       "      <th>model</th>\n",
       "      <th>train_acc</th>\n",
       "      <th>test_acc</th>\n",
       "      <th>diff_acc</th>\n",
       "      <th>train_acc_std</th>\n",
       "      <th>test_acc_std</th>\n",
       "      <th>train_roc_auc</th>\n",
       "      <th>test_roc_auc</th>\n",
       "      <th>diff_roc_auc</th>\n",
       "      <th>train_roc_auc_std</th>\n",
       "      <th>test_roc_auc_std</th>\n",
       "      <th>fit_time</th>\n",
       "    </tr>\n",
       "  </thead>\n",
       "  <tbody>\n",
       "    <tr>\n",
       "      <th>0</th>\n",
       "      <td>Random Forest</td>\n",
       "      <td>0.999997</td>\n",
       "      <td>0.947919</td>\n",
       "      <td>0.052078</td>\n",
       "      <td>0.000006</td>\n",
       "      <td>0.001277</td>\n",
       "      <td>1.0</td>\n",
       "      <td>0.988909</td>\n",
       "      <td>0.011091</td>\n",
       "      <td>2.602614e-10</td>\n",
       "      <td>0.000494</td>\n",
       "      <td>74.955289</td>\n",
       "    </tr>\n",
       "  </tbody>\n",
       "</table>\n",
       "</div>"
      ],
      "text/plain": [
       "           model  train_acc  test_acc  diff_acc  train_acc_std  test_acc_std  \\\n",
       "0  Random Forest   0.999997  0.947919  0.052078       0.000006      0.001277   \n",
       "\n",
       "   train_roc_auc  test_roc_auc  diff_roc_auc  train_roc_auc_std  \\\n",
       "0            1.0      0.988909      0.011091       2.602614e-10   \n",
       "\n",
       "   test_roc_auc_std   fit_time  \n",
       "0          0.000494  74.955289  "
      ]
     },
     "execution_count": 14,
     "metadata": {},
     "output_type": "execute_result"
    }
   ],
   "source": [
    "original_models = train(lst_models, pX_res, np.ravel(py_res), cv)\n",
    "original_models"
   ]
  },
  {
   "cell_type": "code",
   "execution_count": 15,
   "metadata": {},
   "outputs": [],
   "source": [
    "lst_tunning_models = [\n",
    "     ('Random Forest', RandomForestClassifier(random_state=42, n_jobs=-1), {\n",
    "        'bootstrap': [True, False],\n",
    "        'max_depth': [10, 20, 30, 40, 50, 60, 70, 80, 90, 100, None],\n",
    "        'max_features': [\"auto\", \"sqrt\", \"log2\", 5, 10, 15, 20],\n",
    "        'min_samples_leaf': [1, 2, 4],\n",
    "        'n_estimators': [200, 400, 600, 800, 1000]})]\n",
    "\n",
    "def trainTunningModel(lst_models, X, y, cv):\n",
    "    models_final = []\n",
    "    for model_name, model, params in tqdm(lst_models):\n",
    "        tic     = time.time()\n",
    "        search = GridSearchCV(estimator=model, param_grid=params, cv=cv, scoring='accuracy', n_jobs=-1)\n",
    "        search.fit(X, y)\n",
    "        model_tunned = model.set_params(**search.best_params_)\n",
    "        models_final.append((model_name, model_tunned))\n",
    "        toc = time.time()\n",
    "        print('Model {} has been tunned in {:,.2f} seconds'.format(model_name, (toc - tic)))\n",
    "\n",
    "    return models_final"
   ]
  },
  {
   "cell_type": "code",
   "execution_count": 16,
   "metadata": {
    "scrolled": true
   },
   "outputs": [],
   "source": [
    "# lst_tunning_models = trainTunningModel(lst_tunning_models, pX_res_case1, np.ravel(py_res_case1), cv)\n",
    "# lst_tunning_models"
   ]
  },
  {
   "cell_type": "code",
   "execution_count": 17,
   "metadata": {},
   "outputs": [],
   "source": [
    "lst_tunning_models = [('Random Forest', RandomForestClassifier(random_state=42, n_jobs=-1))]"
   ]
  },
  {
   "cell_type": "code",
   "execution_count": 18,
   "metadata": {},
   "outputs": [
    {
     "name": "stderr",
     "output_type": "stream",
     "text": [
      "  0%|          | 0/1 [00:00<?, ?it/s]/usr/local/lib/python3.8/dist-packages/joblib/externals/loky/process_executor.py:700: UserWarning: A worker stopped while some jobs were given to the executor. This can be caused by a too short worker timeout or by a memory leak.\n",
      "  warnings.warn(\n",
      "100%|██████████| 1/1 [03:17<00:00, 197.57s/it]"
     ]
    },
    {
     "name": "stdout",
     "output_type": "stream",
     "text": [
      "\tModel Random Forest has been trained in 197.54 seconds\n"
     ]
    },
    {
     "name": "stderr",
     "output_type": "stream",
     "text": [
      "\n"
     ]
    },
    {
     "data": {
      "text/html": [
       "<div>\n",
       "<style scoped>\n",
       "    .dataframe tbody tr th:only-of-type {\n",
       "        vertical-align: middle;\n",
       "    }\n",
       "\n",
       "    .dataframe tbody tr th {\n",
       "        vertical-align: top;\n",
       "    }\n",
       "\n",
       "    .dataframe thead th {\n",
       "        text-align: right;\n",
       "    }\n",
       "</style>\n",
       "<table border=\"1\" class=\"dataframe\">\n",
       "  <thead>\n",
       "    <tr style=\"text-align: right;\">\n",
       "      <th></th>\n",
       "      <th>model</th>\n",
       "      <th>train_acc</th>\n",
       "      <th>test_acc</th>\n",
       "      <th>diff_acc</th>\n",
       "      <th>train_acc_std</th>\n",
       "      <th>test_acc_std</th>\n",
       "      <th>train_roc_auc</th>\n",
       "      <th>test_roc_auc</th>\n",
       "      <th>diff_roc_auc</th>\n",
       "      <th>train_roc_auc_std</th>\n",
       "      <th>test_roc_auc_std</th>\n",
       "      <th>fit_time</th>\n",
       "    </tr>\n",
       "  </thead>\n",
       "  <tbody>\n",
       "    <tr>\n",
       "      <th>0</th>\n",
       "      <td>Random Forest</td>\n",
       "      <td>0.999997</td>\n",
       "      <td>0.947919</td>\n",
       "      <td>0.052078</td>\n",
       "      <td>0.000006</td>\n",
       "      <td>0.001277</td>\n",
       "      <td>1.0</td>\n",
       "      <td>0.988909</td>\n",
       "      <td>0.011091</td>\n",
       "      <td>2.602614e-10</td>\n",
       "      <td>0.000494</td>\n",
       "      <td>29.750026</td>\n",
       "    </tr>\n",
       "  </tbody>\n",
       "</table>\n",
       "</div>"
      ],
      "text/plain": [
       "           model  train_acc  test_acc  diff_acc  train_acc_std  test_acc_std  \\\n",
       "0  Random Forest   0.999997  0.947919  0.052078       0.000006      0.001277   \n",
       "\n",
       "   train_roc_auc  test_roc_auc  diff_roc_auc  train_roc_auc_std  \\\n",
       "0            1.0      0.988909      0.011091       2.602614e-10   \n",
       "\n",
       "   test_roc_auc_std   fit_time  \n",
       "0          0.000494  29.750026  "
      ]
     },
     "execution_count": 18,
     "metadata": {},
     "output_type": "execute_result"
    }
   ],
   "source": [
    "tunning_models = train(lst_tunning_models, pX_res, np.ravel(py_res), cv)\n",
    "tunning_models"
   ]
  },
  {
   "cell_type": "code",
   "execution_count": 19,
   "metadata": {},
   "outputs": [],
   "source": [
    "def evaluation(tunning_models, X_train, y_train, X_test, y_test):\n",
    "    res = []\n",
    "    for name, model in tqdm(tunning_models):\n",
    "        model.fit(X_train, y_train)\n",
    "        y_train_pred = model.predict(X_train)\n",
    "        y_test_pred = model.predict(X_test)\n",
    "        train_acc = accuracy_score(y_train, y_train_pred)\n",
    "        test_acc = accuracy_score(y_test, y_test_pred)\n",
    "        train_roc_auc = roc_auc_score(y_train, y_train_pred)\n",
    "        test_roc_auc = roc_auc_score(y_test, y_test_pred)\n",
    "        res.append([name, train_acc, test_acc, train_roc_auc, test_roc_auc])\n",
    "        \n",
    "    res = pd.DataFrame(res, columns=['model', 'train_acc', 'test_acc', 'train_roc_auc', 'test_roc_auc'])\n",
    "    res.sort_values(by=['test_acc', 'test_roc_auc'], ascending=False, inplace=True)\n",
    "    \n",
    "    return res.reset_index(drop=True)"
   ]
  },
  {
   "cell_type": "code",
   "execution_count": 20,
   "metadata": {},
   "outputs": [
    {
     "name": "stderr",
     "output_type": "stream",
     "text": [
      "100%|██████████| 1/1 [02:23<00:00, 143.35s/it]\n"
     ]
    },
    {
     "data": {
      "text/html": [
       "<div>\n",
       "<style scoped>\n",
       "    .dataframe tbody tr th:only-of-type {\n",
       "        vertical-align: middle;\n",
       "    }\n",
       "\n",
       "    .dataframe tbody tr th {\n",
       "        vertical-align: top;\n",
       "    }\n",
       "\n",
       "    .dataframe thead th {\n",
       "        text-align: right;\n",
       "    }\n",
       "</style>\n",
       "<table border=\"1\" class=\"dataframe\">\n",
       "  <thead>\n",
       "    <tr style=\"text-align: right;\">\n",
       "      <th></th>\n",
       "      <th>model</th>\n",
       "      <th>train_acc</th>\n",
       "      <th>test_acc</th>\n",
       "      <th>train_roc_auc</th>\n",
       "      <th>test_roc_auc</th>\n",
       "    </tr>\n",
       "  </thead>\n",
       "  <tbody>\n",
       "    <tr>\n",
       "      <th>0</th>\n",
       "      <td>Random Forest</td>\n",
       "      <td>1.0</td>\n",
       "      <td>0.843095</td>\n",
       "      <td>1.0</td>\n",
       "      <td>0.537268</td>\n",
       "    </tr>\n",
       "  </tbody>\n",
       "</table>\n",
       "</div>"
      ],
      "text/plain": [
       "           model  train_acc  test_acc  train_roc_auc  test_roc_auc\n",
       "0  Random Forest        1.0  0.843095            1.0      0.537268"
      ]
     },
     "execution_count": 20,
     "metadata": {},
     "output_type": "execute_result"
    }
   ],
   "source": [
    "best_models = evaluation(lst_tunning_models, pX_res, np.ravel(py_res), pX_test_rf, py_test_rf)\n",
    "best_models"
   ]
  },
  {
   "cell_type": "code",
   "execution_count": 21,
   "metadata": {},
   "outputs": [],
   "source": [
    "def confusionMatrix(y_true, y_pred):\n",
    "    target_names = ['Non-binder', 'Binder']\n",
    "    print(classification_report(y_true, y_pred, target_names=target_names))\n",
    "    cm = pd.DataFrame(confusion_matrix(y_true, y_pred), index=target_names, columns=target_names)\n",
    "    plt.figure(figsize=(6,4))\n",
    "    sns.heatmap(cm, annot=True, fmt='g')\n",
    "    plt.title('Confusion matrix')\n",
    "    plt.xlabel('Predicted values')\n",
    "    plt.ylabel('Actual values')\n",
    "    plt.show()"
   ]
  },
  {
   "cell_type": "code",
   "execution_count": 22,
   "metadata": {},
   "outputs": [],
   "source": [
    "def model_run(algo, pX_res, py_res, pX_test, py_test):\n",
    "\n",
    "    algo.fit(pX_res, np.ravel(py_res))\n",
    "    y_pred = algo.predict(pX_test)\n",
    "    y_pred_proba = algo.predict_proba(pX_test)[:,1]\n",
    "    \n",
    "    accuracy = accuracy_score(py_test, y_pred).ravel()\n",
    "    classify_metrics = classification_report(py_test, y_pred)\n",
    "    f1 = f1_score(py_test, y_pred).ravel()\n",
    "    \n",
    "    fpr, tpr, thresholds = roc_curve(py_test, y_pred_proba)\n",
    "    auc_score = auc(fpr, tpr)\n",
    "    tn, fp, fn, tp = confusion_matrix(py_test, y_pred).ravel()\n",
    "    confusionMatrix(py_test, y_pred)\n",
    "    \n",
    "    print (algo)\n",
    "    print (\"Accuracy score        : \", accuracy)\n",
    "    print (\"F1 score              : \", f1)\n",
    "    print (\"AUC                   : \", auc_score)\n",
    "    print ('Sensitivity (TPR)     : ', tp/(tp+fn))\n",
    "    print ('Specificity (TNR)     : ', tn/(tn+fp))\n",
    "    print (\"classification report :\\n\", classify_metrics)\n",
    "    \n",
    "    return accuracy, classify_metrics, fpr , tpr, auc_score, f1"
   ]
  },
  {
   "cell_type": "code",
   "execution_count": 39,
   "metadata": {},
   "outputs": [
    {
     "name": "stdout",
     "output_type": "stream",
     "text": [
      "              precision    recall  f1-score   support\n",
      "\n",
      "  Non-binder       0.95      0.87      0.90    263660\n",
      "      Binder       0.09      0.20      0.12     16337\n",
      "\n",
      "    accuracy                           0.83    279997\n",
      "   macro avg       0.52      0.53      0.51    279997\n",
      "weighted avg       0.90      0.83      0.86    279997\n",
      "\n"
     ]
    },
    {
     "data": {
      "image/png": "[encoded data removed]",
      "text/plain": [
       "<Figure size 600x400 with 2 Axes>"
      ]
     },
     "metadata": {},
     "output_type": "display_data"
    },
    {
     "name": "stdout",
     "output_type": "stream",
     "text": [
      "Accuracy score  :  0.8278302981817662\n",
      "Sensitivity (TPR):  0.1998530942033421\n",
      "Specificity (TNR):  0.8667412576803459\n",
      "AUC :  0.7764595855765337\n"
     ]
    },
    {
     "data": {
      "image/png": "[encoded data removed]",
      "text/plain": [
       "<Figure size 640x480 with 1 Axes>"
      ]
     },
     "metadata": {},
     "output_type": "display_data"
    }
   ],
   "source": [
    "model_rf = lst_tunning_models[0][1]\n",
    "\n",
    "y_rf_test_proba = model_rf.predict_proba(pX_test_rf)\n",
    "df_test_rf = pd.DataFrame(data = y_rf_test_proba, columns = [\"tmp\", \"predict_proba\"])\n",
    "\n",
    "df_test_rf = df_test_rf[[\"predict_proba\"]]\n",
    "df_prob_test_rf = pd.concat([test_trb, df_test_rf], axis=1)\n",
    "df_prob_test_rf['binder_pred'] = np.where(df_prob_test_rf['predict_proba'] >= 0.5, 1, 0)\n",
    "\n",
    "y_test02 = py_test_rf[\"binder\"].to_numpy()\n",
    "y_test02_pred = df_prob_test_rf[\"binder_pred\"].to_numpy()\n",
    "\n",
    "confusionMatrix(y_test02, y_test02_pred)\n",
    "\n",
    "tn02, fp02, fn02, tp02 = confusion_matrix(y_test02, y_test02_pred).ravel()\n",
    "accuracy02 = float(accuracy_score(y_test02, y_test02_pred).ravel())\n",
    "sensitivity02 = tp02/(tp02+fn02)\n",
    "specificity02 = tn02/(tn02+fp02)\n",
    "auc02 = metrics.roc_auc_score(y_test02, df_prob_test_rf[\"predict_proba\"])\n",
    "print (\"Accuracy score  : \", accuracy02)\n",
    "print('Sensitivity (TPR): ', sensitivity02)\n",
    "print('Specificity (TNR): ', specificity02)\n",
    "print (\"AUC : \", auc02)\n",
    "\n",
    "rocAuc(model_rf, pX_test_rf, y_test02)"
   ]
  },
  {
   "cell_type": "code",
   "execution_count": 38,
   "metadata": {
    "scrolled": false
   },
   "outputs": [
    {
     "name": "stdout",
     "output_type": "stream",
     "text": [
      "              precision    recall  f1-score   support\n",
      "\n",
      "  Non-binder       0.99      0.58      0.73      5297\n",
      "      Binder       0.02      0.56      0.04        84\n",
      "\n",
      "    accuracy                           0.58      5381\n",
      "   macro avg       0.50      0.57      0.39      5381\n",
      "weighted avg       0.97      0.58      0.72      5381\n",
      "\n"
     ]
    },
    {
     "data": {
      "image/png": "[encoded data removed]",
      "text/plain": [
       "<Figure size 600x400 with 2 Axes>"
      ]
     },
     "metadata": {},
     "output_type": "display_data"
    },
    {
     "name": "stdout",
     "output_type": "stream",
     "text": [
      "Accuracy score  :  0.5833488199219476\n",
      "Sensitivity (TPR):  0.5595238095238095\n",
      "Specificity (TNR):  0.5837266377194639\n",
      "AUC :  0.6123951562879257\n"
     ]
    },
    {
     "data": {
      "image/png": "[encoded data removed]",
      "text/plain": [
       "<Figure size 640x480 with 1 Axes>"
      ]
     },
     "metadata": {},
     "output_type": "display_data"
    }
   ],
   "source": [
    "model_rf = lst_tunning_models[0][1]\n",
    "\n",
    "y_rf_test_proba = model_rf.predict_proba(pX_test_paper)\n",
    "df_test_rf = pd.DataFrame(data = y_rf_test_proba, columns = [\"tmp\", \"predict_proba\"])\n",
    "\n",
    "df_test_rf = df_test_rf[[\"predict_proba\"]]\n",
    "df_prob_test_rf = pd.concat([test_paper_exc_epi, df_test_rf], axis=1)\n",
    "df_prob_test_rf['binder_pred'] = np.where(df_prob_test_rf['predict_proba'] >= 0.5, 1, 0)\n",
    "\n",
    "y_test02 = py_test_paper[\"binder\"].to_numpy()\n",
    "y_test02_pred = df_prob_test_rf[\"binder_pred\"].to_numpy()\n",
    "\n",
    "confusionMatrix(y_test02, y_test02_pred)\n",
    "\n",
    "tn02, fp02, fn02, tp02 = confusion_matrix(y_test02, y_test02_pred).ravel()\n",
    "accuracy02 = float(accuracy_score(y_test02, y_test02_pred).ravel())\n",
    "sensitivity02 = tp02/(tp02+fn02)\n",
    "specificity02 = tn02/(tn02+fp02)\n",
    "auc02 = metrics.roc_auc_score(y_test02, df_prob_test_rf[\"predict_proba\"])\n",
    "print (\"Accuracy score  : \", accuracy02)\n",
    "print('Sensitivity (TPR): ', sensitivity02)\n",
    "print('Specificity (TNR): ', specificity02)\n",
    "print (\"AUC : \", auc02)\n",
    "\n",
    "rocAuc(model_rf, pX_test_paper, y_test02)"
   ]
  },
  {
   "cell_type": "code",
   "execution_count": null,
   "metadata": {},
   "outputs": [],
   "source": []
  }
 ],
 "metadata": {
  "kernelspec": {
   "display_name": "Python 3",
   "language": "python",
   "name": "python3"
  },
  "language_info": {
   "codemirror_mode": {
    "name": "ipython",
    "version": 3
   },
   "file_extension": ".py",
   "mimetype": "text/x-python",
   "name": "python",
   "nbconvert_exporter": "python",
   "pygments_lexer": "ipython3",
   "version": "3.8.10"
  }
 },
 "nbformat": 4,
 "nbformat_minor": 2
}
