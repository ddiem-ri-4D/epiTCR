{
 "cells": [
  {
   "cell_type": "code",
   "execution_count": 23,
   "metadata": {},
   "outputs": [],
   "source": [
    "import numpy as np\n",
    "import time\n",
    "import pickle\n",
    "import utils as Utils\n",
    "import pandas as pd\n",
    "from sklearn import svm\n",
    "import seaborn as sns\n",
    "import matplotlib.pyplot as plt\n",
    "# import modules.model as Model\n",
    "from matplotlib.backends.backend_pdf import PdfPages\n",
    "import sklearn.metrics as metrics\n",
    "\n",
    "from sklearn.model_selection import KFold\n",
    "from sklearn.model_selection import cross_val_score\n",
    "from sklearn.model_selection import train_test_split\n",
    "from sklearn.svm import SVC\n",
    "from sklearn.pipeline import make_pipeline\n",
    "from sklearn.metrics import accuracy_score, roc_auc_score, confusion_matrix\n",
    "from sklearn.model_selection import train_test_split, cross_validate, GridSearchCV\n",
    "from sklearn.metrics import classification_report, confusion_matrix, plot_roc_curve\n",
    "from sklearn.metrics import confusion_matrix,accuracy_score,precision_score,recall_score,roc_auc_score,classification_report,roc_curve,auc, f1_score\n",
    "from sklearn.metrics import classification_report\n",
    "from sklearn.linear_model import LogisticRegression\n",
    "from sklearn.model_selection import StratifiedKFold\n",
    "from sklearn.neighbors import KNeighborsClassifier\n",
    "from sklearn.naive_bayes import BernoulliNB\n",
    "from sklearn.ensemble import RandomForestClassifier\n",
    "from sklearn.naive_bayes import GaussianNB\n",
    "import plotly.graph_objects as go\n",
    "from imblearn.over_sampling import SMOTE \n",
    "# import modules.processor as Processor\n",
    "# import modules.utils as Utils\n",
    "from imblearn.under_sampling import RandomUnderSampler\n",
    "from sklearn.svm import SVC\n",
    "import xgboost as xgb\n",
    "from xgboost import XGBClassifier\n",
    "from catboost import CatBoostClassifier\n",
    "from sklearn.ensemble import BaggingClassifier\n",
    "from sklearn.multiclass import OneVsRestClassifier\n",
    "from sklearn.preprocessing import StandardScaler\n",
    "import warnings\n",
    "warnings.simplefilter(action=\"ignore\", category=FutureWarning)\n",
    "\n",
    "from tqdm import tqdm\n",
    "import processor as Processor"
   ]
  },
  {
   "cell_type": "code",
   "execution_count": 2,
   "metadata": {
    "scrolled": true
   },
   "outputs": [],
   "source": [
    "# !pip3 install xgboost"
   ]
  },
  {
   "cell_type": "code",
   "execution_count": 3,
   "metadata": {},
   "outputs": [],
   "source": [
    "train_trb = pd.read_csv(\"./data_final/train_trb.csv\")\n",
    "test_trb = pd.read_csv(\"./data_final/test_trb.csv\")"
   ]
  },
  {
   "cell_type": "code",
   "execution_count": 4,
   "metadata": {},
   "outputs": [],
   "source": [
    "train_trb_case1_rf_20 = pd.read_csv(\"./data_final/train_trb_case1_rf_20.csv\",)\n",
    "test_trb_case1_cb_60  = pd.read_csv(\"./data_final/test_trb_case1_cb_60.csv\", )\n",
    "train_trb_case2_rf_20 = pd.read_csv(\"./data_final/train_trb_case2_rf_20.csv\",)\n",
    "test_trb_case2_cb_60  = pd.read_csv(\"./data_final/test_trb_case2_cb_60.csv\", )\n",
    "train_trb_case3_rf_20 = pd.read_csv(\"./data_final/train_trb_case3_rf_20.csv\",)\n",
    "test_trb_case3_cb_60  = pd.read_csv(\"./data_final/test_trb_case3_cb_60.csv\", )"
   ]
  },
  {
   "cell_type": "code",
   "execution_count": 5,
   "metadata": {},
   "outputs": [
    {
     "data": {
      "text/plain": [
       "0    936340\n",
       "1     84878\n",
       "Name: binder, dtype: int64"
      ]
     },
     "execution_count": 5,
     "metadata": {},
     "output_type": "execute_result"
    }
   ],
   "source": [
    "train_trb.binder.value_counts()"
   ]
  },
  {
   "cell_type": "code",
   "execution_count": 6,
   "metadata": {},
   "outputs": [],
   "source": [
    "nm = RandomUnderSampler(random_state=42)\n",
    "X_res, y_res = nm.fit_resample(train_trb[[\"CDR3b\", \"epitope\"]], train_trb[[\"binder\"]])"
   ]
  },
  {
   "cell_type": "code",
   "execution_count": 7,
   "metadata": {},
   "outputs": [
    {
     "data": {
      "text/plain": [
       "((169756, 2), (169756, 1))"
      ]
     },
     "execution_count": 7,
     "metadata": {},
     "output_type": "execute_result"
    }
   ],
   "source": [
    "X_res.shape, y_res.shape"
   ]
  },
  {
   "cell_type": "code",
   "execution_count": 8,
   "metadata": {},
   "outputs": [],
   "source": [
    "pX_res = Processor.data_representation_blosum62(X_res)\n",
    "py_res = y_res.copy()\n",
    "\n",
    "pX_test = Processor.data_representation_blosum62(test_trb)\n",
    "py_test = test_trb[[\"binder\"]]"
   ]
  },
  {
   "cell_type": "code",
   "execution_count": 9,
   "metadata": {},
   "outputs": [
    {
     "name": "stdout",
     "output_type": "stream",
     "text": [
      "(169756, 600) (169756, 1)\n",
      "(279997, 600) (279997, 1)\n"
     ]
    }
   ],
   "source": [
    "print(pX_res.shape, py_res.shape)\n",
    "print(pX_test.shape, py_test.shape)"
   ]
  },
  {
   "cell_type": "code",
   "execution_count": 10,
   "metadata": {},
   "outputs": [],
   "source": [
    "lst_models = [\n",
    "#     ('Logistic Regression - [solver: lbfgs]', LogisticRegression(solver='lbfgs')),\n",
    "#     ('Logistic Regression - [solver: liblinear]', LogisticRegression(solver='liblinear')),\n",
    "#     ('Logistic Regression - [solver: newton-cg]', LogisticRegression(solver='newton-cg')),\n",
    "#     ('KNN - [n_neighbors: 2]', KNeighborsClassifier(n_neighbors=2)),\n",
    "#     ('KNN - [n_neighbors: 3]', KNeighborsClassifier(n_neighbors=3)),\n",
    "#     ('SVC - [kernel: linear]', SVC(kernel='linear', random_state=42)),\n",
    "#     ('SVC - [kernel: poly]', SVC(kernel='poly', random_state=42)),\n",
    "#     ('SVC - [kernel: rbf]', SVC(kernel='rbf', random_state=42)),\n",
    "#     ('SVC - [kernel: sigmoid]', SVC(kernel='sigmoid', random_state=42)),\n",
    "#     ('Bernoulli', BernoulliNB()),\n",
    "    ('Random Forest', RandomForestClassifier(random_state=42, n_jobs=-1)),\n",
    "#     ('XGBoost', XGBClassifier(eval_metric='mlogloss'))\n",
    "]\n",
    "\n",
    "cv = StratifiedKFold(n_splits=5, shuffle=True, random_state=42)"
   ]
  },
  {
   "cell_type": "code",
   "execution_count": 11,
   "metadata": {},
   "outputs": [],
   "source": [
    "def train(lst_models, X, y, cv):\n",
    "    res_table = []\n",
    "    for mdl_name, model in tqdm(lst_models):\n",
    "        tic = time.time()\n",
    "        cv_res = cross_validate(model, X, y, cv=cv, return_train_score=True, scoring=['accuracy', 'roc_auc'], n_jobs=-1)\n",
    "        res_table.append([mdl_name, \n",
    "                          cv_res['train_accuracy'].mean(), \n",
    "                          cv_res['test_accuracy'].mean(), \n",
    "                          np.abs(cv_res['train_accuracy'].mean() - cv_res['test_accuracy'].mean()),\n",
    "                          cv_res['train_accuracy'].std(),\n",
    "                          cv_res['test_accuracy'].std(),\n",
    "                          cv_res['train_roc_auc'].mean(),\n",
    "                          cv_res['test_roc_auc'].mean(),\n",
    "                          np.abs(cv_res['train_roc_auc'].mean() - cv_res['test_roc_auc'].mean()),\n",
    "                          cv_res['train_roc_auc'].std(),\n",
    "                          cv_res['test_roc_auc'].std(),\n",
    "                          cv_res['fit_time'].mean()\n",
    "        ])\n",
    "        toc = time.time()\n",
    "        print('\\tModel {} has been trained in {:,.2f} seconds'.format(mdl_name, (toc - tic)))\n",
    "    \n",
    "    res_table = pd.DataFrame(res_table, columns=['model', 'train_acc', 'test_acc', 'diff_acc',\n",
    "                                                 'train_acc_std', 'test_acc_std', 'train_roc_auc', 'test_roc_auc',\n",
    "                                                 'diff_roc_auc', 'train_roc_auc_std', 'test_roc_auc_std', 'fit_time'])\n",
    "    res_table.sort_values(by=['test_acc', 'test_roc_auc'], ascending=False, inplace=True)\n",
    "\n",
    "    return res_table.reset_index(drop=True)"
   ]
  },
  {
   "cell_type": "code",
   "execution_count": 12,
   "metadata": {},
   "outputs": [
    {
     "name": "stderr",
     "output_type": "stream",
     "text": [
      "100%|██████████| 1/1 [00:30<00:00, 30.82s/it]"
     ]
    },
    {
     "name": "stdout",
     "output_type": "stream",
     "text": [
      "\tModel Random Forest has been trained in 30.81 seconds\n"
     ]
    },
    {
     "name": "stderr",
     "output_type": "stream",
     "text": [
      "\n"
     ]
    },
    {
     "data": {
      "text/html": [
       "<div>\n",
       "<style scoped>\n",
       "    .dataframe tbody tr th:only-of-type {\n",
       "        vertical-align: middle;\n",
       "    }\n",
       "\n",
       "    .dataframe tbody tr th {\n",
       "        vertical-align: top;\n",
       "    }\n",
       "\n",
       "    .dataframe thead th {\n",
       "        text-align: right;\n",
       "    }\n",
       "</style>\n",
       "<table border=\"1\" class=\"dataframe\">\n",
       "  <thead>\n",
       "    <tr style=\"text-align: right;\">\n",
       "      <th></th>\n",
       "      <th>model</th>\n",
       "      <th>train_acc</th>\n",
       "      <th>test_acc</th>\n",
       "      <th>diff_acc</th>\n",
       "      <th>train_acc_std</th>\n",
       "      <th>test_acc_std</th>\n",
       "      <th>train_roc_auc</th>\n",
       "      <th>test_roc_auc</th>\n",
       "      <th>diff_roc_auc</th>\n",
       "      <th>train_roc_auc_std</th>\n",
       "      <th>test_roc_auc_std</th>\n",
       "      <th>fit_time</th>\n",
       "    </tr>\n",
       "  </thead>\n",
       "  <tbody>\n",
       "    <tr>\n",
       "      <th>0</th>\n",
       "      <td>Random Forest</td>\n",
       "      <td>0.999997</td>\n",
       "      <td>0.947919</td>\n",
       "      <td>0.052078</td>\n",
       "      <td>0.000006</td>\n",
       "      <td>0.001277</td>\n",
       "      <td>1.0</td>\n",
       "      <td>0.988909</td>\n",
       "      <td>0.011091</td>\n",
       "      <td>2.602614e-10</td>\n",
       "      <td>0.000494</td>\n",
       "      <td>12.041636</td>\n",
       "    </tr>\n",
       "  </tbody>\n",
       "</table>\n",
       "</div>"
      ],
      "text/plain": [
       "           model  train_acc  test_acc  diff_acc  train_acc_std  test_acc_std  \\\n",
       "0  Random Forest   0.999997  0.947919  0.052078       0.000006      0.001277   \n",
       "\n",
       "   train_roc_auc  test_roc_auc  diff_roc_auc  train_roc_auc_std  \\\n",
       "0            1.0      0.988909      0.011091       2.602614e-10   \n",
       "\n",
       "   test_roc_auc_std   fit_time  \n",
       "0          0.000494  12.041636  "
      ]
     },
     "execution_count": 12,
     "metadata": {},
     "output_type": "execute_result"
    }
   ],
   "source": [
    "original_models = train(lst_models, pX_res, np.ravel(py_res), cv)\n",
    "original_models"
   ]
  },
  {
   "cell_type": "code",
   "execution_count": 13,
   "metadata": {},
   "outputs": [],
   "source": [
    "lst_tunning_models = [\n",
    "     ('Random Forest', RandomForestClassifier(random_state=42, n_jobs=-1), {\n",
    "        'bootstrap': [True, False],\n",
    "        'max_depth': [10, 20, 30, 40, 50, 60, 70, 80, 90, 100, None],\n",
    "        'max_features': [\"auto\", \"sqrt\", \"log2\", 5, 10, 15, 20],\n",
    "        'min_samples_leaf': [1, 2, 4],\n",
    "        'n_estimators': [200, 400, 600, 800, 1000]})]\n",
    "\n",
    "def trainTunningModel(lst_models, X, y, cv):\n",
    "    models_final = []\n",
    "    for model_name, model, params in tqdm(lst_models):\n",
    "        tic     = time.time()\n",
    "        search = GridSearchCV(estimator=model, param_grid=params, cv=cv, scoring='accuracy', n_jobs=-1)\n",
    "        search.fit(X, y)\n",
    "        model_tunned = model.set_params(**search.best_params_)\n",
    "        models_final.append((model_name, model_tunned))\n",
    "        toc = time.time()\n",
    "        print('Model {} has been tunned in {:,.2f} seconds'.format(model_name, (toc - tic)))\n",
    "\n",
    "    return models_final"
   ]
  },
  {
   "cell_type": "code",
   "execution_count": 14,
   "metadata": {},
   "outputs": [],
   "source": [
    "# lst_tunning_models = trainTunningModel(lst_tunning_models, pX_res, np.ravel(py_res), cv)\n",
    "# lst_tunning_models"
   ]
  },
  {
   "cell_type": "code",
   "execution_count": 15,
   "metadata": {},
   "outputs": [],
   "source": [
    "lst_tunning_models = lst_models"
   ]
  },
  {
   "cell_type": "code",
   "execution_count": 16,
   "metadata": {},
   "outputs": [],
   "source": [
    "def evaluation(tunning_models, X_train, y_train, X_test, y_test):\n",
    "    res = []\n",
    "    for name, model in tqdm(tunning_models):\n",
    "        model.fit(X_train, y_train)\n",
    "        y_train_pred = model.predict(X_train)\n",
    "        y_test_pred = model.predict(X_test)\n",
    "        train_acc = accuracy_score(y_train, y_train_pred)\n",
    "        test_acc = accuracy_score(y_test, y_test_pred)\n",
    "        train_roc_auc = roc_auc_score(y_train, y_train_pred)\n",
    "        test_roc_auc = roc_auc_score(y_test, y_test_pred)\n",
    "        res.append([name, train_acc, test_acc, train_roc_auc, test_roc_auc])\n",
    "        \n",
    "    res = pd.DataFrame(res, columns=['model', 'train_acc', 'test_acc', 'train_roc_auc', 'test_roc_auc'])\n",
    "    res.sort_values(by=['test_acc', 'test_roc_auc'], ascending=False, inplace=True)\n",
    "    \n",
    "    return res.reset_index(drop=True)"
   ]
  },
  {
   "cell_type": "code",
   "execution_count": 17,
   "metadata": {},
   "outputs": [
    {
     "name": "stderr",
     "output_type": "stream",
     "text": [
      "100%|██████████| 1/1 [00:10<00:00, 10.39s/it]\n"
     ]
    },
    {
     "data": {
      "text/html": [
       "<div>\n",
       "<style scoped>\n",
       "    .dataframe tbody tr th:only-of-type {\n",
       "        vertical-align: middle;\n",
       "    }\n",
       "\n",
       "    .dataframe tbody tr th {\n",
       "        vertical-align: top;\n",
       "    }\n",
       "\n",
       "    .dataframe thead th {\n",
       "        text-align: right;\n",
       "    }\n",
       "</style>\n",
       "<table border=\"1\" class=\"dataframe\">\n",
       "  <thead>\n",
       "    <tr style=\"text-align: right;\">\n",
       "      <th></th>\n",
       "      <th>model</th>\n",
       "      <th>train_acc</th>\n",
       "      <th>test_acc</th>\n",
       "      <th>train_roc_auc</th>\n",
       "      <th>test_roc_auc</th>\n",
       "    </tr>\n",
       "  </thead>\n",
       "  <tbody>\n",
       "    <tr>\n",
       "      <th>0</th>\n",
       "      <td>Random Forest</td>\n",
       "      <td>1.0</td>\n",
       "      <td>0.843095</td>\n",
       "      <td>1.0</td>\n",
       "      <td>0.537268</td>\n",
       "    </tr>\n",
       "  </tbody>\n",
       "</table>\n",
       "</div>"
      ],
      "text/plain": [
       "           model  train_acc  test_acc  train_roc_auc  test_roc_auc\n",
       "0  Random Forest        1.0  0.843095            1.0      0.537268"
      ]
     },
     "execution_count": 17,
     "metadata": {},
     "output_type": "execute_result"
    }
   ],
   "source": [
    "best_models = evaluation(lst_tunning_models, pX_res, np.ravel(py_res), pX_test, py_test)\n",
    "best_models"
   ]
  },
  {
   "cell_type": "code",
   "execution_count": 18,
   "metadata": {},
   "outputs": [],
   "source": [
    "def confusionMatrix(y_true, y_pred):\n",
    "    target_names = ['Non-binder', 'Binder']\n",
    "    print(classification_report(y_true, y_pred, target_names=target_names))\n",
    "    cm = pd.DataFrame(confusion_matrix(y_true, y_pred), index=target_names, columns=target_names)\n",
    "    plt.figure(figsize=(6,4))\n",
    "    sns.heatmap(cm, annot=True, fmt='g')\n",
    "    plt.title('Confusion matrix')\n",
    "    plt.xlabel('Predicted values')\n",
    "    plt.ylabel('Actual values')\n",
    "    plt.show()"
   ]
  },
  {
   "cell_type": "code",
   "execution_count": 19,
   "metadata": {},
   "outputs": [],
   "source": [
    "def model_run(algo, pX_res, py_res, pX_test, py_test):\n",
    "\n",
    "    algo.fit(pX_res, np.ravel(py_res))\n",
    "    y_pred = algo.predict(pX_test)\n",
    "    y_pred_proba = algo.predict_proba(pX_test)[:,1]\n",
    "    \n",
    "    accuracy = accuracy_score(py_test, y_pred).ravel()\n",
    "    classify_metrics = classification_report(py_test, y_pred)\n",
    "    f1 = f1_score(py_test, y_pred).ravel()\n",
    "    \n",
    "    fpr, tpr, thresholds = roc_curve(py_test, y_pred_proba)\n",
    "    auc_score = auc(fpr, tpr)\n",
    "    tn, fp, fn, tp = confusion_matrix(py_test, y_pred).ravel()\n",
    "    confusionMatrix(py_test, y_pred)\n",
    "    \n",
    "    print (algo)\n",
    "    print (\"Accuracy score        : \", accuracy)\n",
    "    print (\"F1 score              : \", f1)\n",
    "    print (\"AUC                   : \", auc_score)\n",
    "    print ('Sensitivity (TPR)     : ', tp/(tp+fn))\n",
    "    print ('Specificity (TNR)     : ', tn/(tn+fp))\n",
    "    print (\"classification report :\\n\", classify_metrics)\n",
    "    \n",
    "    return accuracy, classify_metrics, fpr , tpr, auc_score, f1"
   ]
  },
  {
   "cell_type": "code",
   "execution_count": 21,
   "metadata": {},
   "outputs": [
    {
     "name": "stdout",
     "output_type": "stream",
     "text": [
      "              precision    recall  f1-score   support\n",
      "\n",
      "  Non-binder       0.95      0.88      0.91    263660\n",
      "      Binder       0.09      0.19      0.12     16337\n",
      "\n",
      "    accuracy                           0.84    279997\n",
      "   macro avg       0.52      0.54      0.52    279997\n",
      "weighted avg       0.90      0.84      0.87    279997\n",
      "\n"
     ]
    },
    {
     "data": {
      "image/png": "[encoded data removed]",
      "text/plain": [
       "<Figure size 600x400 with 2 Axes>"
      ]
     },
     "metadata": {},
     "output_type": "display_data"
    },
    {
     "name": "stdout",
     "output_type": "stream",
     "text": [
      "RandomForestClassifier(n_jobs=-1, random_state=42)\n",
      "Accuracy score        :  [0.84309475]\n",
      "F1 score              :  [0.12440458]\n",
      "AUC                   :  0.7764595855765337\n",
      "Sensitivity (TPR)     :  0.19103874640386853\n",
      "Specificity (TNR)     :  0.8834976864143215\n",
      "classification report :\n",
      "               precision    recall  f1-score   support\n",
      "\n",
      "           0       0.95      0.88      0.91    263660\n",
      "           1       0.09      0.19      0.12     16337\n",
      "\n",
      "    accuracy                           0.84    279997\n",
      "   macro avg       0.52      0.54      0.52    279997\n",
      "weighted avg       0.90      0.84      0.87    279997\n",
      "\n"
     ]
    }
   ],
   "source": [
    "model_rf = lst_tunning_models[0][1]\n",
    "\n",
    "accuracy, metrics, fpr , tpr, auc_score, f1 = model_run(model_rf, pX_res, py_res, pX_test, py_test)"
   ]
  },
  {
   "cell_type": "code",
   "execution_count": null,
   "metadata": {},
   "outputs": [],
   "source": []
  }
 ],
 "metadata": {
  "kernelspec": {
   "display_name": "Python 3",
   "language": "python",
   "name": "python3"
  },
  "language_info": {
   "codemirror_mode": {
    "name": "ipython",
    "version": 3
   },
   "file_extension": ".py",
   "mimetype": "text/x-python",
   "name": "python",
   "nbconvert_exporter": "python",
   "pygments_lexer": "ipython3",
   "version": "3.8.10"
  }
 },
 "nbformat": 4,
 "nbformat_minor": 2
}
